{
 "cells": [
  {
   "cell_type": "code",
   "execution_count": 1,
   "metadata": {
    "collapsed": false
   },
   "outputs": [],
   "source": [
    "%matplotlib inline\n",
    "import pandas as pd"
   ]
  },
  {
   "cell_type": "code",
   "execution_count": 2,
   "metadata": {
    "collapsed": false
   },
   "outputs": [
    {
     "data": {
      "text/html": [
       "<style>body {\n",
       "    margin: 0;\n",
       "    font-family: Helvetica;\n",
       "}\n",
       "table.dataframe {\n",
       "    border-collapse: collapse;\n",
       "    border: none;\n",
       "}\n",
       "table.dataframe tr {\n",
       "    border: none;\n",
       "}\n",
       "table.dataframe td, table.dataframe th {\n",
       "    margin: 0;\n",
       "    border: 1px solid white;\n",
       "    padding-left: 0.25em;\n",
       "    padding-right: 0.25em;\n",
       "}\n",
       "table.dataframe th:not(:empty) {\n",
       "    background-color: #fec;\n",
       "    text-align: left;\n",
       "    font-weight: normal;\n",
       "}\n",
       "table.dataframe tr:nth-child(2) th:empty {\n",
       "    border-left: none;\n",
       "    border-right: 1px dashed #888;\n",
       "}\n",
       "table.dataframe td {\n",
       "    border: 2px solid #ccf;\n",
       "    background-color: #f4f4ff;\n",
       "}\n",
       "h3 {\n",
       "    color: white;\n",
       "    background-color: black;\n",
       "    padding: 0.5em;\n",
       "}\n",
       "</style>"
      ],
      "text/plain": [
       "<IPython.core.display.HTML object>"
      ]
     },
     "execution_count": 2,
     "metadata": {},
     "output_type": "execute_result"
    }
   ],
   "source": [
    "from IPython.core.display import HTML\n",
    "css = open('style-table.css').read() + open('style-notebook.css').read()\n",
    "HTML('<style>{}</style>'.format(css))"
   ]
  },
  {
   "cell_type": "code",
   "execution_count": 3,
   "metadata": {
    "collapsed": false
   },
   "outputs": [
    {
     "data": {
      "text/html": [
       "<div>\n",
       "<table border=\"1\" class=\"dataframe\">\n",
       "  <thead>\n",
       "    <tr style=\"text-align: right;\">\n",
       "      <th></th>\n",
       "      <th>title</th>\n",
       "      <th>year</th>\n",
       "    </tr>\n",
       "  </thead>\n",
       "  <tbody>\n",
       "    <tr>\n",
       "      <th>0</th>\n",
       "      <td>The Rising Son</td>\n",
       "      <td>1990</td>\n",
       "    </tr>\n",
       "    <tr>\n",
       "      <th>1</th>\n",
       "      <td>The Thousand Plane Raid</td>\n",
       "      <td>1969</td>\n",
       "    </tr>\n",
       "    <tr>\n",
       "      <th>2</th>\n",
       "      <td>The Spider and the Fly</td>\n",
       "      <td>1949</td>\n",
       "    </tr>\n",
       "    <tr>\n",
       "      <th>3</th>\n",
       "      <td>Country</td>\n",
       "      <td>2000</td>\n",
       "    </tr>\n",
       "    <tr>\n",
       "      <th>4</th>\n",
       "      <td>Gaiking II</td>\n",
       "      <td>2011</td>\n",
       "    </tr>\n",
       "  </tbody>\n",
       "</table>\n",
       "</div>"
      ],
      "text/plain": [
       "                     title  year\n",
       "0           The Rising Son  1990\n",
       "1  The Thousand Plane Raid  1969\n",
       "2   The Spider and the Fly  1949\n",
       "3                  Country  2000\n",
       "4               Gaiking II  2011"
      ]
     },
     "execution_count": 3,
     "metadata": {},
     "output_type": "execute_result"
    }
   ],
   "source": [
    "titles = pd.DataFrame.from_csv('data/titles.csv', index_col=None)\n",
    "titles.head()"
   ]
  },
  {
   "cell_type": "code",
   "execution_count": 4,
   "metadata": {
    "collapsed": false
   },
   "outputs": [
    {
     "data": {
      "text/html": [
       "<div>\n",
       "<table border=\"1\" class=\"dataframe\">\n",
       "  <thead>\n",
       "    <tr style=\"text-align: right;\">\n",
       "      <th></th>\n",
       "      <th>title</th>\n",
       "      <th>year</th>\n",
       "      <th>name</th>\n",
       "      <th>type</th>\n",
       "      <th>character</th>\n",
       "      <th>n</th>\n",
       "    </tr>\n",
       "  </thead>\n",
       "  <tbody>\n",
       "    <tr>\n",
       "      <th>0</th>\n",
       "      <td>Closet Monster</td>\n",
       "      <td>2015</td>\n",
       "      <td>Buffy #1</td>\n",
       "      <td>actor</td>\n",
       "      <td>Buffy 4</td>\n",
       "      <td>31.0</td>\n",
       "    </tr>\n",
       "    <tr>\n",
       "      <th>1</th>\n",
       "      <td>Suuri illusioni</td>\n",
       "      <td>1985</td>\n",
       "      <td>Homo $</td>\n",
       "      <td>actor</td>\n",
       "      <td>Guests</td>\n",
       "      <td>22.0</td>\n",
       "    </tr>\n",
       "    <tr>\n",
       "      <th>2</th>\n",
       "      <td>Battle of the Sexes</td>\n",
       "      <td>2017</td>\n",
       "      <td>$hutter</td>\n",
       "      <td>actor</td>\n",
       "      <td>Bobby Riggs Fan</td>\n",
       "      <td>10.0</td>\n",
       "    </tr>\n",
       "    <tr>\n",
       "      <th>3</th>\n",
       "      <td>Secret in Their Eyes</td>\n",
       "      <td>2015</td>\n",
       "      <td>$hutter</td>\n",
       "      <td>actor</td>\n",
       "      <td>2002 Dodger Fan</td>\n",
       "      <td>NaN</td>\n",
       "    </tr>\n",
       "    <tr>\n",
       "      <th>4</th>\n",
       "      <td>Steve Jobs</td>\n",
       "      <td>2015</td>\n",
       "      <td>$hutter</td>\n",
       "      <td>actor</td>\n",
       "      <td>1988 Opera House Patron</td>\n",
       "      <td>NaN</td>\n",
       "    </tr>\n",
       "  </tbody>\n",
       "</table>\n",
       "</div>"
      ],
      "text/plain": [
       "                  title  year      name   type                character     n\n",
       "0        Closet Monster  2015  Buffy #1  actor                  Buffy 4  31.0\n",
       "1       Suuri illusioni  1985    Homo $  actor                   Guests  22.0\n",
       "2   Battle of the Sexes  2017   $hutter  actor          Bobby Riggs Fan  10.0\n",
       "3  Secret in Their Eyes  2015   $hutter  actor          2002 Dodger Fan   NaN\n",
       "4            Steve Jobs  2015   $hutter  actor  1988 Opera House Patron   NaN"
      ]
     },
     "execution_count": 4,
     "metadata": {},
     "output_type": "execute_result"
    }
   ],
   "source": [
    "cast = pd.DataFrame.from_csv('data/cast.csv', index_col=None)\n",
    "cast.head()"
   ]
  },
  {
   "cell_type": "markdown",
   "metadata": {
    "collapsed": true
   },
   "source": [
    "### What are the ten most common movie names of all time?"
   ]
  },
  {
   "cell_type": "code",
   "execution_count": 6,
   "metadata": {
    "collapsed": false
   },
   "outputs": [
    {
     "data": {
      "text/plain": [
       "count     236963\n",
       "unique    216480\n",
       "top       Hamlet\n",
       "freq          20\n",
       "Name: title, dtype: object"
      ]
     },
     "execution_count": 6,
     "metadata": {},
     "output_type": "execute_result"
    }
   ],
   "source": [
    "titles.title.describe()"
   ]
  },
  {
   "cell_type": "code",
   "execution_count": 7,
   "metadata": {
    "collapsed": true
   },
   "outputs": [],
   "source": [
    "#Hamlet is the top most frequent value. 20 movies."
   ]
  },
  {
   "cell_type": "markdown",
   "metadata": {
    "collapsed": true
   },
   "source": [
    "### Which three years of the 1930s saw the most films released?"
   ]
  },
  {
   "cell_type": "code",
   "execution_count": 12,
   "metadata": {
    "collapsed": false
   },
   "outputs": [],
   "source": [
    "thirties = titles[titles.year.between(1930,1940,inclusive = True)]"
   ]
  },
  {
   "cell_type": "code",
   "execution_count": 41,
   "metadata": {
    "collapsed": false
   },
   "outputs": [
    {
     "data": {
      "text/plain": [
       "1937    1200\n",
       "1936    1138\n",
       "1938    1135\n",
       "1939    1086\n",
       "1935    1057\n",
       "1940    1003\n",
       "1934     977\n",
       "1932     941\n",
       "1933     900\n",
       "1931     884\n",
       "1930     824\n",
       "Name: year, dtype: int64"
      ]
     },
     "execution_count": 41,
     "metadata": {},
     "output_type": "execute_result"
    }
   ],
   "source": [
    "thirties.year.value_counts()"
   ]
  },
  {
   "cell_type": "code",
   "execution_count": 40,
   "metadata": {
    "collapsed": false
   },
   "outputs": [
    {
     "data": {
      "text/plain": [
       "<matplotlib.axes._subplots.AxesSubplot at 0x11a847350>"
      ]
     },
     "execution_count": 40,
     "metadata": {},
     "output_type": "execute_result"
    },
    {
     "data": {
      "image/png": "[encoded data removed]",
      "text/plain": [
       "<matplotlib.figure.Figure at 0x119bfae90>"
      ]
     },
     "metadata": {},
     "output_type": "display_data"
    }
   ],
   "source": [
    "thirties.year.value_counts().sort_index().plot()"
   ]
  },
  {
   "cell_type": "markdown",
   "metadata": {
    "collapsed": true
   },
   "source": [
    "### Plot the number of films that have been released each decade over the history of cinema."
   ]
  },
  {
   "cell_type": "code",
   "execution_count": 22,
   "metadata": {
    "collapsed": true
   },
   "outputs": [],
   "source": [
    "filmsbydecade = titles"
   ]
  },
  {
   "cell_type": "code",
   "execution_count": 50,
   "metadata": {
    "collapsed": false
   },
   "outputs": [],
   "source": [
    "filmsbydecade.year = filmsbydecade.year//10*10"
   ]
  },
  {
   "cell_type": "code",
   "execution_count": 56,
   "metadata": {
    "collapsed": false
   },
   "outputs": [],
   "source": [
    "filmbydec = filmsbydecade.year.value_counts().sort_index()"
   ]
  },
  {
   "cell_type": "code",
   "execution_count": 71,
   "metadata": {
    "collapsed": false
   },
   "outputs": [
    {
     "data": {
      "text/plain": [
       "<matplotlib.axes._subplots.AxesSubplot at 0x115a33650>"
      ]
     },
     "execution_count": 71,
     "metadata": {},
     "output_type": "execute_result"
    },
    {
     "data": {
      "image/png": "[encoded data removed]",
      "text/plain": [
       "<matplotlib.figure.Figure at 0x115a04fd0>"
      ]
     },
     "metadata": {},
     "output_type": "display_data"
    }
   ],
   "source": [
    "filmbydec[0:-2].plot()"
   ]
  },
  {
   "cell_type": "markdown",
   "metadata": {
    "collapsed": true
   },
   "source": [
    "### Plot the number of \"Hamlet\" films made each decade."
   ]
  },
  {
   "cell_type": "code",
   "execution_count": 76,
   "metadata": {
    "collapsed": false
   },
   "outputs": [],
   "source": [
    "hambydec = filmsbydecade[filmsbydecade.title.str.startswith(\"Hamlet\")]"
   ]
  },
  {
   "cell_type": "code",
   "execution_count": 78,
   "metadata": {
    "collapsed": false
   },
   "outputs": [
    {
     "data": {
      "text/html": [
       "<div>\n",
       "<table border=\"1\" class=\"dataframe\">\n",
       "  <thead>\n",
       "    <tr style=\"text-align: right;\">\n",
       "      <th></th>\n",
       "      <th>title</th>\n",
       "      <th>year</th>\n",
       "    </tr>\n",
       "  </thead>\n",
       "  <tbody>\n",
       "    <tr>\n",
       "      <th>6120</th>\n",
       "      <td>Hamlet</td>\n",
       "      <td>1940</td>\n",
       "    </tr>\n",
       "    <tr>\n",
       "      <th>7823</th>\n",
       "      <td>Hamlet: Prince of Denmark</td>\n",
       "      <td>1980</td>\n",
       "    </tr>\n",
       "    <tr>\n",
       "      <th>8749</th>\n",
       "      <td>Hamlet (II)</td>\n",
       "      <td>2000</td>\n",
       "    </tr>\n",
       "    <tr>\n",
       "      <th>9046</th>\n",
       "      <td>Hamlet (II)</td>\n",
       "      <td>2010</td>\n",
       "    </tr>\n",
       "    <tr>\n",
       "      <th>9181</th>\n",
       "      <td>Hamlet. Comedy</td>\n",
       "      <td>2010</td>\n",
       "    </tr>\n",
       "    <tr>\n",
       "      <th>15466</th>\n",
       "      <td>Hamlet Unbound</td>\n",
       "      <td>2010</td>\n",
       "    </tr>\n",
       "    <tr>\n",
       "      <th>15486</th>\n",
       "      <td>Hamlet: The Fall of a Sparrow</td>\n",
       "      <td>2010</td>\n",
       "    </tr>\n",
       "    <tr>\n",
       "      <th>17735</th>\n",
       "      <td>Hamlet, Prince of Denmark</td>\n",
       "      <td>1990</td>\n",
       "    </tr>\n",
       "    <tr>\n",
       "      <th>30514</th>\n",
       "      <td>Hamlet (II)</td>\n",
       "      <td>2010</td>\n",
       "    </tr>\n",
       "    <tr>\n",
       "      <th>37876</th>\n",
       "      <td>Hamlet_X</td>\n",
       "      <td>2000</td>\n",
       "    </tr>\n",
       "  </tbody>\n",
       "</table>\n",
       "</div>"
      ],
      "text/plain": [
       "                               title  year\n",
       "6120                          Hamlet  1940\n",
       "7823       Hamlet: Prince of Denmark  1980\n",
       "8749                     Hamlet (II)  2000\n",
       "9046                     Hamlet (II)  2010\n",
       "9181                  Hamlet. Comedy  2010\n",
       "15466                 Hamlet Unbound  2010\n",
       "15486  Hamlet: The Fall of a Sparrow  2010\n",
       "17735      Hamlet, Prince of Denmark  1990\n",
       "30514                    Hamlet (II)  2010\n",
       "37876                       Hamlet_X  2000"
      ]
     },
     "execution_count": 78,
     "metadata": {},
     "output_type": "execute_result"
    }
   ],
   "source": [
    "hambydec.head(10)"
   ]
  },
  {
   "cell_type": "code",
   "execution_count": 87,
   "metadata": {
    "collapsed": false
   },
   "outputs": [
    {
     "data": {
      "text/plain": [
       "<matplotlib.axes._subplots.AxesSubplot at 0x11a1da450>"
      ]
     },
     "execution_count": 87,
     "metadata": {},
     "output_type": "execute_result"
    },
    {
     "data": {
      "image/png": "[encoded data removed]",
      "text/plain": [
       "<matplotlib.figure.Figure at 0x11a1d05d0>"
      ]
     },
     "metadata": {},
     "output_type": "display_data"
    }
   ],
   "source": [
    "hambydec.year.value_counts().sort_index().plot()"
   ]
  },
  {
   "cell_type": "markdown",
   "metadata": {
    "collapsed": true
   },
   "source": [
    "### Plot the number of \"Rustler\" characters in each decade of the history of film."
   ]
  },
  {
   "cell_type": "code",
   "execution_count": 88,
   "metadata": {
    "collapsed": true
   },
   "outputs": [],
   "source": [
    "rustler = cast[cast.character == \"Rustler\"]"
   ]
  },
  {
   "cell_type": "code",
   "execution_count": 92,
   "metadata": {
    "collapsed": false
   },
   "outputs": [],
   "source": [
    "rustler.year = rustler.year //10*10"
   ]
  },
  {
   "cell_type": "code",
   "execution_count": 97,
   "metadata": {
    "collapsed": false
   },
   "outputs": [
    {
     "data": {
      "text/html": [
       "<div>\n",
       "<table border=\"1\" class=\"dataframe\">\n",
       "  <thead>\n",
       "    <tr style=\"text-align: right;\">\n",
       "      <th></th>\n",
       "      <th>title</th>\n",
       "      <th>year</th>\n",
       "      <th>name</th>\n",
       "      <th>type</th>\n",
       "      <th>character</th>\n",
       "      <th>n</th>\n",
       "    </tr>\n",
       "  </thead>\n",
       "  <tbody>\n",
       "    <tr>\n",
       "      <th>167062</th>\n",
       "      <td>Arizona Days</td>\n",
       "      <td>1920</td>\n",
       "      <td>Hank Bell</td>\n",
       "      <td>actor</td>\n",
       "      <td>Rustler</td>\n",
       "      <td>NaN</td>\n",
       "    </tr>\n",
       "    <tr>\n",
       "      <th>304223</th>\n",
       "      <td>Border Romance</td>\n",
       "      <td>1920</td>\n",
       "      <td>Fred Burns</td>\n",
       "      <td>actor</td>\n",
       "      <td>Rustler</td>\n",
       "      <td>NaN</td>\n",
       "    </tr>\n",
       "    <tr>\n",
       "      <th>1434144</th>\n",
       "      <td>Border Romance</td>\n",
       "      <td>1920</td>\n",
       "      <td>Jim Mason</td>\n",
       "      <td>actor</td>\n",
       "      <td>Rustler</td>\n",
       "      <td>NaN</td>\n",
       "    </tr>\n",
       "    <tr>\n",
       "      <th>1488549</th>\n",
       "      <td>The Virginian</td>\n",
       "      <td>1920</td>\n",
       "      <td>Lew Meehan</td>\n",
       "      <td>actor</td>\n",
       "      <td>Rustler</td>\n",
       "      <td>NaN</td>\n",
       "    </tr>\n",
       "    <tr>\n",
       "      <th>120744</th>\n",
       "      <td>Border Romance</td>\n",
       "      <td>1920</td>\n",
       "      <td>Chuck Baldra</td>\n",
       "      <td>actor</td>\n",
       "      <td>Rustler</td>\n",
       "      <td>NaN</td>\n",
       "    </tr>\n",
       "    <tr>\n",
       "      <th>401347</th>\n",
       "      <td>Trail of the Horse Thieves</td>\n",
       "      <td>1920</td>\n",
       "      <td>Ray Childs</td>\n",
       "      <td>actor</td>\n",
       "      <td>Rustler</td>\n",
       "      <td>8.0</td>\n",
       "    </tr>\n",
       "    <tr>\n",
       "      <th>44517</th>\n",
       "      <td>The Last Stand</td>\n",
       "      <td>1930</td>\n",
       "      <td>Gene Alsace</td>\n",
       "      <td>actor</td>\n",
       "      <td>Rustler</td>\n",
       "      <td>NaN</td>\n",
       "    </tr>\n",
       "    <tr>\n",
       "      <th>95443</th>\n",
       "      <td>Silent Valley</td>\n",
       "      <td>1930</td>\n",
       "      <td>Jimmy Aubrey</td>\n",
       "      <td>actor</td>\n",
       "      <td>Rustler</td>\n",
       "      <td>NaN</td>\n",
       "    </tr>\n",
       "    <tr>\n",
       "      <th>2393116</th>\n",
       "      <td>The Westerner</td>\n",
       "      <td>1930</td>\n",
       "      <td>Slim Whitaker</td>\n",
       "      <td>actor</td>\n",
       "      <td>Rustler</td>\n",
       "      <td>NaN</td>\n",
       "    </tr>\n",
       "    <tr>\n",
       "      <th>2392958</th>\n",
       "      <td>Prescott Kid</td>\n",
       "      <td>1930</td>\n",
       "      <td>Slim Whitaker</td>\n",
       "      <td>actor</td>\n",
       "      <td>Rustler</td>\n",
       "      <td>NaN</td>\n",
       "    </tr>\n",
       "    <tr>\n",
       "      <th>120822</th>\n",
       "      <td>Prairie Moon</td>\n",
       "      <td>1930</td>\n",
       "      <td>Chuck Baldra</td>\n",
       "      <td>actor</td>\n",
       "      <td>Rustler</td>\n",
       "      <td>NaN</td>\n",
       "    </tr>\n",
       "    <tr>\n",
       "      <th>120851</th>\n",
       "      <td>Texas Tornado</td>\n",
       "      <td>1930</td>\n",
       "      <td>Chuck Baldra</td>\n",
       "      <td>actor</td>\n",
       "      <td>Rustler</td>\n",
       "      <td>NaN</td>\n",
       "    </tr>\n",
       "    <tr>\n",
       "      <th>155364</th>\n",
       "      <td>Red River Range</td>\n",
       "      <td>1930</td>\n",
       "      <td>John Beach</td>\n",
       "      <td>actor</td>\n",
       "      <td>Rustler</td>\n",
       "      <td>NaN</td>\n",
       "    </tr>\n",
       "    <tr>\n",
       "      <th>156925</th>\n",
       "      <td>Lawless Valley</td>\n",
       "      <td>1930</td>\n",
       "      <td>Barney Beasley</td>\n",
       "      <td>actor</td>\n",
       "      <td>Rustler</td>\n",
       "      <td>NaN</td>\n",
       "    </tr>\n",
       "    <tr>\n",
       "      <th>2363908</th>\n",
       "      <td>Melody Trail</td>\n",
       "      <td>1930</td>\n",
       "      <td>Wes Warner</td>\n",
       "      <td>actor</td>\n",
       "      <td>Rustler</td>\n",
       "      <td>NaN</td>\n",
       "    </tr>\n",
       "    <tr>\n",
       "      <th>293452</th>\n",
       "      <td>Lawless Valley</td>\n",
       "      <td>1930</td>\n",
       "      <td>Ralph Bucko</td>\n",
       "      <td>actor</td>\n",
       "      <td>Rustler</td>\n",
       "      <td>NaN</td>\n",
       "    </tr>\n",
       "    <tr>\n",
       "      <th>13396</th>\n",
       "      <td>Two Gun Troubador</td>\n",
       "      <td>1930</td>\n",
       "      <td>Victor Adamson</td>\n",
       "      <td>actor</td>\n",
       "      <td>Rustler</td>\n",
       "      <td>NaN</td>\n",
       "    </tr>\n",
       "    <tr>\n",
       "      <th>293787</th>\n",
       "      <td>Lawless Valley</td>\n",
       "      <td>1930</td>\n",
       "      <td>Roy Bucko</td>\n",
       "      <td>actor</td>\n",
       "      <td>Rustler</td>\n",
       "      <td>NaN</td>\n",
       "    </tr>\n",
       "    <tr>\n",
       "      <th>293856</th>\n",
       "      <td>Shine On, Harvest Moon</td>\n",
       "      <td>1930</td>\n",
       "      <td>Roy Bucko</td>\n",
       "      <td>actor</td>\n",
       "      <td>Rustler</td>\n",
       "      <td>NaN</td>\n",
       "    </tr>\n",
       "    <tr>\n",
       "      <th>2360385</th>\n",
       "      <td>The Mysterious Avenger</td>\n",
       "      <td>1930</td>\n",
       "      <td>Blackjack Ward</td>\n",
       "      <td>actor</td>\n",
       "      <td>Rustler</td>\n",
       "      <td>NaN</td>\n",
       "    </tr>\n",
       "    <tr>\n",
       "      <th>2360371</th>\n",
       "      <td>The Frontiersmen</td>\n",
       "      <td>1930</td>\n",
       "      <td>Blackjack Ward</td>\n",
       "      <td>actor</td>\n",
       "      <td>Rustler</td>\n",
       "      <td>NaN</td>\n",
       "    </tr>\n",
       "    <tr>\n",
       "      <th>2360342</th>\n",
       "      <td>Shine On, Harvest Moon</td>\n",
       "      <td>1930</td>\n",
       "      <td>Blackjack Ward</td>\n",
       "      <td>actor</td>\n",
       "      <td>Rustler</td>\n",
       "      <td>NaN</td>\n",
       "    </tr>\n",
       "    <tr>\n",
       "      <th>339364</th>\n",
       "      <td>Lucky Larrigan</td>\n",
       "      <td>1930</td>\n",
       "      <td>Bob Card</td>\n",
       "      <td>actor</td>\n",
       "      <td>Rustler</td>\n",
       "      <td>NaN</td>\n",
       "    </tr>\n",
       "    <tr>\n",
       "      <th>2392807</th>\n",
       "      <td>A Man's Land</td>\n",
       "      <td>1930</td>\n",
       "      <td>Slim Whitaker</td>\n",
       "      <td>actor</td>\n",
       "      <td>Rustler</td>\n",
       "      <td>NaN</td>\n",
       "    </tr>\n",
       "    <tr>\n",
       "      <th>2360309</th>\n",
       "      <td>Lawless Valley</td>\n",
       "      <td>1930</td>\n",
       "      <td>Blackjack Ward</td>\n",
       "      <td>actor</td>\n",
       "      <td>Rustler</td>\n",
       "      <td>NaN</td>\n",
       "    </tr>\n",
       "    <tr>\n",
       "      <th>421918</th>\n",
       "      <td>Mystery Range</td>\n",
       "      <td>1930</td>\n",
       "      <td>Steve Clark</td>\n",
       "      <td>actor</td>\n",
       "      <td>Rustler</td>\n",
       "      <td>NaN</td>\n",
       "    </tr>\n",
       "    <tr>\n",
       "      <th>396520</th>\n",
       "      <td>Silent Valley</td>\n",
       "      <td>1930</td>\n",
       "      <td>George Chesebro</td>\n",
       "      <td>actor</td>\n",
       "      <td>Rustler</td>\n",
       "      <td>NaN</td>\n",
       "    </tr>\n",
       "    <tr>\n",
       "      <th>2159929</th>\n",
       "      <td>Texas Tornado</td>\n",
       "      <td>1930</td>\n",
       "      <td>Glenn Strange</td>\n",
       "      <td>actor</td>\n",
       "      <td>Rustler</td>\n",
       "      <td>NaN</td>\n",
       "    </tr>\n",
       "    <tr>\n",
       "      <th>430756</th>\n",
       "      <td>Public Cowboy No. 1</td>\n",
       "      <td>1930</td>\n",
       "      <td>Tommy Coats</td>\n",
       "      <td>actor</td>\n",
       "      <td>Rustler</td>\n",
       "      <td>NaN</td>\n",
       "    </tr>\n",
       "    <tr>\n",
       "      <th>2206126</th>\n",
       "      <td>Prairie Moon</td>\n",
       "      <td>1930</td>\n",
       "      <td>Al Taylor</td>\n",
       "      <td>actor</td>\n",
       "      <td>Rustler</td>\n",
       "      <td>NaN</td>\n",
       "    </tr>\n",
       "    <tr>\n",
       "      <th>...</th>\n",
       "      <td>...</td>\n",
       "      <td>...</td>\n",
       "      <td>...</td>\n",
       "      <td>...</td>\n",
       "      <td>...</td>\n",
       "      <td>...</td>\n",
       "    </tr>\n",
       "    <tr>\n",
       "      <th>304182</th>\n",
       "      <td>Sioux City Sue</td>\n",
       "      <td>1940</td>\n",
       "      <td>Forest Burns</td>\n",
       "      <td>actor</td>\n",
       "      <td>Rustler</td>\n",
       "      <td>NaN</td>\n",
       "    </tr>\n",
       "    <tr>\n",
       "      <th>1442053</th>\n",
       "      <td>Wild West</td>\n",
       "      <td>1940</td>\n",
       "      <td>Forrest Matthews</td>\n",
       "      <td>actor</td>\n",
       "      <td>Rustler</td>\n",
       "      <td>NaN</td>\n",
       "    </tr>\n",
       "    <tr>\n",
       "      <th>457346</th>\n",
       "      <td>Heart of the Golden West</td>\n",
       "      <td>1940</td>\n",
       "      <td>Spade Cooley</td>\n",
       "      <td>actor</td>\n",
       "      <td>Rustler</td>\n",
       "      <td>NaN</td>\n",
       "    </tr>\n",
       "    <tr>\n",
       "      <th>1107738</th>\n",
       "      <td>Pinto Canyon</td>\n",
       "      <td>1940</td>\n",
       "      <td>Ray Jones</td>\n",
       "      <td>actor</td>\n",
       "      <td>Rustler</td>\n",
       "      <td>NaN</td>\n",
       "    </tr>\n",
       "    <tr>\n",
       "      <th>963441</th>\n",
       "      <td>Cow Country</td>\n",
       "      <td>1950</td>\n",
       "      <td>Jack Hendricks</td>\n",
       "      <td>actor</td>\n",
       "      <td>Rustler</td>\n",
       "      <td>NaN</td>\n",
       "    </tr>\n",
       "    <tr>\n",
       "      <th>457817</th>\n",
       "      <td>Cow Country</td>\n",
       "      <td>1950</td>\n",
       "      <td>Bill Coontz</td>\n",
       "      <td>actor</td>\n",
       "      <td>Rustler</td>\n",
       "      <td>NaN</td>\n",
       "    </tr>\n",
       "    <tr>\n",
       "      <th>381320</th>\n",
       "      <td>Canyon River</td>\n",
       "      <td>1950</td>\n",
       "      <td>Lane Chandler</td>\n",
       "      <td>actor</td>\n",
       "      <td>Rustler</td>\n",
       "      <td>NaN</td>\n",
       "    </tr>\n",
       "    <tr>\n",
       "      <th>585519</th>\n",
       "      <td>El Paso Stampede</td>\n",
       "      <td>1950</td>\n",
       "      <td>Art Dillard</td>\n",
       "      <td>actor</td>\n",
       "      <td>Rustler</td>\n",
       "      <td>NaN</td>\n",
       "    </tr>\n",
       "    <tr>\n",
       "      <th>418922</th>\n",
       "      <td>Canyon River</td>\n",
       "      <td>1950</td>\n",
       "      <td>Bill Clark</td>\n",
       "      <td>actor</td>\n",
       "      <td>Rustler</td>\n",
       "      <td>NaN</td>\n",
       "    </tr>\n",
       "    <tr>\n",
       "      <th>2115515</th>\n",
       "      <td>Cow Country</td>\n",
       "      <td>1950</td>\n",
       "      <td>George Sowards</td>\n",
       "      <td>actor</td>\n",
       "      <td>Rustler</td>\n",
       "      <td>NaN</td>\n",
       "    </tr>\n",
       "    <tr>\n",
       "      <th>2397361</th>\n",
       "      <td>The Marksman</td>\n",
       "      <td>1950</td>\n",
       "      <td>Russ Whiteman</td>\n",
       "      <td>actor</td>\n",
       "      <td>Rustler</td>\n",
       "      <td>9.0</td>\n",
       "    </tr>\n",
       "    <tr>\n",
       "      <th>99922</th>\n",
       "      <td>Untamed Frontier</td>\n",
       "      <td>1950</td>\n",
       "      <td>Emile Avery</td>\n",
       "      <td>actor</td>\n",
       "      <td>Rustler</td>\n",
       "      <td>NaN</td>\n",
       "    </tr>\n",
       "    <tr>\n",
       "      <th>707344</th>\n",
       "      <td>One Foot in Hell</td>\n",
       "      <td>1960</td>\n",
       "      <td>Joe Ferrante</td>\n",
       "      <td>actor</td>\n",
       "      <td>Rustler</td>\n",
       "      <td>NaN</td>\n",
       "    </tr>\n",
       "    <tr>\n",
       "      <th>77068</th>\n",
       "      <td>Wanted</td>\n",
       "      <td>1960</td>\n",
       "      <td>Bruno Ari?</td>\n",
       "      <td>actor</td>\n",
       "      <td>Rustler</td>\n",
       "      <td>NaN</td>\n",
       "    </tr>\n",
       "    <tr>\n",
       "      <th>335880</th>\n",
       "      <td>The Cowboys</td>\n",
       "      <td>1970</td>\n",
       "      <td>Tap Canutt</td>\n",
       "      <td>actor</td>\n",
       "      <td>Rustler</td>\n",
       "      <td>36.0</td>\n",
       "    </tr>\n",
       "    <tr>\n",
       "      <th>2417633</th>\n",
       "      <td>The Cowboys</td>\n",
       "      <td>1970</td>\n",
       "      <td>Henry Wills</td>\n",
       "      <td>actor</td>\n",
       "      <td>Rustler</td>\n",
       "      <td>42.0</td>\n",
       "    </tr>\n",
       "    <tr>\n",
       "      <th>275676</th>\n",
       "      <td>The Cowboys</td>\n",
       "      <td>1970</td>\n",
       "      <td>Fred Brookfield</td>\n",
       "      <td>actor</td>\n",
       "      <td>Rustler</td>\n",
       "      <td>35.0</td>\n",
       "    </tr>\n",
       "    <tr>\n",
       "      <th>666908</th>\n",
       "      <td>The Cowboys</td>\n",
       "      <td>1970</td>\n",
       "      <td>Gary Epper</td>\n",
       "      <td>actor</td>\n",
       "      <td>Rustler</td>\n",
       "      <td>38.0</td>\n",
       "    </tr>\n",
       "    <tr>\n",
       "      <th>666972</th>\n",
       "      <td>The Cowboys</td>\n",
       "      <td>1970</td>\n",
       "      <td>Tony Epper</td>\n",
       "      <td>actor</td>\n",
       "      <td>Rustler</td>\n",
       "      <td>39.0</td>\n",
       "    </tr>\n",
       "    <tr>\n",
       "      <th>951803</th>\n",
       "      <td>The Cowboys</td>\n",
       "      <td>1970</td>\n",
       "      <td>Kent Hays</td>\n",
       "      <td>actor</td>\n",
       "      <td>Rustler</td>\n",
       "      <td>40.0</td>\n",
       "    </tr>\n",
       "    <tr>\n",
       "      <th>1843555</th>\n",
       "      <td>The Cowboys</td>\n",
       "      <td>1970</td>\n",
       "      <td>J.R. Randall</td>\n",
       "      <td>actor</td>\n",
       "      <td>Rustler</td>\n",
       "      <td>41.0</td>\n",
       "    </tr>\n",
       "    <tr>\n",
       "      <th>474841</th>\n",
       "      <td>The Cowboys</td>\n",
       "      <td>1970</td>\n",
       "      <td>Chuck Courtney</td>\n",
       "      <td>actor</td>\n",
       "      <td>Rustler</td>\n",
       "      <td>37.0</td>\n",
       "    </tr>\n",
       "    <tr>\n",
       "      <th>2466368</th>\n",
       "      <td>The Cowboys</td>\n",
       "      <td>1970</td>\n",
       "      <td>Joe Yrigoyen</td>\n",
       "      <td>actor</td>\n",
       "      <td>Rustler</td>\n",
       "      <td>43.0</td>\n",
       "    </tr>\n",
       "    <tr>\n",
       "      <th>1774168</th>\n",
       "      <td>Lone Wolf McQuade</td>\n",
       "      <td>1980</td>\n",
       "      <td>Gary Pike</td>\n",
       "      <td>actor</td>\n",
       "      <td>Rustler</td>\n",
       "      <td>27.0</td>\n",
       "    </tr>\n",
       "    <tr>\n",
       "      <th>323003</th>\n",
       "      <td>Border Shootout</td>\n",
       "      <td>1990</td>\n",
       "      <td>Sergio Calder?n</td>\n",
       "      <td>actor</td>\n",
       "      <td>Rustler</td>\n",
       "      <td>7.0</td>\n",
       "    </tr>\n",
       "    <tr>\n",
       "      <th>851594</th>\n",
       "      <td>Gunfighter</td>\n",
       "      <td>1990</td>\n",
       "      <td>John Gourly</td>\n",
       "      <td>actor</td>\n",
       "      <td>Rustler</td>\n",
       "      <td>32.0</td>\n",
       "    </tr>\n",
       "    <tr>\n",
       "      <th>885788</th>\n",
       "      <td>Gunfighter</td>\n",
       "      <td>1990</td>\n",
       "      <td>John Gulager</td>\n",
       "      <td>actor</td>\n",
       "      <td>Rustler</td>\n",
       "      <td>30.0</td>\n",
       "    </tr>\n",
       "    <tr>\n",
       "      <th>1776729</th>\n",
       "      <td>Gunfighter</td>\n",
       "      <td>1990</td>\n",
       "      <td>Marcus Pinkney</td>\n",
       "      <td>actor</td>\n",
       "      <td>Rustler</td>\n",
       "      <td>31.0</td>\n",
       "    </tr>\n",
       "    <tr>\n",
       "      <th>1914054</th>\n",
       "      <td>Jericho</td>\n",
       "      <td>2000</td>\n",
       "      <td>Eddie (V) Rodriguez</td>\n",
       "      <td>actor</td>\n",
       "      <td>Rustler</td>\n",
       "      <td>64.0</td>\n",
       "    </tr>\n",
       "    <tr>\n",
       "      <th>1209601</th>\n",
       "      <td>Jericho</td>\n",
       "      <td>2000</td>\n",
       "      <td>Max Konz</td>\n",
       "      <td>actor</td>\n",
       "      <td>Rustler</td>\n",
       "      <td>63.0</td>\n",
       "    </tr>\n",
       "  </tbody>\n",
       "</table>\n",
       "<p>134 rows × 6 columns</p>\n",
       "</div>"
      ],
      "text/plain": [
       "                              title  year                 name   type  \\\n",
       "167062                 Arizona Days  1920            Hank Bell  actor   \n",
       "304223               Border Romance  1920           Fred Burns  actor   \n",
       "1434144              Border Romance  1920            Jim Mason  actor   \n",
       "1488549               The Virginian  1920           Lew Meehan  actor   \n",
       "120744               Border Romance  1920         Chuck Baldra  actor   \n",
       "401347   Trail of the Horse Thieves  1920           Ray Childs  actor   \n",
       "44517                The Last Stand  1930          Gene Alsace  actor   \n",
       "95443                 Silent Valley  1930         Jimmy Aubrey  actor   \n",
       "2393116               The Westerner  1930        Slim Whitaker  actor   \n",
       "2392958                Prescott Kid  1930        Slim Whitaker  actor   \n",
       "120822                 Prairie Moon  1930         Chuck Baldra  actor   \n",
       "120851                Texas Tornado  1930         Chuck Baldra  actor   \n",
       "155364              Red River Range  1930           John Beach  actor   \n",
       "156925               Lawless Valley  1930       Barney Beasley  actor   \n",
       "2363908                Melody Trail  1930           Wes Warner  actor   \n",
       "293452               Lawless Valley  1930          Ralph Bucko  actor   \n",
       "13396             Two Gun Troubador  1930       Victor Adamson  actor   \n",
       "293787               Lawless Valley  1930            Roy Bucko  actor   \n",
       "293856       Shine On, Harvest Moon  1930            Roy Bucko  actor   \n",
       "2360385      The Mysterious Avenger  1930       Blackjack Ward  actor   \n",
       "2360371            The Frontiersmen  1930       Blackjack Ward  actor   \n",
       "2360342      Shine On, Harvest Moon  1930       Blackjack Ward  actor   \n",
       "339364               Lucky Larrigan  1930             Bob Card  actor   \n",
       "2392807                A Man's Land  1930        Slim Whitaker  actor   \n",
       "2360309              Lawless Valley  1930       Blackjack Ward  actor   \n",
       "421918                Mystery Range  1930          Steve Clark  actor   \n",
       "396520                Silent Valley  1930      George Chesebro  actor   \n",
       "2159929               Texas Tornado  1930        Glenn Strange  actor   \n",
       "430756          Public Cowboy No. 1  1930          Tommy Coats  actor   \n",
       "2206126                Prairie Moon  1930            Al Taylor  actor   \n",
       "...                             ...   ...                  ...    ...   \n",
       "304182               Sioux City Sue  1940         Forest Burns  actor   \n",
       "1442053                   Wild West  1940     Forrest Matthews  actor   \n",
       "457346     Heart of the Golden West  1940         Spade Cooley  actor   \n",
       "1107738                Pinto Canyon  1940            Ray Jones  actor   \n",
       "963441                  Cow Country  1950       Jack Hendricks  actor   \n",
       "457817                  Cow Country  1950          Bill Coontz  actor   \n",
       "381320                 Canyon River  1950        Lane Chandler  actor   \n",
       "585519             El Paso Stampede  1950          Art Dillard  actor   \n",
       "418922                 Canyon River  1950           Bill Clark  actor   \n",
       "2115515                 Cow Country  1950       George Sowards  actor   \n",
       "2397361                The Marksman  1950        Russ Whiteman  actor   \n",
       "99922              Untamed Frontier  1950          Emile Avery  actor   \n",
       "707344             One Foot in Hell  1960         Joe Ferrante  actor   \n",
       "77068                        Wanted  1960           Bruno Ari?  actor   \n",
       "335880                  The Cowboys  1970           Tap Canutt  actor   \n",
       "2417633                 The Cowboys  1970          Henry Wills  actor   \n",
       "275676                  The Cowboys  1970      Fred Brookfield  actor   \n",
       "666908                  The Cowboys  1970           Gary Epper  actor   \n",
       "666972                  The Cowboys  1970           Tony Epper  actor   \n",
       "951803                  The Cowboys  1970            Kent Hays  actor   \n",
       "1843555                 The Cowboys  1970         J.R. Randall  actor   \n",
       "474841                  The Cowboys  1970       Chuck Courtney  actor   \n",
       "2466368                 The Cowboys  1970         Joe Yrigoyen  actor   \n",
       "1774168           Lone Wolf McQuade  1980            Gary Pike  actor   \n",
       "323003              Border Shootout  1990      Sergio Calder?n  actor   \n",
       "851594                   Gunfighter  1990          John Gourly  actor   \n",
       "885788                   Gunfighter  1990         John Gulager  actor   \n",
       "1776729                  Gunfighter  1990       Marcus Pinkney  actor   \n",
       "1914054                     Jericho  2000  Eddie (V) Rodriguez  actor   \n",
       "1209601                     Jericho  2000             Max Konz  actor   \n",
       "\n",
       "        character     n  \n",
       "167062    Rustler   NaN  \n",
       "304223    Rustler   NaN  \n",
       "1434144   Rustler   NaN  \n",
       "1488549   Rustler   NaN  \n",
       "120744    Rustler   NaN  \n",
       "401347    Rustler   8.0  \n",
       "44517     Rustler   NaN  \n",
       "95443     Rustler   NaN  \n",
       "2393116   Rustler   NaN  \n",
       "2392958   Rustler   NaN  \n",
       "120822    Rustler   NaN  \n",
       "120851    Rustler   NaN  \n",
       "155364    Rustler   NaN  \n",
       "156925    Rustler   NaN  \n",
       "2363908   Rustler   NaN  \n",
       "293452    Rustler   NaN  \n",
       "13396     Rustler   NaN  \n",
       "293787    Rustler   NaN  \n",
       "293856    Rustler   NaN  \n",
       "2360385   Rustler   NaN  \n",
       "2360371   Rustler   NaN  \n",
       "2360342   Rustler   NaN  \n",
       "339364    Rustler   NaN  \n",
       "2392807   Rustler   NaN  \n",
       "2360309   Rustler   NaN  \n",
       "421918    Rustler   NaN  \n",
       "396520    Rustler   NaN  \n",
       "2159929   Rustler   NaN  \n",
       "430756    Rustler   NaN  \n",
       "2206126   Rustler   NaN  \n",
       "...           ...   ...  \n",
       "304182    Rustler   NaN  \n",
       "1442053   Rustler   NaN  \n",
       "457346    Rustler   NaN  \n",
       "1107738   Rustler   NaN  \n",
       "963441    Rustler   NaN  \n",
       "457817    Rustler   NaN  \n",
       "381320    Rustler   NaN  \n",
       "585519    Rustler   NaN  \n",
       "418922    Rustler   NaN  \n",
       "2115515   Rustler   NaN  \n",
       "2397361   Rustler   9.0  \n",
       "99922     Rustler   NaN  \n",
       "707344    Rustler   NaN  \n",
       "77068     Rustler   NaN  \n",
       "335880    Rustler  36.0  \n",
       "2417633   Rustler  42.0  \n",
       "275676    Rustler  35.0  \n",
       "666908    Rustler  38.0  \n",
       "666972    Rustler  39.0  \n",
       "951803    Rustler  40.0  \n",
       "1843555   Rustler  41.0  \n",
       "474841    Rustler  37.0  \n",
       "2466368   Rustler  43.0  \n",
       "1774168   Rustler  27.0  \n",
       "323003    Rustler   7.0  \n",
       "851594    Rustler  32.0  \n",
       "885788    Rustler  30.0  \n",
       "1776729   Rustler  31.0  \n",
       "1914054   Rustler  64.0  \n",
       "1209601   Rustler  63.0  \n",
       "\n",
       "[134 rows x 6 columns]"
      ]
     },
     "execution_count": 97,
     "metadata": {},
     "output_type": "execute_result"
    }
   ],
   "source": [
    "rustler = rustler.sort_values('year')\n",
    "rustler"
   ]
  },
  {
   "cell_type": "code",
   "execution_count": 104,
   "metadata": {
    "collapsed": false
   },
   "outputs": [
    {
     "data": {
      "text/plain": [
       "<matplotlib.axes._subplots.AxesSubplot at 0x11a1e2c50>"
      ]
     },
     "execution_count": 104,
     "metadata": {},
     "output_type": "execute_result"
    },
    {
     "data": {
      "image/png": "[encoded data removed]",
      "text/plain": [
       "<matplotlib.figure.Figure at 0x116110b90>"
      ]
     },
     "metadata": {},
     "output_type": "display_data"
    }
   ],
   "source": [
    "rustler.year.value_counts().sort_index().plot()"
   ]
  },
  {
   "cell_type": "markdown",
   "metadata": {
    "collapsed": true
   },
   "source": [
    "### Plot the number of \"Hamlet\" characters each decade."
   ]
  },
  {
   "cell_type": "code",
   "execution_count": 108,
   "metadata": {
    "collapsed": false
   },
   "outputs": [],
   "source": [
    "hamletchar.year = hamletchar.year//10*10"
   ]
  },
  {
   "cell_type": "code",
   "execution_count": 117,
   "metadata": {
    "collapsed": false
   },
   "outputs": [
    {
     "data": {
      "text/plain": [
       "<matplotlib.axes._subplots.AxesSubplot at 0x116bf58d0>"
      ]
     },
     "execution_count": 117,
     "metadata": {},
     "output_type": "execute_result"
    },
    {
     "data": {
      "image/png": "[encoded data removed]",
      "text/plain": [
       "<matplotlib.figure.Figure at 0x116bed310>"
      ]
     },
     "metadata": {},
     "output_type": "display_data"
    }
   ],
   "source": [
    "hamletchar.year.value_counts().sort_index().plot(kind=\"bar\")"
   ]
  },
  {
   "cell_type": "markdown",
   "metadata": {
    "collapsed": true
   },
   "source": [
    "### What are the 11 most common character names in movie history?"
   ]
  },
  {
   "cell_type": "code",
   "execution_count": 119,
   "metadata": {
    "collapsed": false
   },
   "outputs": [],
   "source": [
    "charnames = cast[\"character\"]"
   ]
  },
  {
   "cell_type": "code",
   "execution_count": 121,
   "metadata": {
    "collapsed": false
   },
   "outputs": [
    {
     "data": {
      "text/plain": [
       "Himself                                    20376\n",
       "Dancer                                     12148\n",
       "Extra                                      11303\n",
       "Reporter                                    8256\n",
       "Doctor                                      7527\n",
       "Student                                     7384\n",
       "Policeman                                   6950\n",
       "Party Guest                                 6901\n",
       "Nurse                                       6767\n",
       "Bartender                                   6709\n",
       "Herself                                     6426\n",
       "Minor Role                                  6272\n",
       "Zombie                                      6110\n",
       "Townsman                                    5649\n",
       "Waiter                                      5333\n",
       "Henchman                                    5024\n",
       "Bar Patron                                  4746\n",
       "Soldier                                     4687\n",
       "Police Officer                              4650\n",
       "Waitress                                    4633\n",
       "Detective                                   3819\n",
       "Additional Voices                           3222\n",
       "Singer                                      3166\n",
       "Cop                                         3076\n",
       "Priest                                      2986\n",
       "Guard                                       2964\n",
       "Mother                                      2929\n",
       "Barfly                                      2906\n",
       "Maria                                       2811\n",
       "Sam                                         2783\n",
       "                                           ...  \n",
       "Lewis' Mother                                  1\n",
       "Beyonce Look-alike                             1\n",
       "Capt. Don Pasqual 'Pasqualito' Costelar        1\n",
       "Senior Surgical Interne                        1\n",
       "Pantyhose Victim                               1\n",
       "Nurse Maddigan                                 1\n",
       "Agua                                           1\n",
       "Peter Delaney, their son                       1\n",
       "Chefstewardess                                 1\n",
       "Young Margaret Thatcher                        1\n",
       "Lyuba Zvonaryova                               1\n",
       "Viktor Ivanovich Bobrov                        1\n",
       "Patron du cabaret                              1\n",
       "Vater Fey                                      1\n",
       "Van Gogh Japanese                              1\n",
       "Gerald Cotter                                  1\n",
       "Disgusted Businessman                          1\n",
       "Secretary Dubey                                1\n",
       "Chao Liu                                       1\n",
       "Detective Tuen                                 1\n",
       "Quaroni                                        1\n",
       "Gendarmeriewachtmeister                        1\n",
       "El Magnetizador                                1\n",
       "Le conducteur du R.E.R.                        1\n",
       "Woman at Brunello's                            1\n",
       "Ruth Doyle                                     1\n",
       "Matthias Pf?ller                               1\n",
       "Lester Bell                                    1\n",
       "Amelia (segment \"Basta un attimo\")             1\n",
       "Det. McQueen                                   1\n",
       "Name: character, dtype: int64"
      ]
     },
     "execution_count": 121,
     "metadata": {},
     "output_type": "execute_result"
    }
   ],
   "source": [
    "charnames.value_counts()"
   ]
  },
  {
   "cell_type": "markdown",
   "metadata": {
    "collapsed": true
   },
   "source": [
    "### Who are the 10 people most often credited as \"Herself\" in film history?"
   ]
  },
  {
   "cell_type": "code",
   "execution_count": 122,
   "metadata": {
    "collapsed": true
   },
   "outputs": [],
   "source": [
    "herself = cast[cast[\"character\"] == \"Herself\"]"
   ]
  },
  {
   "cell_type": "code",
   "execution_count": 125,
   "metadata": {
    "collapsed": false
   },
   "outputs": [
    {
     "data": {
      "text/plain": [
       "Queen Elizabeth II                  11\n",
       "Laura (II) M?gica                    9\n",
       "Margaret Thatcher                    9\n",
       "Joyce Brothers                       9\n",
       "Marta Berrocal                       8\n",
       "In?s J. Southern                     8\n",
       "Estrella Borja                       8\n",
       "Marina Revilla                       7\n",
       "Elena Santisteban                    7\n",
       "Mary Jo Pehl                         7\n",
       "Hillary Clinton                      7\n",
       "Natalia Cociu                        6\n",
       "Andrea Urresti                       6\n",
       "Mar?a Luisa (V) Mart?n               6\n",
       "Joan Rivers                          6\n",
       "Alejandra Torre                      6\n",
       "Luisa Horga                          6\n",
       "Zoe Ortiz de Z?rate                  6\n",
       "?ngela Silv?n                        6\n",
       "Marilyn Monroe                       6\n",
       "Elsa Guerrero                        6\n",
       "Sumie Sakai                          6\n",
       "Aleiska von Lippke                   5\n",
       "Bunny Yeager                         5\n",
       "Cristina Cubas                       5\n",
       "Mar?a Isabel (III) Mart?n            5\n",
       "Queen Elizabeth the Queen Mother     5\n",
       "Jacqueline Kennedy                   5\n",
       "Kareena Kapoor                       5\n",
       "Caroline Rhea                        5\n",
       "                                    ..\n",
       "Dida Weith Anzlovar                  1\n",
       "Zuri Bird                            1\n",
       "Marie (II) Lloyd                     1\n",
       "Carol Deene                          1\n",
       "Jodie Hirst                          1\n",
       "Amber Nolin                          1\n",
       "Traci Turner                         1\n",
       "Jessica Aguilar                      1\n",
       "Taylor Wayne                         1\n",
       "Joyce DeWitt                         1\n",
       "Lisa Ekdahl                          1\n",
       "Sade                                 1\n",
       "Saeko Ozuki                          1\n",
       "Kim Moarefi                          1\n",
       "Anne Metzler                         1\n",
       "Gran'ma Marta                        1\n",
       "Marilyn Vaughn                       1\n",
       "Bridget McManus                      1\n",
       "Carolyn (II) Dixon                   1\n",
       "Val?rie Lalonde                      1\n",
       "Diana Oinardi                        1\n",
       "Muffy Moose                          1\n",
       "Robin Tunney                         1\n",
       "Marjo Sundstr?m                      1\n",
       "Sarah Rayson                         1\n",
       "Nena Velazquez                       1\n",
       "Melanie Shalom                       1\n",
       "Shana Roystan                        1\n",
       "Bridget Powers                       1\n",
       "Somaya Isis                          1\n",
       "Name: name, dtype: int64"
      ]
     },
     "execution_count": 125,
     "metadata": {},
     "output_type": "execute_result"
    }
   ],
   "source": [
    "herself.name.value_counts()"
   ]
  },
  {
   "cell_type": "markdown",
   "metadata": {
    "collapsed": true
   },
   "source": [
    "### Who are the 10 people most often credited as \"Himself\" in film history?"
   ]
  },
  {
   "cell_type": "code",
   "execution_count": 126,
   "metadata": {
    "collapsed": true
   },
   "outputs": [],
   "source": [
    "himself = cast[cast[\"character\"] == \"Himself\"]"
   ]
  },
  {
   "cell_type": "code",
   "execution_count": 127,
   "metadata": {
    "collapsed": false
   },
   "outputs": [
    {
     "data": {
      "text/plain": [
       "Adolf Hitler                      100\n",
       "Richard Nixon                      47\n",
       "Ronald Reagan                      41\n",
       "John F. Kennedy                    37\n",
       "Ron Jeremy                         23\n",
       "Winston Churchill                  23\n",
       "George W. Bush                     23\n",
       "Martin Luther King                 22\n",
       "Benito Mussolini                   22\n",
       "Bill Clinton                       22\n",
       "Franklin D. Roosevelt              20\n",
       "Muhammad Ali                       19\n",
       "Manuel Valent?n-Fdez.              18\n",
       "Joseph Stalin                      18\n",
       "Diego Aramburu-Zabala              16\n",
       "Barack Obama                       16\n",
       "Lloyd Kaufman                      16\n",
       "Billy Graham                       15\n",
       "Miguel Cuesta                      15\n",
       "Abraham Torres                     15\n",
       "Lyndon Johnson                     15\n",
       "Jimmy Carter                       14\n",
       "Fidel Castro                       13\n",
       "Amitabh Bachchan                   13\n",
       "Cayetano Guerra                    13\n",
       "Bill Corbett                       12\n",
       "John Lennon                        12\n",
       "George Bush                        12\n",
       "Kevin (II) Murphy                  12\n",
       "Walter Cronkite                    12\n",
       "                                 ... \n",
       "Anthony (XII) Johnson               1\n",
       "Paul (II) Conte                     1\n",
       "Linden Soles                        1\n",
       "Bob (II) Murray                     1\n",
       "Mike (VIII) Simon                   1\n",
       "Bob Kilpatrick                      1\n",
       "Caitlyn Jenner                      1\n",
       "Marvin Colston                      1\n",
       "E.V.H. Emmett                       1\n",
       "Wolfgang Sch?ssel                   1\n",
       "Simon (VIII) Wong                   1\n",
       "John Motson                         1\n",
       "Jin Otabe                           1\n",
       "Ryan Trecartin                      1\n",
       "Fedon                               1\n",
       "Larry Fredericks                    1\n",
       "Jack van Gelder                     1\n",
       "Kevin T. Bennett                    1\n",
       "Bob (XXXIX) Jones                   1\n",
       "Robbie Savage                       1\n",
       "Jernej Repovs                       1\n",
       "Sid Sylum                           1\n",
       "Pat (IV) Mahoney                    1\n",
       "Eric Stoltz                         1\n",
       "Arthur Clouston                     1\n",
       "David Otunga                        1\n",
       "Pedro Fern?ndez                     1\n",
       "Jim Prindle                         1\n",
       "Michael (II) Vaccaro                1\n",
       "Diego 'El Negro' ?lvarez Mu?oz      1\n",
       "Name: name, dtype: int64"
      ]
     },
     "execution_count": 127,
     "metadata": {},
     "output_type": "execute_result"
    }
   ],
   "source": [
    "himself.name.value_counts()"
   ]
  },
  {
   "cell_type": "markdown",
   "metadata": {
    "collapsed": true
   },
   "source": [
    "### Which actors or actresses appeared in the most movies in the year 1945?"
   ]
  },
  {
   "cell_type": "code",
   "execution_count": 128,
   "metadata": {
    "collapsed": true
   },
   "outputs": [],
   "source": [
    "year1945 = cast[cast.year == 1945]"
   ]
  },
  {
   "cell_type": "code",
   "execution_count": 138,
   "metadata": {
    "collapsed": false
   },
   "outputs": [
    {
     "data": {
      "text/plain": [
       "Emmett Vogan                 39\n",
       "Sam (II) Harris              32\n",
       "Bess Flowers                 29\n",
       "Harold Miller                29\n",
       "Frank O'Connor               27\n",
       "Nolan Leary                  27\n",
       "Franklyn Farnum              26\n",
       "Larry Steers                 25\n",
       "Charles Sullivan             24\n",
       "Edmund Cobb                  24\n",
       "Pierre Watkin                24\n",
       "Herman Hack                  24\n",
       "Tom London                   24\n",
       "Bud Osborne                  23\n",
       "Addison Richards             23\n",
       "Horace B. Carpenter          23\n",
       "Kenner G. Kemp               23\n",
       "Budd Buster                  22\n",
       "Arthur Loft                  22\n",
       "Jack Ingram                  22\n",
       "Lee Phelps                   22\n",
       "Chester Clute                22\n",
       "Byron Foulger                22\n",
       "James Conaty                 21\n",
       "Al Ferguson                  21\n",
       "Edward Gargan                21\n",
       "Jack O'Shea                  21\n",
       "Rex Lease                    21\n",
       "Eddie Acuff                  20\n",
       "James Flavin                 20\n",
       "                             ..\n",
       "Scott Sanders                 1\n",
       "Achako Hanabishi              1\n",
       "Patricia Lynn                 1\n",
       "Grey Blake                    1\n",
       "Kannamba                      1\n",
       "Wallace Pindell               1\n",
       "Margaret Harvey               1\n",
       "Hilde Sessak                  1\n",
       "Doodles Weaver                1\n",
       "Joe (VIII) Peterson           1\n",
       "Konstantin Mikhaylov          1\n",
       "Mary Emery                    1\n",
       "Steve Benton                  1\n",
       "Fernand Ledoux                1\n",
       "Zdenek D?te                   1\n",
       "Arne Lindblad                 1\n",
       "Beresford Egan                1\n",
       "Margareta 'Marjo' Bergman     1\n",
       "Renee Gadd                    1\n",
       "Buck Woods                    1\n",
       "Gertrud ten Cate              1\n",
       "Ernesto Monato                1\n",
       "Mariya Yarotskaya             1\n",
       "Bill Barnum                   1\n",
       "David (III) Forrest           1\n",
       "Marie Melesh                  1\n",
       "Kerstin Rabe                  1\n",
       "Toni Eden                     1\n",
       "Robert Griffith               1\n",
       "Charles Owens                 1\n",
       "Name: name, dtype: int64"
      ]
     },
     "execution_count": 138,
     "metadata": {},
     "output_type": "execute_result"
    }
   ],
   "source": [
    "year1945.name.value_counts()"
   ]
  },
  {
   "cell_type": "markdown",
   "metadata": {
    "collapsed": true
   },
   "source": [
    "### Which actors or actresses appeared in the most movies in the year 1985?"
   ]
  },
  {
   "cell_type": "code",
   "execution_count": 141,
   "metadata": {
    "collapsed": true
   },
   "outputs": [],
   "source": [
    "year1985 = cast[cast.year == 1985]"
   ]
  },
  {
   "cell_type": "code",
   "execution_count": 154,
   "metadata": {
    "collapsed": false
   },
   "outputs": [
    {
     "data": {
      "text/plain": [
       "Mammootty                      22\n",
       "Shakti Kapoor                  21\n",
       "Sukumari                       20\n",
       "Aruna Irani                    15\n",
       "Raj Babbar                     15\n",
       "Mohanlal                       15\n",
       "Lou Scheimer                   15\n",
       "Deven Verma                    13\n",
       "Asrani                         13\n",
       "Rajesh Khanna                  13\n",
       "Om Shivpuri                    13\n",
       "Innocent Vareed Thekkethala    12\n",
       "Thilakan                       12\n",
       "Satyendra Kapoor               12\n",
       "Jagdish Raj                    12\n",
       "Pinchoo Kapoor                 12\n",
       "Yunus Parvez                   11\n",
       "Danny Denzongpa                11\n",
       "Nedumudi Venu                  10\n",
       "Madan Puri                     10\n",
       "Mithun Chakraborty             10\n",
       "Kader Khan                     10\n",
       "Iftekhar                       10\n",
       "Jagathi Sreekumar              10\n",
       "Sharat Saxena                  10\n",
       "Kulbhushan Kharbanda           10\n",
       "Shobana                        10\n",
       "Rati Agnihotri                 10\n",
       "Huma Khan                       9\n",
       "Pat (II) Fraley                 9\n",
       "                               ..\n",
       "Bruno Moynot                    1\n",
       "Beverly Murray                  1\n",
       "Chris Culp                      1\n",
       "Paul Pinnt                      1\n",
       "Betty Norris                    1\n",
       "Liu Jia                         1\n",
       "Petr J?kl                       1\n",
       "George Antoni                   1\n",
       "Tambrin Orobona                 1\n",
       "Todd Kube                       1\n",
       "Veselin Borisov                 1\n",
       "Emmanuel Cavalcanti             1\n",
       "Cyril Magnin                    1\n",
       "Johan Hobo                      1\n",
       "Pep Munn?                       1\n",
       "Steve Fifield                   1\n",
       "Mary Stuart Masterson           1\n",
       "Jeanne Panayotou                1\n",
       "Lisa (II) Rose                  1\n",
       "Esther Palmisano                1\n",
       "Manuel Collas                   1\n",
       "Marga L?pez                     1\n",
       "Arlinda Dickens                 1\n",
       "Maria Paola Sutto               1\n",
       "James Condon                    1\n",
       "William Ontiveros               1\n",
       "Hege Sandvik                    1\n",
       "Nils-Olof Baehrentz             1\n",
       "Gena Sleete                     1\n",
       "Peter Dulay                     1\n",
       "Name: name, dtype: int64"
      ]
     },
     "execution_count": 154,
     "metadata": {},
     "output_type": "execute_result"
    }
   ],
   "source": [
    "year1985.name.value_counts()"
   ]
  },
  {
   "cell_type": "markdown",
   "metadata": {
    "collapsed": true
   },
   "source": [
    "### Plot how many roles Mammootty has played in each year of his career."
   ]
  },
  {
   "cell_type": "code",
   "execution_count": 155,
   "metadata": {
    "collapsed": true
   },
   "outputs": [],
   "source": [
    "mammootty = cast[cast.name == \"Mammootty\"]"
   ]
  },
  {
   "cell_type": "code",
   "execution_count": 166,
   "metadata": {
    "collapsed": false
   },
   "outputs": [
    {
     "data": {
      "text/plain": [
       "278"
      ]
     },
     "execution_count": 166,
     "metadata": {},
     "output_type": "execute_result"
    }
   ],
   "source": [
    "mammootty.character.count()"
   ]
  },
  {
   "cell_type": "markdown",
   "metadata": {
    "collapsed": true
   },
   "source": [
    "### What are the 10 most frequent roles that start with the phrase \"Patron in\"?"
   ]
  },
  {
   "cell_type": "code",
   "execution_count": 167,
   "metadata": {
    "collapsed": true
   },
   "outputs": [],
   "source": [
    "patron = cast[cast.character.str.startswith(\"Patron in\")]"
   ]
  },
  {
   "cell_type": "code",
   "execution_count": 170,
   "metadata": {
    "collapsed": false
   },
   "outputs": [
    {
     "data": {
      "text/plain": [
       "Patron in Frisky Rabbit           16\n",
       "Patron in Chinese Restaurant       9\n",
       "Patron in the Coffee House         9\n",
       "Patron in Billiard Parlor          5\n",
       "Patron in Restaurant               4\n",
       "Patron in restaurant               4\n",
       "Patron in Bar                      4\n",
       "Patron in cabaret                  3\n",
       "Patron in Club                     3\n",
       "Patron in Coffee Shop              2\n",
       "Patron in Audience                 2\n",
       "Patron in Quiet Bar                2\n",
       "Patron in booth                    2\n",
       "Patron in Pizza Place              1\n",
       "Patron in Diner                    1\n",
       "Patron in Children's Nightclub     1\n",
       "Patron in Art Gallery              1\n",
       "Patron in Cinema                   1\n",
       "Patron in Hall #1                  1\n",
       "Patron in airport                  1\n",
       "Patron in Strip Club               1\n",
       "Patron in Hooly's                  1\n",
       "Patron in Bookstore                1\n",
       "Patron in Pool Hall                1\n",
       "Patron in Black                    1\n",
       "Patron in Macy's Lunchroom         1\n",
       "Patron in Night Club               1\n",
       "Patron in Cafe                     1\n",
       "Patron in Ballroom                 1\n",
       "Patron in the bar                  1\n",
       "Patron in Store                    1\n",
       "Patron in video store              1\n",
       "Name: character, dtype: int64"
      ]
     },
     "execution_count": 170,
     "metadata": {},
     "output_type": "execute_result"
    }
   ],
   "source": [
    "patron.character.value_counts()"
   ]
  },
  {
   "cell_type": "markdown",
   "metadata": {
    "collapsed": true
   },
   "source": [
    "### What are the 10 most frequent roles that start with the word \"Science\"?"
   ]
  },
  {
   "cell_type": "code",
   "execution_count": 171,
   "metadata": {
    "collapsed": true
   },
   "outputs": [],
   "source": [
    "science = cast[cast.character.str.startswith(\"Science\")]"
   ]
  },
  {
   "cell_type": "code",
   "execution_count": 172,
   "metadata": {
    "collapsed": false
   },
   "outputs": [
    {
     "data": {
      "text/plain": [
       "Science Teacher              60\n",
       "Science Student               9\n",
       "Science Fair Student          9\n",
       "Science Fair Judge            6\n",
       "Science Promo Cadet           5\n",
       "Science Club Member           5\n",
       "Science Kid                   5\n",
       "Science Reporter              5\n",
       "Science                       4\n",
       "Science Fair Kid              3\n",
       "Science Fair Teacher          3\n",
       "Science Officer               3\n",
       "Science teacher               3\n",
       "Science Guy                   2\n",
       "Science Class Student         2\n",
       "Science Fair Crowd Member     2\n",
       "Science Kid #1                2\n",
       "Science Team Member           2\n",
       "Science Monk                  1\n",
       "Science Lab Guard 2           1\n",
       "Science Museum Guest          1\n",
       "Science Fair Boy              1\n",
       "Science Performer 2           1\n",
       "Science Performer 3           1\n",
       "Science Tech #3               1\n",
       "Science Tech #2               1\n",
       "Science Apprentice            1\n",
       "Science School Teacher        1\n",
       "Science Officer 0718          1\n",
       "Science Woman                 1\n",
       "                             ..\n",
       "Science Boy                   1\n",
       "Science Date                  1\n",
       "Science Fair Mom              1\n",
       "Science Agency Director       1\n",
       "Science Engineer Student      1\n",
       "Science Fair Competition      1\n",
       "Science Minister              1\n",
       "Science Officer Arks          1\n",
       "Science Assistant             1\n",
       "Science Performer 1           1\n",
       "Science Monk's Assistant      1\n",
       "Science Officer Saline        1\n",
       "Science lover                 1\n",
       "Science Team Elder            1\n",
       "Science Nerd                  1\n",
       "Science Officer 4             1\n",
       "Science Lecturer              1\n",
       "Science Fair Plane Kid        1\n",
       "Science Tech #1               1\n",
       "Science Officer 1             1\n",
       "Science Officer 2             1\n",
       "Science Fair Attendee         1\n",
       "Science Geek                  1\n",
       "Science Fair Parent           1\n",
       "Science Fair Judge #3         1\n",
       "Science Tech #4               1\n",
       "Science professor             1\n",
       "Science Teacher Ga-hoo        1\n",
       "Science Agent                 1\n",
       "Science Fair Judge #4         1\n",
       "Name: character, dtype: int64"
      ]
     },
     "execution_count": 172,
     "metadata": {},
     "output_type": "execute_result"
    }
   ],
   "source": [
    "science.character.value_counts()"
   ]
  },
  {
   "cell_type": "markdown",
   "metadata": {
    "collapsed": true
   },
   "source": [
    "### Plot the n-values of the roles that Judi Dench has played over her career."
   ]
  },
  {
   "cell_type": "code",
   "execution_count": 173,
   "metadata": {
    "collapsed": true
   },
   "outputs": [],
   "source": [
    "judiplot = cast[(cast.name == \"Judi Dench\")]"
   ]
  },
  {
   "cell_type": "code",
   "execution_count": 190,
   "metadata": {
    "collapsed": false
   },
   "outputs": [
    {
     "data": {
      "text/plain": [
       "<matplotlib.axes._subplots.AxesSubplot at 0x11d2205d0>"
      ]
     },
     "execution_count": 190,
     "metadata": {},
     "output_type": "execute_result"
    },
    {
     "data": {
      "image/png": "[encoded data removed]",
      "text/plain": [
       "<matplotlib.figure.Figure at 0x11d31c850>"
      ]
     },
     "metadata": {},
     "output_type": "display_data"
    }
   ],
   "source": [
    "judiplot.n.value_counts().sort_index().plot(kind = \"bar\")"
   ]
  },
  {
   "cell_type": "markdown",
   "metadata": {
    "collapsed": true
   },
   "source": [
    "### Plot the n-values of Cary Grant's roles through his career."
   ]
  },
  {
   "cell_type": "code",
   "execution_count": 191,
   "metadata": {
    "collapsed": true
   },
   "outputs": [],
   "source": [
    "caryplot = cast[(cast.name == \"Cary Grant\")]"
   ]
  },
  {
   "cell_type": "code",
   "execution_count": 192,
   "metadata": {
    "collapsed": false
   },
   "outputs": [
    {
     "data": {
      "text/plain": [
       "<matplotlib.axes._subplots.AxesSubplot at 0x120045450>"
      ]
     },
     "execution_count": 192,
     "metadata": {},
     "output_type": "execute_result"
    },
    {
     "data": {
      "image/png": "[encoded data removed]",
      "text/plain": [
       "<matplotlib.figure.Figure at 0x11ad830d0>"
      ]
     },
     "metadata": {},
     "output_type": "display_data"
    }
   ],
   "source": [
    "caryplot.n.value_counts().sort_index().plot(kind = \"bar\")"
   ]
  },
  {
   "cell_type": "markdown",
   "metadata": {
    "collapsed": true
   },
   "source": [
    "### Plot the n-value of the roles that Sidney Poitier has acted over the years."
   ]
  },
  {
   "cell_type": "code",
   "execution_count": 193,
   "metadata": {
    "collapsed": true
   },
   "outputs": [],
   "source": [
    "sidneyplot = cast[(cast.name == \"Sidney Poitier\")]"
   ]
  },
  {
   "cell_type": "code",
   "execution_count": 200,
   "metadata": {
    "collapsed": false
   },
   "outputs": [
    {
     "data": {
      "text/plain": [
       "<matplotlib.axes._subplots.AxesSubplot at 0x1214257d0>"
      ]
     },
     "execution_count": 200,
     "metadata": {},
     "output_type": "execute_result"
    },
    {
     "data": {
      "image/png": "[encoded data removed]",
      "text/plain": [
       "<matplotlib.figure.Figure at 0x121bb5a50>"
      ]
     },
     "metadata": {},
     "output_type": "display_data"
    }
   ],
   "source": [
    "sidneyplot.n.value_counts().sort_index().plot(x = \"n-value\",y = \"# of roles\",kind = \"bar\")"
   ]
  },
  {
   "cell_type": "markdown",
   "metadata": {
    "collapsed": true
   },
   "source": [
    "### How many leading (n=1) roles were available to actors, and how many to actresses, in the 1950s?"
   ]
  },
  {
   "cell_type": "code",
   "execution_count": 201,
   "metadata": {
    "collapsed": true
   },
   "outputs": [],
   "source": [
    "lead50s = cast[(cast.year.between(1950,1959)) & (cast.n == 1)]"
   ]
  },
  {
   "cell_type": "code",
   "execution_count": 205,
   "metadata": {
    "collapsed": false
   },
   "outputs": [
    {
     "data": {
      "text/plain": [
       "9650"
      ]
     },
     "execution_count": 205,
     "metadata": {},
     "output_type": "execute_result"
    }
   ],
   "source": [
    "lead50s.character.count()"
   ]
  },
  {
   "cell_type": "markdown",
   "metadata": {
    "collapsed": true
   },
   "source": [
    "### How many supporting (n=2) roles were available to actors, and how many to actresses, in the 1950s?"
   ]
  },
  {
   "cell_type": "code",
   "execution_count": 206,
   "metadata": {
    "collapsed": true
   },
   "outputs": [],
   "source": [
    "support50s = cast[(cast.year.between(1950,1959)) & (cast.n == 2)]"
   ]
  },
  {
   "cell_type": "code",
   "execution_count": 207,
   "metadata": {
    "collapsed": false
   },
   "outputs": [
    {
     "data": {
      "text/plain": [
       "9185"
      ]
     },
     "execution_count": 207,
     "metadata": {},
     "output_type": "execute_result"
    }
   ],
   "source": [
    "support50s.character.count()"
   ]
  },
  {
   "cell_type": "code",
   "execution_count": null,
   "metadata": {
    "collapsed": true
   },
   "outputs": [],
   "source": []
  }
 ],
 "metadata": {
  "kernelspec": {
   "display_name": "Python 2",
   "language": "python",
   "name": "python2"
  },
  "language_info": {
   "codemirror_mode": {
    "name": "ipython",
    "version": 2
   },
   "file_extension": ".py",
   "mimetype": "text/x-python",
   "name": "python",
   "nbconvert_exporter": "python",
   "pygments_lexer": "ipython2",
   "version": "2.7.13"
  }
 },
 "nbformat": 4,
 "nbformat_minor": 0
}
