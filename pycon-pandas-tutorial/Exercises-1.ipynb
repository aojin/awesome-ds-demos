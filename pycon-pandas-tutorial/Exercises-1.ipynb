{
 "cells": [
  {
   "cell_type": "code",
   "execution_count": 1,
   "metadata": {
    "collapsed": false
   },
   "outputs": [],
   "source": [
    "%matplotlib inline\n",
    "import pandas as pd"
   ]
  },
  {
   "cell_type": "code",
   "execution_count": 2,
   "metadata": {
    "collapsed": false
   },
   "outputs": [
    {
     "data": {
      "text/html": [
       "<style>body {\n",
       "    margin: 0;\n",
       "    font-family: Helvetica;\n",
       "}\n",
       "table.dataframe {\n",
       "    border-collapse: collapse;\n",
       "    border: none;\n",
       "}\n",
       "table.dataframe tr {\n",
       "    border: none;\n",
       "}\n",
       "table.dataframe td, table.dataframe th {\n",
       "    margin: 0;\n",
       "    border: 1px solid white;\n",
       "    padding-left: 0.25em;\n",
       "    padding-right: 0.25em;\n",
       "}\n",
       "table.dataframe th:not(:empty) {\n",
       "    background-color: #fec;\n",
       "    text-align: left;\n",
       "    font-weight: normal;\n",
       "}\n",
       "table.dataframe tr:nth-child(2) th:empty {\n",
       "    border-left: none;\n",
       "    border-right: 1px dashed #888;\n",
       "}\n",
       "table.dataframe td {\n",
       "    border: 2px solid #ccf;\n",
       "    background-color: #f4f4ff;\n",
       "}\n",
       "h3 {\n",
       "    color: white;\n",
       "    background-color: black;\n",
       "    padding: 0.5em;\n",
       "}\n",
       "</style>"
      ],
      "text/plain": [
       "<IPython.core.display.HTML object>"
      ]
     },
     "execution_count": 2,
     "metadata": {},
     "output_type": "execute_result"
    }
   ],
   "source": [
    "from IPython.core.display import HTML\n",
    "css = open('style-table.css').read() + open('style-notebook.css').read()\n",
    "HTML('<style>{}</style>'.format(css))"
   ]
  },
  {
   "cell_type": "code",
   "execution_count": 4,
   "metadata": {
    "collapsed": false
   },
   "outputs": [
    {
     "data": {
      "text/html": [
       "<div>\n",
       "<table border=\"1\" class=\"dataframe\">\n",
       "  <thead>\n",
       "    <tr style=\"text-align: right;\">\n",
       "      <th></th>\n",
       "      <th>title</th>\n",
       "      <th>year</th>\n",
       "    </tr>\n",
       "  </thead>\n",
       "  <tbody>\n",
       "    <tr>\n",
       "      <th>0</th>\n",
       "      <td>The Rising Son</td>\n",
       "      <td>1990</td>\n",
       "    </tr>\n",
       "    <tr>\n",
       "      <th>1</th>\n",
       "      <td>The Thousand Plane Raid</td>\n",
       "      <td>1969</td>\n",
       "    </tr>\n",
       "    <tr>\n",
       "      <th>2</th>\n",
       "      <td>The Spider and the Fly</td>\n",
       "      <td>1949</td>\n",
       "    </tr>\n",
       "    <tr>\n",
       "      <th>3</th>\n",
       "      <td>Country</td>\n",
       "      <td>2000</td>\n",
       "    </tr>\n",
       "    <tr>\n",
       "      <th>4</th>\n",
       "      <td>Gaiking II</td>\n",
       "      <td>2011</td>\n",
       "    </tr>\n",
       "  </tbody>\n",
       "</table>\n",
       "</div>"
      ],
      "text/plain": [
       "                     title  year\n",
       "0           The Rising Son  1990\n",
       "1  The Thousand Plane Raid  1969\n",
       "2   The Spider and the Fly  1949\n",
       "3                  Country  2000\n",
       "4               Gaiking II  2011"
      ]
     },
     "execution_count": 4,
     "metadata": {},
     "output_type": "execute_result"
    }
   ],
   "source": [
    "titles = pd.DataFrame.from_csv('data/titles.csv', index_col=None)\n",
    "titles.head()"
   ]
  },
  {
   "cell_type": "code",
   "execution_count": 122,
   "metadata": {
    "collapsed": false
   },
   "outputs": [
    {
     "data": {
      "text/html": [
       "<div>\n",
       "<table border=\"1\" class=\"dataframe\">\n",
       "  <thead>\n",
       "    <tr style=\"text-align: right;\">\n",
       "      <th></th>\n",
       "      <th>title</th>\n",
       "      <th>year</th>\n",
       "      <th>name</th>\n",
       "      <th>type</th>\n",
       "      <th>character</th>\n",
       "      <th>n</th>\n",
       "    </tr>\n",
       "  </thead>\n",
       "  <tbody>\n",
       "    <tr>\n",
       "      <th>0</th>\n",
       "      <td>Closet Monster</td>\n",
       "      <td>2015</td>\n",
       "      <td>Buffy #1</td>\n",
       "      <td>actor</td>\n",
       "      <td>Buffy 4</td>\n",
       "      <td>31.0</td>\n",
       "    </tr>\n",
       "    <tr>\n",
       "      <th>1</th>\n",
       "      <td>Suuri illusioni</td>\n",
       "      <td>1985</td>\n",
       "      <td>Homo $</td>\n",
       "      <td>actor</td>\n",
       "      <td>Guests</td>\n",
       "      <td>22.0</td>\n",
       "    </tr>\n",
       "    <tr>\n",
       "      <th>2</th>\n",
       "      <td>Battle of the Sexes</td>\n",
       "      <td>2017</td>\n",
       "      <td>$hutter</td>\n",
       "      <td>actor</td>\n",
       "      <td>Bobby Riggs Fan</td>\n",
       "      <td>10.0</td>\n",
       "    </tr>\n",
       "    <tr>\n",
       "      <th>3</th>\n",
       "      <td>Secret in Their Eyes</td>\n",
       "      <td>2015</td>\n",
       "      <td>$hutter</td>\n",
       "      <td>actor</td>\n",
       "      <td>2002 Dodger Fan</td>\n",
       "      <td>NaN</td>\n",
       "    </tr>\n",
       "    <tr>\n",
       "      <th>4</th>\n",
       "      <td>Steve Jobs</td>\n",
       "      <td>2015</td>\n",
       "      <td>$hutter</td>\n",
       "      <td>actor</td>\n",
       "      <td>1988 Opera House Patron</td>\n",
       "      <td>NaN</td>\n",
       "    </tr>\n",
       "  </tbody>\n",
       "</table>\n",
       "</div>"
      ],
      "text/plain": [
       "                  title  year      name   type                character     n\n",
       "0        Closet Monster  2015  Buffy #1  actor                  Buffy 4  31.0\n",
       "1       Suuri illusioni  1985    Homo $  actor                   Guests  22.0\n",
       "2   Battle of the Sexes  2017   $hutter  actor          Bobby Riggs Fan  10.0\n",
       "3  Secret in Their Eyes  2015   $hutter  actor          2002 Dodger Fan   NaN\n",
       "4            Steve Jobs  2015   $hutter  actor  1988 Opera House Patron   NaN"
      ]
     },
     "execution_count": 122,
     "metadata": {},
     "output_type": "execute_result"
    }
   ],
   "source": [
    "cast = pd.DataFrame.from_csv('data/cast.csv', index_col=None)\n",
    "cast.head()"
   ]
  },
  {
   "cell_type": "markdown",
   "metadata": {
    "collapsed": true
   },
   "source": [
    "### How many movies are listed in the titles dataframe?"
   ]
  },
  {
   "cell_type": "code",
   "execution_count": 6,
   "metadata": {
    "collapsed": false
   },
   "outputs": [
    {
     "data": {
      "text/plain": [
       "(236963, 2)"
      ]
     },
     "execution_count": 6,
     "metadata": {},
     "output_type": "execute_result"
    }
   ],
   "source": [
    "titles.shape"
   ]
  },
  {
   "cell_type": "code",
   "execution_count": null,
   "metadata": {
    "collapsed": true
   },
   "outputs": [],
   "source": [
    "#236,963 movies are listed in the titles df"
   ]
  },
  {
   "cell_type": "markdown",
   "metadata": {
    "collapsed": true
   },
   "source": [
    "### What are the earliest two films listed in the titles dataframe?"
   ]
  },
  {
   "cell_type": "code",
   "execution_count": 14,
   "metadata": {
    "collapsed": false
   },
   "outputs": [
    {
     "data": {
      "text/html": [
       "<div>\n",
       "<table border=\"1\" class=\"dataframe\">\n",
       "  <thead>\n",
       "    <tr style=\"text-align: right;\">\n",
       "      <th></th>\n",
       "      <th>title</th>\n",
       "      <th>year</th>\n",
       "    </tr>\n",
       "  </thead>\n",
       "  <tbody>\n",
       "    <tr>\n",
       "      <th>181244</th>\n",
       "      <td>Miss Jerry</td>\n",
       "      <td>1894</td>\n",
       "    </tr>\n",
       "    <tr>\n",
       "      <th>219511</th>\n",
       "      <td>The Startled Lover</td>\n",
       "      <td>1898</td>\n",
       "    </tr>\n",
       "    <tr>\n",
       "      <th>126972</th>\n",
       "      <td>Reproduction of the Corbett and Jeffries Fight</td>\n",
       "      <td>1899</td>\n",
       "    </tr>\n",
       "    <tr>\n",
       "      <th>96791</th>\n",
       "      <td>Trouble in Hogan's Alley</td>\n",
       "      <td>1900</td>\n",
       "    </tr>\n",
       "    <tr>\n",
       "      <th>13864</th>\n",
       "      <td>Family Troubles (II)</td>\n",
       "      <td>1900</td>\n",
       "    </tr>\n",
       "  </tbody>\n",
       "</table>\n",
       "</div>"
      ],
      "text/plain": [
       "                                                 title  year\n",
       "181244                                      Miss Jerry  1894\n",
       "219511                              The Startled Lover  1898\n",
       "126972  Reproduction of the Corbett and Jeffries Fight  1899\n",
       "96791                         Trouble in Hogan's Alley  1900\n",
       "13864                             Family Troubles (II)  1900"
      ]
     },
     "execution_count": 14,
     "metadata": {},
     "output_type": "execute_result"
    }
   ],
   "source": [
    "titles.sort_values(\"year\").head()"
   ]
  },
  {
   "cell_type": "markdown",
   "metadata": {
    "collapsed": true
   },
   "source": [
    "The two earliest films in the IMDB database titles df are Miss Jerry & The Startled Lover"
   ]
  },
  {
   "cell_type": "markdown",
   "metadata": {
    "collapsed": true
   },
   "source": [
    "### How many movies have the title \"Hamlet\"?"
   ]
  },
  {
   "cell_type": "code",
   "execution_count": 28,
   "metadata": {
    "collapsed": false
   },
   "outputs": [
    {
     "data": {
      "text/plain": [
       "title    20\n",
       "year     20\n",
       "dtype: int64"
      ]
     },
     "execution_count": 28,
     "metadata": {},
     "output_type": "execute_result"
    }
   ],
   "source": [
    "titles[titles[\"title\"] == \"Hamlet\"].count()"
   ]
  },
  {
   "cell_type": "markdown",
   "metadata": {
    "collapsed": true
   },
   "source": [
    "20 movies in the titles dataframe have the title \"Hamlet\""
   ]
  },
  {
   "cell_type": "markdown",
   "metadata": {
    "collapsed": true
   },
   "source": [
    "### How many movies are titled \"North by Northwest\"?"
   ]
  },
  {
   "cell_type": "code",
   "execution_count": 30,
   "metadata": {
    "collapsed": false
   },
   "outputs": [
    {
     "data": {
      "text/plain": [
       "title    1\n",
       "year     1\n",
       "dtype: int64"
      ]
     },
     "execution_count": 30,
     "metadata": {},
     "output_type": "execute_result"
    }
   ],
   "source": [
    "titles[titles[\"title\"] == \"North by Northwest\"].count()"
   ]
  },
  {
   "cell_type": "markdown",
   "metadata": {
    "collapsed": true
   },
   "source": [
    "Just one movie called \"North by Northwest\" is found in titles."
   ]
  },
  {
   "cell_type": "markdown",
   "metadata": {
    "collapsed": true
   },
   "source": [
    "### When was the first movie titled \"Hamlet\" made?"
   ]
  },
  {
   "cell_type": "code",
   "execution_count": 151,
   "metadata": {
    "collapsed": false
   },
   "outputs": [
    {
     "data": {
      "text/html": [
       "<div>\n",
       "<table border=\"1\" class=\"dataframe\">\n",
       "  <thead>\n",
       "    <tr style=\"text-align: right;\">\n",
       "      <th></th>\n",
       "      <th>title</th>\n",
       "      <th>year</th>\n",
       "    </tr>\n",
       "  </thead>\n",
       "  <tbody>\n",
       "    <tr>\n",
       "      <th>47662</th>\n",
       "      <td>Hamlet</td>\n",
       "      <td>1910</td>\n",
       "    </tr>\n",
       "    <tr>\n",
       "      <th>214027</th>\n",
       "      <td>Hamlet</td>\n",
       "      <td>1911</td>\n",
       "    </tr>\n",
       "    <tr>\n",
       "      <th>169711</th>\n",
       "      <td>Hamlet</td>\n",
       "      <td>1913</td>\n",
       "    </tr>\n",
       "    <tr>\n",
       "      <th>100423</th>\n",
       "      <td>Hamlet</td>\n",
       "      <td>1921</td>\n",
       "    </tr>\n",
       "    <tr>\n",
       "      <th>6120</th>\n",
       "      <td>Hamlet</td>\n",
       "      <td>1948</td>\n",
       "    </tr>\n",
       "    <tr>\n",
       "      <th>130927</th>\n",
       "      <td>Hamlet</td>\n",
       "      <td>1954</td>\n",
       "    </tr>\n",
       "    <tr>\n",
       "      <th>186530</th>\n",
       "      <td>Hamlet</td>\n",
       "      <td>1964</td>\n",
       "    </tr>\n",
       "    <tr>\n",
       "      <th>231663</th>\n",
       "      <td>Hamlet (II)</td>\n",
       "      <td>1964</td>\n",
       "    </tr>\n",
       "    <tr>\n",
       "      <th>125141</th>\n",
       "      <td>Hamlet</td>\n",
       "      <td>1969</td>\n",
       "    </tr>\n",
       "    <tr>\n",
       "      <th>225855</th>\n",
       "      <td>Hamlet</td>\n",
       "      <td>1973</td>\n",
       "    </tr>\n",
       "    <tr>\n",
       "      <th>93892</th>\n",
       "      <td>Hamlet</td>\n",
       "      <td>1976</td>\n",
       "    </tr>\n",
       "    <tr>\n",
       "      <th>96138</th>\n",
       "      <td>Hamlet</td>\n",
       "      <td>1987</td>\n",
       "    </tr>\n",
       "    <tr>\n",
       "      <th>116675</th>\n",
       "      <td>Hamlet liikemaailmassa</td>\n",
       "      <td>1987</td>\n",
       "    </tr>\n",
       "    <tr>\n",
       "      <th>7823</th>\n",
       "      <td>Hamlet: Prince of Denmark</td>\n",
       "      <td>1989</td>\n",
       "    </tr>\n",
       "    <tr>\n",
       "      <th>46261</th>\n",
       "      <td>Hamlet</td>\n",
       "      <td>1990</td>\n",
       "    </tr>\n",
       "    <tr>\n",
       "      <th>205251</th>\n",
       "      <td>Hamlet</td>\n",
       "      <td>1996</td>\n",
       "    </tr>\n",
       "    <tr>\n",
       "      <th>17735</th>\n",
       "      <td>Hamlet, Prince of Denmark</td>\n",
       "      <td>1997</td>\n",
       "    </tr>\n",
       "    <tr>\n",
       "      <th>96341</th>\n",
       "      <td>Hamlet</td>\n",
       "      <td>2000</td>\n",
       "    </tr>\n",
       "    <tr>\n",
       "      <th>228066</th>\n",
       "      <td>Hamlet in the Hamptons</td>\n",
       "      <td>2002</td>\n",
       "    </tr>\n",
       "    <tr>\n",
       "      <th>37876</th>\n",
       "      <td>Hamlet_X</td>\n",
       "      <td>2003</td>\n",
       "    </tr>\n",
       "    <tr>\n",
       "      <th>81273</th>\n",
       "      <td>Hamlet X</td>\n",
       "      <td>2004</td>\n",
       "    </tr>\n",
       "    <tr>\n",
       "      <th>8749</th>\n",
       "      <td>Hamlet (II)</td>\n",
       "      <td>2005</td>\n",
       "    </tr>\n",
       "    <tr>\n",
       "      <th>45594</th>\n",
       "      <td>Hamlet (III)</td>\n",
       "      <td>2007</td>\n",
       "    </tr>\n",
       "    <tr>\n",
       "      <th>166693</th>\n",
       "      <td>Hamlet (II)</td>\n",
       "      <td>2007</td>\n",
       "    </tr>\n",
       "    <tr>\n",
       "      <th>175828</th>\n",
       "      <td>Hamlet the Vampire Slayer</td>\n",
       "      <td>2008</td>\n",
       "    </tr>\n",
       "    <tr>\n",
       "      <th>99944</th>\n",
       "      <td>Hamlet 2</td>\n",
       "      <td>2008</td>\n",
       "    </tr>\n",
       "    <tr>\n",
       "      <th>179548</th>\n",
       "      <td>Hamlet</td>\n",
       "      <td>2009</td>\n",
       "    </tr>\n",
       "    <tr>\n",
       "      <th>104905</th>\n",
       "      <td>Hamlet</td>\n",
       "      <td>2011</td>\n",
       "    </tr>\n",
       "    <tr>\n",
       "      <th>15466</th>\n",
       "      <td>Hamlet Unbound</td>\n",
       "      <td>2012</td>\n",
       "    </tr>\n",
       "    <tr>\n",
       "      <th>176687</th>\n",
       "      <td>Hamlet A.D.D.</td>\n",
       "      <td>2014</td>\n",
       "    </tr>\n",
       "    <tr>\n",
       "      <th>228013</th>\n",
       "      <td>Hamlet</td>\n",
       "      <td>2014</td>\n",
       "    </tr>\n",
       "    <tr>\n",
       "      <th>9046</th>\n",
       "      <td>Hamlet (II)</td>\n",
       "      <td>2015</td>\n",
       "    </tr>\n",
       "    <tr>\n",
       "      <th>172297</th>\n",
       "      <td>Hamlet</td>\n",
       "      <td>2015</td>\n",
       "    </tr>\n",
       "    <tr>\n",
       "      <th>96473</th>\n",
       "      <td>Hamlet's Ghost</td>\n",
       "      <td>2015</td>\n",
       "    </tr>\n",
       "    <tr>\n",
       "      <th>40025</th>\n",
       "      <td>Hamlet, Son of a Kingpin</td>\n",
       "      <td>2015</td>\n",
       "    </tr>\n",
       "    <tr>\n",
       "      <th>9181</th>\n",
       "      <td>Hamlet. Comedy</td>\n",
       "      <td>2016</td>\n",
       "    </tr>\n",
       "    <tr>\n",
       "      <th>183315</th>\n",
       "      <td>Hamlet</td>\n",
       "      <td>2016</td>\n",
       "    </tr>\n",
       "    <tr>\n",
       "      <th>111479</th>\n",
       "      <td>Hamlet Frezer</td>\n",
       "      <td>2016</td>\n",
       "    </tr>\n",
       "    <tr>\n",
       "      <th>50279</th>\n",
       "      <td>Hamlet</td>\n",
       "      <td>2017</td>\n",
       "    </tr>\n",
       "    <tr>\n",
       "      <th>15486</th>\n",
       "      <td>Hamlet: The Fall of a Sparrow</td>\n",
       "      <td>2017</td>\n",
       "    </tr>\n",
       "    <tr>\n",
       "      <th>30514</th>\n",
       "      <td>Hamlet (II)</td>\n",
       "      <td>2017</td>\n",
       "    </tr>\n",
       "  </tbody>\n",
       "</table>\n",
       "</div>"
      ],
      "text/plain": [
       "                                title  year\n",
       "47662                          Hamlet  1910\n",
       "214027                         Hamlet  1911\n",
       "169711                         Hamlet  1913\n",
       "100423                         Hamlet  1921\n",
       "6120                           Hamlet  1948\n",
       "130927                         Hamlet  1954\n",
       "186530                         Hamlet  1964\n",
       "231663                    Hamlet (II)  1964\n",
       "125141                         Hamlet  1969\n",
       "225855                         Hamlet  1973\n",
       "93892                          Hamlet  1976\n",
       "96138                          Hamlet  1987\n",
       "116675         Hamlet liikemaailmassa  1987\n",
       "7823        Hamlet: Prince of Denmark  1989\n",
       "46261                          Hamlet  1990\n",
       "205251                         Hamlet  1996\n",
       "17735       Hamlet, Prince of Denmark  1997\n",
       "96341                          Hamlet  2000\n",
       "228066         Hamlet in the Hamptons  2002\n",
       "37876                        Hamlet_X  2003\n",
       "81273                        Hamlet X  2004\n",
       "8749                      Hamlet (II)  2005\n",
       "45594                    Hamlet (III)  2007\n",
       "166693                    Hamlet (II)  2007\n",
       "175828      Hamlet the Vampire Slayer  2008\n",
       "99944                        Hamlet 2  2008\n",
       "179548                         Hamlet  2009\n",
       "104905                         Hamlet  2011\n",
       "15466                  Hamlet Unbound  2012\n",
       "176687                  Hamlet A.D.D.  2014\n",
       "228013                         Hamlet  2014\n",
       "9046                      Hamlet (II)  2015\n",
       "172297                         Hamlet  2015\n",
       "96473                  Hamlet's Ghost  2015\n",
       "40025        Hamlet, Son of a Kingpin  2015\n",
       "9181                   Hamlet. Comedy  2016\n",
       "183315                         Hamlet  2016\n",
       "111479                  Hamlet Frezer  2016\n",
       "50279                          Hamlet  2017\n",
       "15486   Hamlet: The Fall of a Sparrow  2017\n",
       "30514                     Hamlet (II)  2017"
      ]
     },
     "execution_count": 151,
     "metadata": {},
     "output_type": "execute_result"
    }
   ],
   "source": [
    "titles[titles.title.str.startswith(\"Hamlet\")].sort_values('year')"
   ]
  },
  {
   "cell_type": "markdown",
   "metadata": {
    "collapsed": true
   },
   "source": [
    "Sort by the index value 'year' to find that Hamlet was first produced in 1910."
   ]
  },
  {
   "cell_type": "markdown",
   "metadata": {
    "collapsed": true
   },
   "source": [
    "### List all of the \"Treasure Island\" movies from earliest to most recent."
   ]
  },
  {
   "cell_type": "code",
   "execution_count": 153,
   "metadata": {
    "collapsed": false
   },
   "outputs": [
    {
     "data": {
      "text/html": [
       "<div>\n",
       "<table border=\"1\" class=\"dataframe\">\n",
       "  <thead>\n",
       "    <tr style=\"text-align: right;\">\n",
       "      <th></th>\n",
       "      <th>title</th>\n",
       "      <th>year</th>\n",
       "    </tr>\n",
       "  </thead>\n",
       "  <tbody>\n",
       "    <tr>\n",
       "      <th>210078</th>\n",
       "      <td>Treasure Island</td>\n",
       "      <td>1918</td>\n",
       "    </tr>\n",
       "    <tr>\n",
       "      <th>52304</th>\n",
       "      <td>Treasure Island</td>\n",
       "      <td>1920</td>\n",
       "    </tr>\n",
       "    <tr>\n",
       "      <th>194785</th>\n",
       "      <td>Treasure Island</td>\n",
       "      <td>1934</td>\n",
       "    </tr>\n",
       "    <tr>\n",
       "      <th>98757</th>\n",
       "      <td>Treasure Island</td>\n",
       "      <td>1950</td>\n",
       "    </tr>\n",
       "    <tr>\n",
       "      <th>91243</th>\n",
       "      <td>Treasure Island</td>\n",
       "      <td>1972</td>\n",
       "    </tr>\n",
       "    <tr>\n",
       "      <th>113501</th>\n",
       "      <td>Treasure Island</td>\n",
       "      <td>1973</td>\n",
       "    </tr>\n",
       "    <tr>\n",
       "      <th>209441</th>\n",
       "      <td>Treasure Island</td>\n",
       "      <td>1985</td>\n",
       "    </tr>\n",
       "    <tr>\n",
       "      <th>104343</th>\n",
       "      <td>Treasure Island (II)</td>\n",
       "      <td>1999</td>\n",
       "    </tr>\n",
       "    <tr>\n",
       "      <th>182863</th>\n",
       "      <td>Treasure Island</td>\n",
       "      <td>1999</td>\n",
       "    </tr>\n",
       "    <tr>\n",
       "      <th>40975</th>\n",
       "      <td>Treasure Island Kids: The Battle of Treasure I...</td>\n",
       "      <td>2006</td>\n",
       "    </tr>\n",
       "    <tr>\n",
       "      <th>184002</th>\n",
       "      <td>Treasure Island Kids: The Mystery of Treasure ...</td>\n",
       "      <td>2006</td>\n",
       "    </tr>\n",
       "    <tr>\n",
       "      <th>228049</th>\n",
       "      <td>Treasure Island Kids: The Monster of Treasure ...</td>\n",
       "      <td>2006</td>\n",
       "    </tr>\n",
       "  </tbody>\n",
       "</table>\n",
       "</div>"
      ],
      "text/plain": [
       "                                                    title  year\n",
       "210078                                    Treasure Island  1918\n",
       "52304                                     Treasure Island  1920\n",
       "194785                                    Treasure Island  1934\n",
       "98757                                     Treasure Island  1950\n",
       "91243                                     Treasure Island  1972\n",
       "113501                                    Treasure Island  1973\n",
       "209441                                    Treasure Island  1985\n",
       "104343                               Treasure Island (II)  1999\n",
       "182863                                    Treasure Island  1999\n",
       "40975   Treasure Island Kids: The Battle of Treasure I...  2006\n",
       "184002  Treasure Island Kids: The Mystery of Treasure ...  2006\n",
       "228049  Treasure Island Kids: The Monster of Treasure ...  2006"
      ]
     },
     "execution_count": 153,
     "metadata": {},
     "output_type": "execute_result"
    }
   ],
   "source": [
    "titles[titles.title.str.startswith(\"Treasure Island\")].sort_values(\"year\")"
   ]
  },
  {
   "cell_type": "code",
   "execution_count": null,
   "metadata": {
    "collapsed": true
   },
   "outputs": [],
   "source": []
  },
  {
   "cell_type": "markdown",
   "metadata": {
    "collapsed": true
   },
   "source": [
    "### How many movies were made in the year 1950?"
   ]
  },
  {
   "cell_type": "code",
   "execution_count": 52,
   "metadata": {
    "collapsed": false
   },
   "outputs": [
    {
     "data": {
      "text/plain": [
       "title    1100\n",
       "year     1100\n",
       "dtype: int64"
      ]
     },
     "execution_count": 52,
     "metadata": {},
     "output_type": "execute_result"
    }
   ],
   "source": [
    "titles[titles['year'] == 1950].count()"
   ]
  },
  {
   "cell_type": "code",
   "execution_count": null,
   "metadata": {
    "collapsed": true
   },
   "outputs": [],
   "source": []
  },
  {
   "cell_type": "markdown",
   "metadata": {
    "collapsed": true
   },
   "source": [
    "### How many movies were made in the year 1960?"
   ]
  },
  {
   "cell_type": "code",
   "execution_count": 154,
   "metadata": {
    "collapsed": false
   },
   "outputs": [
    {
     "data": {
      "text/html": [
       "<div>\n",
       "<table border=\"1\" class=\"dataframe\">\n",
       "  <thead>\n",
       "    <tr style=\"text-align: right;\">\n",
       "      <th></th>\n",
       "      <th>title</th>\n",
       "      <th>year</th>\n",
       "    </tr>\n",
       "  </thead>\n",
       "  <tbody>\n",
       "    <tr>\n",
       "      <th>327</th>\n",
       "      <td>The Challenge</td>\n",
       "      <td>1960</td>\n",
       "    </tr>\n",
       "    <tr>\n",
       "      <th>451</th>\n",
       "      <td>Dos hijos desobedientes</td>\n",
       "      <td>1960</td>\n",
       "    </tr>\n",
       "    <tr>\n",
       "      <th>874</th>\n",
       "      <td>Pretty Boy Floyd</td>\n",
       "      <td>1960</td>\n",
       "    </tr>\n",
       "    <tr>\n",
       "      <th>903</th>\n",
       "      <td>Caught in the Net</td>\n",
       "      <td>1960</td>\n",
       "    </tr>\n",
       "    <tr>\n",
       "      <th>1013</th>\n",
       "      <td>Un militare e mezzo</td>\n",
       "      <td>1960</td>\n",
       "    </tr>\n",
       "  </tbody>\n",
       "</table>\n",
       "</div>"
      ],
      "text/plain": [
       "                        title  year\n",
       "327             The Challenge  1960\n",
       "451   Dos hijos desobedientes  1960\n",
       "874          Pretty Boy Floyd  1960\n",
       "903         Caught in the Net  1960\n",
       "1013      Un militare e mezzo  1960"
      ]
     },
     "execution_count": 154,
     "metadata": {},
     "output_type": "execute_result"
    }
   ],
   "source": [
    "titles[titles['year'] == 1960].head()"
   ]
  },
  {
   "cell_type": "code",
   "execution_count": 65,
   "metadata": {
    "collapsed": false
   },
   "outputs": [
    {
     "data": {
      "text/plain": [
       "numpy.int64"
      ]
     },
     "execution_count": 65,
     "metadata": {},
     "output_type": "execute_result"
    }
   ],
   "source": [
    "type(titles['year'][1])"
   ]
  },
  {
   "cell_type": "markdown",
   "metadata": {
    "collapsed": true
   },
   "source": [
    "### How many movies were made from 1950 through 1959?"
   ]
  },
  {
   "cell_type": "code",
   "execution_count": 78,
   "metadata": {
    "collapsed": false
   },
   "outputs": [],
   "source": [
    "fiftiesmovies = titles[(titles.year >= 1950) & (titles.year <= 1959)].sort_values('year')"
   ]
  },
  {
   "cell_type": "code",
   "execution_count": 79,
   "metadata": {
    "collapsed": false
   },
   "outputs": [
    {
     "data": {
      "text/html": [
       "<div>\n",
       "<table border=\"1\" class=\"dataframe\">\n",
       "  <thead>\n",
       "    <tr style=\"text-align: right;\">\n",
       "      <th></th>\n",
       "      <th>title</th>\n",
       "      <th>year</th>\n",
       "    </tr>\n",
       "  </thead>\n",
       "  <tbody>\n",
       "    <tr>\n",
       "      <th>161571</th>\n",
       "      <td>Umi no G-men</td>\n",
       "      <td>1950</td>\n",
       "    </tr>\n",
       "    <tr>\n",
       "      <th>28568</th>\n",
       "      <td>Cuando acaba la noche</td>\n",
       "      <td>1950</td>\n",
       "    </tr>\n",
       "    <tr>\n",
       "      <th>108758</th>\n",
       "      <td>Paid in Full</td>\n",
       "      <td>1950</td>\n",
       "    </tr>\n",
       "    <tr>\n",
       "      <th>108769</th>\n",
       "      <td>Lilli Marlene</td>\n",
       "      <td>1950</td>\n",
       "    </tr>\n",
       "    <tr>\n",
       "      <th>108804</th>\n",
       "      <td>The Toast of New Orleans</td>\n",
       "      <td>1950</td>\n",
       "    </tr>\n",
       "  </tbody>\n",
       "</table>\n",
       "</div>"
      ],
      "text/plain": [
       "                           title  year\n",
       "161571              Umi no G-men  1950\n",
       "28568      Cuando acaba la noche  1950\n",
       "108758              Paid in Full  1950\n",
       "108769             Lilli Marlene  1950\n",
       "108804  The Toast of New Orleans  1950"
      ]
     },
     "execution_count": 79,
     "metadata": {},
     "output_type": "execute_result"
    }
   ],
   "source": [
    "fiftiesmovies.head()"
   ]
  },
  {
   "cell_type": "code",
   "execution_count": 80,
   "metadata": {
    "collapsed": false
   },
   "outputs": [
    {
     "data": {
      "text/html": [
       "<div>\n",
       "<table border=\"1\" class=\"dataframe\">\n",
       "  <thead>\n",
       "    <tr style=\"text-align: right;\">\n",
       "      <th></th>\n",
       "      <th>title</th>\n",
       "      <th>year</th>\n",
       "    </tr>\n",
       "  </thead>\n",
       "  <tbody>\n",
       "    <tr>\n",
       "      <th>116742</th>\n",
       "      <td>Libel</td>\n",
       "      <td>1959</td>\n",
       "    </tr>\n",
       "    <tr>\n",
       "      <th>182859</th>\n",
       "      <td>Babette s'en va-t-en guerre</td>\n",
       "      <td>1959</td>\n",
       "    </tr>\n",
       "    <tr>\n",
       "      <th>56162</th>\n",
       "      <td>Die ying hong li ji</td>\n",
       "      <td>1959</td>\n",
       "    </tr>\n",
       "    <tr>\n",
       "      <th>55531</th>\n",
       "      <td>Matir Pahar</td>\n",
       "      <td>1959</td>\n",
       "    </tr>\n",
       "    <tr>\n",
       "      <th>178896</th>\n",
       "      <td>Due selvaggi a corte</td>\n",
       "      <td>1959</td>\n",
       "    </tr>\n",
       "  </tbody>\n",
       "</table>\n",
       "</div>"
      ],
      "text/plain": [
       "                              title  year\n",
       "116742                        Libel  1959\n",
       "182859  Babette s'en va-t-en guerre  1959\n",
       "56162           Die ying hong li ji  1959\n",
       "55531                   Matir Pahar  1959\n",
       "178896         Due selvaggi a corte  1959"
      ]
     },
     "execution_count": 80,
     "metadata": {},
     "output_type": "execute_result"
    }
   ],
   "source": [
    "fiftiesmovies.tail()"
   ]
  },
  {
   "cell_type": "markdown",
   "metadata": {
    "collapsed": true
   },
   "source": [
    "### In what years has a movie titled \"Batman\" been released?"
   ]
  },
  {
   "cell_type": "code",
   "execution_count": 97,
   "metadata": {
    "collapsed": false
   },
   "outputs": [],
   "source": [
    "batman = titles[titles['title'] == \"Batman\"].sort_values(\"year\")"
   ]
  },
  {
   "cell_type": "code",
   "execution_count": 102,
   "metadata": {
    "collapsed": false
   },
   "outputs": [
    {
     "data": {
      "text/plain": [
       "<bound method Series.unique of 76076    1943\n",
       "57143    1989\n",
       "Name: year, dtype: int64>"
      ]
     },
     "execution_count": 102,
     "metadata": {},
     "output_type": "execute_result"
    }
   ],
   "source": [
    "batman.year.unique"
   ]
  },
  {
   "cell_type": "markdown",
   "metadata": {
    "collapsed": true
   },
   "source": [
    "### How many roles were there in the movie \"Inception\"?"
   ]
  },
  {
   "cell_type": "code",
   "execution_count": 103,
   "metadata": {
    "collapsed": false
   },
   "outputs": [
    {
     "data": {
      "text/html": [
       "<div>\n",
       "<table border=\"1\" class=\"dataframe\">\n",
       "  <thead>\n",
       "    <tr style=\"text-align: right;\">\n",
       "      <th></th>\n",
       "      <th>title</th>\n",
       "      <th>year</th>\n",
       "      <th>name</th>\n",
       "      <th>type</th>\n",
       "      <th>character</th>\n",
       "      <th>n</th>\n",
       "    </tr>\n",
       "  </thead>\n",
       "  <tbody>\n",
       "    <tr>\n",
       "      <th>0</th>\n",
       "      <td>Closet Monster</td>\n",
       "      <td>2015</td>\n",
       "      <td>Buffy #1</td>\n",
       "      <td>actor</td>\n",
       "      <td>Buffy 4</td>\n",
       "      <td>31.0</td>\n",
       "    </tr>\n",
       "    <tr>\n",
       "      <th>1</th>\n",
       "      <td>Suuri illusioni</td>\n",
       "      <td>1985</td>\n",
       "      <td>Homo $</td>\n",
       "      <td>actor</td>\n",
       "      <td>Guests</td>\n",
       "      <td>22.0</td>\n",
       "    </tr>\n",
       "    <tr>\n",
       "      <th>2</th>\n",
       "      <td>Battle of the Sexes</td>\n",
       "      <td>2017</td>\n",
       "      <td>$hutter</td>\n",
       "      <td>actor</td>\n",
       "      <td>Bobby Riggs Fan</td>\n",
       "      <td>10.0</td>\n",
       "    </tr>\n",
       "    <tr>\n",
       "      <th>3</th>\n",
       "      <td>Secret in Their Eyes</td>\n",
       "      <td>2015</td>\n",
       "      <td>$hutter</td>\n",
       "      <td>actor</td>\n",
       "      <td>2002 Dodger Fan</td>\n",
       "      <td>NaN</td>\n",
       "    </tr>\n",
       "    <tr>\n",
       "      <th>4</th>\n",
       "      <td>Steve Jobs</td>\n",
       "      <td>2015</td>\n",
       "      <td>$hutter</td>\n",
       "      <td>actor</td>\n",
       "      <td>1988 Opera House Patron</td>\n",
       "      <td>NaN</td>\n",
       "    </tr>\n",
       "  </tbody>\n",
       "</table>\n",
       "</div>"
      ],
      "text/plain": [
       "                  title  year      name   type                character     n\n",
       "0        Closet Monster  2015  Buffy #1  actor                  Buffy 4  31.0\n",
       "1       Suuri illusioni  1985    Homo $  actor                   Guests  22.0\n",
       "2   Battle of the Sexes  2017   $hutter  actor          Bobby Riggs Fan  10.0\n",
       "3  Secret in Their Eyes  2015   $hutter  actor          2002 Dodger Fan   NaN\n",
       "4            Steve Jobs  2015   $hutter  actor  1988 Opera House Patron   NaN"
      ]
     },
     "execution_count": 103,
     "metadata": {},
     "output_type": "execute_result"
    }
   ],
   "source": [
    "cast.head()"
   ]
  },
  {
   "cell_type": "code",
   "execution_count": 108,
   "metadata": {
    "collapsed": false
   },
   "outputs": [
    {
     "data": {
      "text/plain": [
       "title        78\n",
       "year         78\n",
       "name         78\n",
       "type         78\n",
       "character    78\n",
       "n            51\n",
       "dtype: int64"
      ]
     },
     "execution_count": 108,
     "metadata": {},
     "output_type": "execute_result"
    }
   ],
   "source": [
    "cast[cast['title'] == \"Inception\"].count()"
   ]
  },
  {
   "cell_type": "markdown",
   "metadata": {
    "collapsed": true
   },
   "source": [
    "### How many roles in the movie \"Inception\" are NOT ranked by an \"n\" value?"
   ]
  },
  {
   "cell_type": "code",
   "execution_count": 123,
   "metadata": {
    "collapsed": true
   },
   "outputs": [],
   "source": [
    "inception = cast[cast['title'] == \"Inception\"]"
   ]
  },
  {
   "cell_type": "code",
   "execution_count": 147,
   "metadata": {
    "collapsed": false
   },
   "outputs": [
    {
     "data": {
      "text/plain": [
       "27"
      ]
     },
     "execution_count": 147,
     "metadata": {},
     "output_type": "execute_result"
    }
   ],
   "source": [
    "inception[\"character\"].count() - inception['n'].count()"
   ]
  },
  {
   "cell_type": "code",
   "execution_count": 166,
   "metadata": {
    "collapsed": false
   },
   "outputs": [
    {
     "data": {
      "text/plain": [
       "27"
      ]
     },
     "execution_count": 166,
     "metadata": {},
     "output_type": "execute_result"
    }
   ],
   "source": [
    "i = inception[inception.n.isnull()]\n",
    "i.name.count()"
   ]
  },
  {
   "cell_type": "markdown",
   "metadata": {
    "collapsed": true
   },
   "source": [
    "### But how many roles in the movie \"Inception\" did receive an \"n\" value?"
   ]
  },
  {
   "cell_type": "code",
   "execution_count": 167,
   "metadata": {
    "collapsed": false
   },
   "outputs": [],
   "source": [
    "i2 = inception[inception.n.notnull()]"
   ]
  },
  {
   "cell_type": "code",
   "execution_count": 169,
   "metadata": {
    "collapsed": false
   },
   "outputs": [
    {
     "data": {
      "text/plain": [
       "51"
      ]
     },
     "execution_count": 169,
     "metadata": {},
     "output_type": "execute_result"
    }
   ],
   "source": [
    "i2.name.count()"
   ]
  },
  {
   "cell_type": "markdown",
   "metadata": {
    "collapsed": true
   },
   "source": [
    "### Display the cast of \"North by Northwest\" in their correct \"n\"-value order, ignoring roles that did not earn a numeric \"n\" value."
   ]
  },
  {
   "cell_type": "code",
   "execution_count": 170,
   "metadata": {
    "collapsed": true
   },
   "outputs": [],
   "source": [
    "nbnw = cast[cast['title'] == \"North by Northwest\"]"
   ]
  },
  {
   "cell_type": "code",
   "execution_count": 175,
   "metadata": {
    "collapsed": false
   },
   "outputs": [],
   "source": [
    "nofnbnw = nbnw[nbnw.n.notnull()]"
   ]
  },
  {
   "cell_type": "code",
   "execution_count": 177,
   "metadata": {
    "collapsed": false
   },
   "outputs": [
    {
     "data": {
      "text/html": [
       "<div>\n",
       "<table border=\"1\" class=\"dataframe\">\n",
       "  <thead>\n",
       "    <tr style=\"text-align: right;\">\n",
       "      <th></th>\n",
       "      <th>title</th>\n",
       "      <th>year</th>\n",
       "      <th>name</th>\n",
       "      <th>type</th>\n",
       "      <th>character</th>\n",
       "      <th>n</th>\n",
       "    </tr>\n",
       "  </thead>\n",
       "  <tbody>\n",
       "    <tr>\n",
       "      <th>857929</th>\n",
       "      <td>North by Northwest</td>\n",
       "      <td>1959</td>\n",
       "      <td>Cary Grant</td>\n",
       "      <td>actor</td>\n",
       "      <td>Roger O. Thornhill</td>\n",
       "      <td>1.0</td>\n",
       "    </tr>\n",
       "    <tr>\n",
       "      <th>3435119</th>\n",
       "      <td>North by Northwest</td>\n",
       "      <td>1959</td>\n",
       "      <td>Eva Marie Saint</td>\n",
       "      <td>actress</td>\n",
       "      <td>Eve Kendall</td>\n",
       "      <td>2.0</td>\n",
       "    </tr>\n",
       "    <tr>\n",
       "      <th>1434046</th>\n",
       "      <td>North by Northwest</td>\n",
       "      <td>1959</td>\n",
       "      <td>James Mason</td>\n",
       "      <td>actor</td>\n",
       "      <td>Phillip Vandamm</td>\n",
       "      <td>3.0</td>\n",
       "    </tr>\n",
       "    <tr>\n",
       "      <th>3089876</th>\n",
       "      <td>North by Northwest</td>\n",
       "      <td>1959</td>\n",
       "      <td>Jessie Royce Landis</td>\n",
       "      <td>actress</td>\n",
       "      <td>Clara Thornhill</td>\n",
       "      <td>4.0</td>\n",
       "    </tr>\n",
       "    <tr>\n",
       "      <th>351086</th>\n",
       "      <td>North by Northwest</td>\n",
       "      <td>1959</td>\n",
       "      <td>Leo G. Carroll</td>\n",
       "      <td>actor</td>\n",
       "      <td>The Professor</td>\n",
       "      <td>5.0</td>\n",
       "    </tr>\n",
       "    <tr>\n",
       "      <th>2986128</th>\n",
       "      <td>North by Northwest</td>\n",
       "      <td>1959</td>\n",
       "      <td>Josephine Hutchinson</td>\n",
       "      <td>actress</td>\n",
       "      <td>Mrs. Townsend</td>\n",
       "      <td>6.0</td>\n",
       "    </tr>\n",
       "    <tr>\n",
       "      <th>1668463</th>\n",
       "      <td>North by Northwest</td>\n",
       "      <td>1959</td>\n",
       "      <td>Philip Ober</td>\n",
       "      <td>actor</td>\n",
       "      <td>Lester Townsend</td>\n",
       "      <td>7.0</td>\n",
       "    </tr>\n",
       "    <tr>\n",
       "      <th>1254963</th>\n",
       "      <td>North by Northwest</td>\n",
       "      <td>1959</td>\n",
       "      <td>Martin Landau</td>\n",
       "      <td>actor</td>\n",
       "      <td>Leonard</td>\n",
       "      <td>8.0</td>\n",
       "    </tr>\n",
       "    <tr>\n",
       "      <th>2407845</th>\n",
       "      <td>North by Northwest</td>\n",
       "      <td>1959</td>\n",
       "      <td>Adam Williams</td>\n",
       "      <td>actor</td>\n",
       "      <td>Valerian</td>\n",
       "      <td>9.0</td>\n",
       "    </tr>\n",
       "    <tr>\n",
       "      <th>1782606</th>\n",
       "      <td>North by Northwest</td>\n",
       "      <td>1959</td>\n",
       "      <td>Edward Platt</td>\n",
       "      <td>actor</td>\n",
       "      <td>Victor Larrabee</td>\n",
       "      <td>10.0</td>\n",
       "    </tr>\n",
       "    <tr>\n",
       "      <th>655417</th>\n",
       "      <td>North by Northwest</td>\n",
       "      <td>1959</td>\n",
       "      <td>Robert Ellenstein</td>\n",
       "      <td>actor</td>\n",
       "      <td>Licht</td>\n",
       "      <td>11.0</td>\n",
       "    </tr>\n",
       "    <tr>\n",
       "      <th>2258845</th>\n",
       "      <td>North by Northwest</td>\n",
       "      <td>1959</td>\n",
       "      <td>Les Tremayne</td>\n",
       "      <td>actor</td>\n",
       "      <td>Auctioneer</td>\n",
       "      <td>12.0</td>\n",
       "    </tr>\n",
       "    <tr>\n",
       "      <th>457430</th>\n",
       "      <td>North by Northwest</td>\n",
       "      <td>1959</td>\n",
       "      <td>Philip Coolidge</td>\n",
       "      <td>actor</td>\n",
       "      <td>Dr. Cross</td>\n",
       "      <td>13.0</td>\n",
       "    </tr>\n",
       "    <tr>\n",
       "      <th>1484605</th>\n",
       "      <td>North by Northwest</td>\n",
       "      <td>1959</td>\n",
       "      <td>Patrick McVey</td>\n",
       "      <td>actor</td>\n",
       "      <td>Sergeant Flamm</td>\n",
       "      <td>14.0</td>\n",
       "    </tr>\n",
       "    <tr>\n",
       "      <th>203001</th>\n",
       "      <td>North by Northwest</td>\n",
       "      <td>1959</td>\n",
       "      <td>Edward Binns</td>\n",
       "      <td>actor</td>\n",
       "      <td>Captain Junket</td>\n",
       "      <td>15.0</td>\n",
       "    </tr>\n",
       "    <tr>\n",
       "      <th>1362713</th>\n",
       "      <td>North by Northwest</td>\n",
       "      <td>1959</td>\n",
       "      <td>Ken Lynch</td>\n",
       "      <td>actor</td>\n",
       "      <td>Charley - Chicago Policeman</td>\n",
       "      <td>16.0</td>\n",
       "    </tr>\n",
       "  </tbody>\n",
       "</table>\n",
       "</div>"
      ],
      "text/plain": [
       "                      title  year                  name     type  \\\n",
       "857929   North by Northwest  1959            Cary Grant    actor   \n",
       "3435119  North by Northwest  1959       Eva Marie Saint  actress   \n",
       "1434046  North by Northwest  1959           James Mason    actor   \n",
       "3089876  North by Northwest  1959   Jessie Royce Landis  actress   \n",
       "351086   North by Northwest  1959        Leo G. Carroll    actor   \n",
       "2986128  North by Northwest  1959  Josephine Hutchinson  actress   \n",
       "1668463  North by Northwest  1959           Philip Ober    actor   \n",
       "1254963  North by Northwest  1959         Martin Landau    actor   \n",
       "2407845  North by Northwest  1959         Adam Williams    actor   \n",
       "1782606  North by Northwest  1959          Edward Platt    actor   \n",
       "655417   North by Northwest  1959     Robert Ellenstein    actor   \n",
       "2258845  North by Northwest  1959          Les Tremayne    actor   \n",
       "457430   North by Northwest  1959       Philip Coolidge    actor   \n",
       "1484605  North by Northwest  1959         Patrick McVey    actor   \n",
       "203001   North by Northwest  1959          Edward Binns    actor   \n",
       "1362713  North by Northwest  1959             Ken Lynch    actor   \n",
       "\n",
       "                           character     n  \n",
       "857929            Roger O. Thornhill   1.0  \n",
       "3435119                  Eve Kendall   2.0  \n",
       "1434046              Phillip Vandamm   3.0  \n",
       "3089876              Clara Thornhill   4.0  \n",
       "351086                 The Professor   5.0  \n",
       "2986128                Mrs. Townsend   6.0  \n",
       "1668463              Lester Townsend   7.0  \n",
       "1254963                      Leonard   8.0  \n",
       "2407845                     Valerian   9.0  \n",
       "1782606              Victor Larrabee  10.0  \n",
       "655417                         Licht  11.0  \n",
       "2258845                   Auctioneer  12.0  \n",
       "457430                     Dr. Cross  13.0  \n",
       "1484605               Sergeant Flamm  14.0  \n",
       "203001                Captain Junket  15.0  \n",
       "1362713  Charley - Chicago Policeman  16.0  "
      ]
     },
     "execution_count": 177,
     "metadata": {},
     "output_type": "execute_result"
    }
   ],
   "source": [
    "nofnbnw.sort_values('n')"
   ]
  },
  {
   "cell_type": "markdown",
   "metadata": {
    "collapsed": true
   },
   "source": [
    "### Display the entire cast, in \"n\"-order, of the 1972 film \"Sleuth\"."
   ]
  },
  {
   "cell_type": "code",
   "execution_count": 189,
   "metadata": {
    "collapsed": false
   },
   "outputs": [],
   "source": [
    "sleuth = cast[(cast.title == \"Sleuth\") & (cast.year == 1972)]"
   ]
  },
  {
   "cell_type": "code",
   "execution_count": 193,
   "metadata": {
    "collapsed": false
   },
   "outputs": [
    {
     "data": {
      "text/html": [
       "<div>\n",
       "<table border=\"1\" class=\"dataframe\">\n",
       "  <thead>\n",
       "    <tr style=\"text-align: right;\">\n",
       "      <th></th>\n",
       "      <th>title</th>\n",
       "      <th>year</th>\n",
       "      <th>name</th>\n",
       "      <th>type</th>\n",
       "      <th>character</th>\n",
       "      <th>n</th>\n",
       "    </tr>\n",
       "  </thead>\n",
       "  <tbody>\n",
       "    <tr>\n",
       "      <th>1678373</th>\n",
       "      <td>Sleuth</td>\n",
       "      <td>1972</td>\n",
       "      <td>Laurence Olivier</td>\n",
       "      <td>actor</td>\n",
       "      <td>Andrew Wyke</td>\n",
       "      <td>1.0</td>\n",
       "    </tr>\n",
       "    <tr>\n",
       "      <th>321514</th>\n",
       "      <td>Sleuth</td>\n",
       "      <td>1972</td>\n",
       "      <td>Michael Caine</td>\n",
       "      <td>actor</td>\n",
       "      <td>Milo Tindle</td>\n",
       "      <td>2.0</td>\n",
       "    </tr>\n",
       "    <tr>\n",
       "      <th>368059</th>\n",
       "      <td>Sleuth</td>\n",
       "      <td>1972</td>\n",
       "      <td>Alec Cawthorne</td>\n",
       "      <td>actor</td>\n",
       "      <td>Inspector Doppler</td>\n",
       "      <td>3.0</td>\n",
       "    </tr>\n",
       "    <tr>\n",
       "      <th>1442187</th>\n",
       "      <td>Sleuth</td>\n",
       "      <td>1972</td>\n",
       "      <td>John (II) Matthews</td>\n",
       "      <td>actor</td>\n",
       "      <td>Detective Sergeant Tarrant</td>\n",
       "      <td>4.0</td>\n",
       "    </tr>\n",
       "    <tr>\n",
       "      <th>2675483</th>\n",
       "      <td>Sleuth</td>\n",
       "      <td>1972</td>\n",
       "      <td>Eve (III) Channing</td>\n",
       "      <td>actress</td>\n",
       "      <td>Marguerite Wyke</td>\n",
       "      <td>5.0</td>\n",
       "    </tr>\n",
       "    <tr>\n",
       "      <th>1425713</th>\n",
       "      <td>Sleuth</td>\n",
       "      <td>1972</td>\n",
       "      <td>Teddy Martin</td>\n",
       "      <td>actor</td>\n",
       "      <td>Police Constable Higgs</td>\n",
       "      <td>6.0</td>\n",
       "    </tr>\n",
       "  </tbody>\n",
       "</table>\n",
       "</div>"
      ],
      "text/plain": [
       "          title  year                name     type  \\\n",
       "1678373  Sleuth  1972    Laurence Olivier    actor   \n",
       "321514   Sleuth  1972       Michael Caine    actor   \n",
       "368059   Sleuth  1972      Alec Cawthorne    actor   \n",
       "1442187  Sleuth  1972  John (II) Matthews    actor   \n",
       "2675483  Sleuth  1972  Eve (III) Channing  actress   \n",
       "1425713  Sleuth  1972        Teddy Martin    actor   \n",
       "\n",
       "                          character    n  \n",
       "1678373                 Andrew Wyke  1.0  \n",
       "321514                  Milo Tindle  2.0  \n",
       "368059            Inspector Doppler  3.0  \n",
       "1442187  Detective Sergeant Tarrant  4.0  \n",
       "2675483             Marguerite Wyke  5.0  \n",
       "1425713      Police Constable Higgs  6.0  "
      ]
     },
     "execution_count": 193,
     "metadata": {},
     "output_type": "execute_result"
    }
   ],
   "source": [
    "sleuth.sort_values('n')"
   ]
  },
  {
   "cell_type": "markdown",
   "metadata": {
    "collapsed": true
   },
   "source": [
    "### Now display the entire cast, in \"n\"-order, of the 2007 version of \"Sleuth\"."
   ]
  },
  {
   "cell_type": "code",
   "execution_count": 194,
   "metadata": {
    "collapsed": false
   },
   "outputs": [],
   "source": [
    "sleuth2 = cast[(cast.title == \"Sleuth\") & (cast.year == 2007)]"
   ]
  },
  {
   "cell_type": "code",
   "execution_count": 195,
   "metadata": {
    "collapsed": false
   },
   "outputs": [
    {
     "data": {
      "text/html": [
       "<div>\n",
       "<table border=\"1\" class=\"dataframe\">\n",
       "  <thead>\n",
       "    <tr style=\"text-align: right;\">\n",
       "      <th></th>\n",
       "      <th>title</th>\n",
       "      <th>year</th>\n",
       "      <th>name</th>\n",
       "      <th>type</th>\n",
       "      <th>character</th>\n",
       "      <th>n</th>\n",
       "    </tr>\n",
       "  </thead>\n",
       "  <tbody>\n",
       "    <tr>\n",
       "      <th>321515</th>\n",
       "      <td>Sleuth</td>\n",
       "      <td>2007</td>\n",
       "      <td>Michael Caine</td>\n",
       "      <td>actor</td>\n",
       "      <td>Andrew</td>\n",
       "      <td>1.0</td>\n",
       "    </tr>\n",
       "    <tr>\n",
       "      <th>1273030</th>\n",
       "      <td>Sleuth</td>\n",
       "      <td>2007</td>\n",
       "      <td>Jude Law</td>\n",
       "      <td>actor</td>\n",
       "      <td>Milo</td>\n",
       "      <td>2.0</td>\n",
       "    </tr>\n",
       "    <tr>\n",
       "      <th>1777235</th>\n",
       "      <td>Sleuth</td>\n",
       "      <td>2007</td>\n",
       "      <td>Harold Pinter</td>\n",
       "      <td>actor</td>\n",
       "      <td>Man on T.V.</td>\n",
       "      <td>3.0</td>\n",
       "    </tr>\n",
       "    <tr>\n",
       "      <th>255813</th>\n",
       "      <td>Sleuth</td>\n",
       "      <td>2007</td>\n",
       "      <td>Kenneth Branagh</td>\n",
       "      <td>actor</td>\n",
       "      <td>Other Man on T.V.</td>\n",
       "      <td>NaN</td>\n",
       "    </tr>\n",
       "    <tr>\n",
       "      <th>368060</th>\n",
       "      <td>Sleuth</td>\n",
       "      <td>2007</td>\n",
       "      <td>Alec (II) Cawthorne</td>\n",
       "      <td>actor</td>\n",
       "      <td>Inspector Doppler</td>\n",
       "      <td>NaN</td>\n",
       "    </tr>\n",
       "    <tr>\n",
       "      <th>2675482</th>\n",
       "      <td>Sleuth</td>\n",
       "      <td>2007</td>\n",
       "      <td>Eve (II) Channing</td>\n",
       "      <td>actress</td>\n",
       "      <td>Marguerite Wyke</td>\n",
       "      <td>NaN</td>\n",
       "    </tr>\n",
       "    <tr>\n",
       "      <th>3293849</th>\n",
       "      <td>Sleuth</td>\n",
       "      <td>2007</td>\n",
       "      <td>Carmel O'Sullivan</td>\n",
       "      <td>actress</td>\n",
       "      <td>Maggie</td>\n",
       "      <td>NaN</td>\n",
       "    </tr>\n",
       "  </tbody>\n",
       "</table>\n",
       "</div>"
      ],
      "text/plain": [
       "          title  year                 name     type          character    n\n",
       "321515   Sleuth  2007        Michael Caine    actor             Andrew  1.0\n",
       "1273030  Sleuth  2007             Jude Law    actor               Milo  2.0\n",
       "1777235  Sleuth  2007        Harold Pinter    actor        Man on T.V.  3.0\n",
       "255813   Sleuth  2007      Kenneth Branagh    actor  Other Man on T.V.  NaN\n",
       "368060   Sleuth  2007  Alec (II) Cawthorne    actor  Inspector Doppler  NaN\n",
       "2675482  Sleuth  2007    Eve (II) Channing  actress    Marguerite Wyke  NaN\n",
       "3293849  Sleuth  2007    Carmel O'Sullivan  actress             Maggie  NaN"
      ]
     },
     "execution_count": 195,
     "metadata": {},
     "output_type": "execute_result"
    }
   ],
   "source": [
    "sleuth2.sort_values('n')"
   ]
  },
  {
   "cell_type": "markdown",
   "metadata": {
    "collapsed": true
   },
   "source": [
    "### How many roles were credited in the silent 1921 version of Hamlet?"
   ]
  },
  {
   "cell_type": "code",
   "execution_count": 196,
   "metadata": {
    "collapsed": true
   },
   "outputs": [],
   "source": [
    "ham = cast[(cast.title == \"Hamlet\") & (cast.year == 1921)]"
   ]
  },
  {
   "cell_type": "code",
   "execution_count": 201,
   "metadata": {
    "collapsed": false
   },
   "outputs": [
    {
     "data": {
      "text/plain": [
       "title        9\n",
       "year         9\n",
       "name         9\n",
       "type         9\n",
       "character    9\n",
       "n            9\n",
       "dtype: int64"
      ]
     },
     "execution_count": 201,
     "metadata": {},
     "output_type": "execute_result"
    }
   ],
   "source": [
    "ham.count()"
   ]
  },
  {
   "cell_type": "markdown",
   "metadata": {
    "collapsed": true
   },
   "source": [
    "### How many roles were credited in Branagh’s 1996 Hamlet?"
   ]
  },
  {
   "cell_type": "code",
   "execution_count": 202,
   "metadata": {
    "collapsed": true
   },
   "outputs": [],
   "source": [
    "ham2 = cast[(cast.title == \"Hamlet\") & (cast.year == 1996)]"
   ]
  },
  {
   "cell_type": "code",
   "execution_count": 204,
   "metadata": {
    "collapsed": false
   },
   "outputs": [
    {
     "data": {
      "text/plain": [
       "54"
      ]
     },
     "execution_count": 204,
     "metadata": {},
     "output_type": "execute_result"
    }
   ],
   "source": [
    "ham2.name.count()"
   ]
  },
  {
   "cell_type": "markdown",
   "metadata": {
    "collapsed": true
   },
   "source": [
    "### How many \"Hamlet\" roles have been listed in all film credits through history?"
   ]
  },
  {
   "cell_type": "code",
   "execution_count": 205,
   "metadata": {
    "collapsed": true
   },
   "outputs": [],
   "source": [
    "ham3 = cast[cast.title.str.startswith(\"Hamlet\")]"
   ]
  },
  {
   "cell_type": "code",
   "execution_count": 210,
   "metadata": {
    "collapsed": false
   },
   "outputs": [
    {
     "data": {
      "text/plain": [
       "746"
      ]
     },
     "execution_count": 210,
     "metadata": {},
     "output_type": "execute_result"
    }
   ],
   "source": [
    "ham3.name.count()"
   ]
  },
  {
   "cell_type": "code",
   "execution_count": 212,
   "metadata": {
    "collapsed": false
   },
   "outputs": [
    {
     "data": {
      "text/html": [
       "<div>\n",
       "<table border=\"1\" class=\"dataframe\">\n",
       "  <thead>\n",
       "    <tr style=\"text-align: right;\">\n",
       "      <th></th>\n",
       "      <th>title</th>\n",
       "      <th>year</th>\n",
       "      <th>name</th>\n",
       "      <th>type</th>\n",
       "      <th>character</th>\n",
       "      <th>n</th>\n",
       "    </tr>\n",
       "  </thead>\n",
       "  <tbody>\n",
       "    <tr>\n",
       "      <th>1679</th>\n",
       "      <td>Hamlet</td>\n",
       "      <td>1996</td>\n",
       "      <td>Riz Abbasi</td>\n",
       "      <td>actor</td>\n",
       "      <td>Attendant to Claudius</td>\n",
       "      <td>1.0</td>\n",
       "    </tr>\n",
       "    <tr>\n",
       "      <th>6617</th>\n",
       "      <td>Hamlet, Prince of Denmark</td>\n",
       "      <td>1997</td>\n",
       "      <td>Ernest Abuba</td>\n",
       "      <td>actor</td>\n",
       "      <td>The King</td>\n",
       "      <td>NaN</td>\n",
       "    </tr>\n",
       "    <tr>\n",
       "      <th>7660</th>\n",
       "      <td>Hamlet</td>\n",
       "      <td>1921</td>\n",
       "      <td>Fritz Achterberg</td>\n",
       "      <td>actor</td>\n",
       "      <td>Fortinbras,</td>\n",
       "      <td>9.0</td>\n",
       "    </tr>\n",
       "    <tr>\n",
       "      <th>11545</th>\n",
       "      <td>Hamlet</td>\n",
       "      <td>2009</td>\n",
       "      <td>Hayden Adams</td>\n",
       "      <td>actor</td>\n",
       "      <td>Laertes</td>\n",
       "      <td>7.0</td>\n",
       "    </tr>\n",
       "    <tr>\n",
       "      <th>11546</th>\n",
       "      <td>Hamlet</td>\n",
       "      <td>2009</td>\n",
       "      <td>Hayden Adams</td>\n",
       "      <td>actor</td>\n",
       "      <td>Player</td>\n",
       "      <td>7.0</td>\n",
       "    </tr>\n",
       "    <tr>\n",
       "      <th>12838</th>\n",
       "      <td>Hamlet 2</td>\n",
       "      <td>2008</td>\n",
       "      <td>Valerie Adams</td>\n",
       "      <td>actor</td>\n",
       "      <td>Teacher</td>\n",
       "      <td>NaN</td>\n",
       "    </tr>\n",
       "    <tr>\n",
       "      <th>14248</th>\n",
       "      <td>Hamlet</td>\n",
       "      <td>1913</td>\n",
       "      <td>Eric Adeney</td>\n",
       "      <td>actor</td>\n",
       "      <td>Reynaldo</td>\n",
       "      <td>14.0</td>\n",
       "    </tr>\n",
       "    <tr>\n",
       "      <th>15852</th>\n",
       "      <td>Hamlet 2</td>\n",
       "      <td>2008</td>\n",
       "      <td>Evan Adrian</td>\n",
       "      <td>actor</td>\n",
       "      <td>Danny the Waiter</td>\n",
       "      <td>24.0</td>\n",
       "    </tr>\n",
       "    <tr>\n",
       "      <th>16467</th>\n",
       "      <td>Hamlet</td>\n",
       "      <td>2000</td>\n",
       "      <td>Casey Affleck</td>\n",
       "      <td>actor</td>\n",
       "      <td>Fortinbras</td>\n",
       "      <td>15.0</td>\n",
       "    </tr>\n",
       "    <tr>\n",
       "      <th>19580</th>\n",
       "      <td>Hamlet: Prince of Denmark</td>\n",
       "      <td>1989</td>\n",
       "      <td>Kabir Ahamed</td>\n",
       "      <td>actor</td>\n",
       "      <td>Hamlet, Prince of Denmark</td>\n",
       "      <td>NaN</td>\n",
       "    </tr>\n",
       "    <tr>\n",
       "      <th>25818</th>\n",
       "      <td>Hamlet (II)</td>\n",
       "      <td>1964</td>\n",
       "      <td>Michael Alaimo</td>\n",
       "      <td>actor</td>\n",
       "      <td>Player #3</td>\n",
       "      <td>NaN</td>\n",
       "    </tr>\n",
       "    <tr>\n",
       "      <th>26681</th>\n",
       "      <td>Hamlet (II)</td>\n",
       "      <td>2017</td>\n",
       "      <td>Dimitri Alavidze</td>\n",
       "      <td>actor</td>\n",
       "      <td>Claudius</td>\n",
       "      <td>NaN</td>\n",
       "    </tr>\n",
       "    <tr>\n",
       "      <th>27931</th>\n",
       "      <td>Hamlet A.D.D.</td>\n",
       "      <td>2014</td>\n",
       "      <td>Logan Albert</td>\n",
       "      <td>actor</td>\n",
       "      <td>Lord Logan</td>\n",
       "      <td>NaN</td>\n",
       "    </tr>\n",
       "    <tr>\n",
       "      <th>33718</th>\n",
       "      <td>Hamlet</td>\n",
       "      <td>1964</td>\n",
       "      <td>Hugh Alexander</td>\n",
       "      <td>actor</td>\n",
       "      <td>Cornelius</td>\n",
       "      <td>NaN</td>\n",
       "    </tr>\n",
       "    <tr>\n",
       "      <th>33719</th>\n",
       "      <td>Hamlet</td>\n",
       "      <td>1964</td>\n",
       "      <td>Hugh Alexander</td>\n",
       "      <td>actor</td>\n",
       "      <td>Second Gravedigger</td>\n",
       "      <td>NaN</td>\n",
       "    </tr>\n",
       "    <tr>\n",
       "      <th>33720</th>\n",
       "      <td>Hamlet</td>\n",
       "      <td>1964</td>\n",
       "      <td>Hugh Alexander</td>\n",
       "      <td>actor</td>\n",
       "      <td>English Ambassador</td>\n",
       "      <td>NaN</td>\n",
       "    </tr>\n",
       "    <tr>\n",
       "      <th>37938</th>\n",
       "      <td>Hamlet_X</td>\n",
       "      <td>2003</td>\n",
       "      <td>Boris Aljinovic</td>\n",
       "      <td>actor</td>\n",
       "      <td>Rosencrantz</td>\n",
       "      <td>NaN</td>\n",
       "    </tr>\n",
       "    <tr>\n",
       "      <th>53742</th>\n",
       "      <td>Hamlet</td>\n",
       "      <td>1913</td>\n",
       "      <td>Richard Andean</td>\n",
       "      <td>actor</td>\n",
       "      <td>Second Player</td>\n",
       "      <td>16.0</td>\n",
       "    </tr>\n",
       "    <tr>\n",
       "      <th>57657</th>\n",
       "      <td>Hamlet 2</td>\n",
       "      <td>2008</td>\n",
       "      <td>Todd Anderson</td>\n",
       "      <td>actor</td>\n",
       "      <td>Redneck Parent</td>\n",
       "      <td>36.0</td>\n",
       "    </tr>\n",
       "    <tr>\n",
       "      <th>60218</th>\n",
       "      <td>Hamlet</td>\n",
       "      <td>2017</td>\n",
       "      <td>Luing Andrews</td>\n",
       "      <td>actor</td>\n",
       "      <td>Bernardo</td>\n",
       "      <td>NaN</td>\n",
       "    </tr>\n",
       "    <tr>\n",
       "      <th>63706</th>\n",
       "      <td>Hamlet</td>\n",
       "      <td>1990</td>\n",
       "      <td>Christien Anholt</td>\n",
       "      <td>actor</td>\n",
       "      <td>Marcellus</td>\n",
       "      <td>14.0</td>\n",
       "    </tr>\n",
       "    <tr>\n",
       "      <th>76642</th>\n",
       "      <td>Hamlet</td>\n",
       "      <td>1969</td>\n",
       "      <td>Ben Aris</td>\n",
       "      <td>actor</td>\n",
       "      <td>Rosencrantz</td>\n",
       "      <td>8.0</td>\n",
       "    </tr>\n",
       "    <tr>\n",
       "      <th>80947</th>\n",
       "      <td>Hamlet (II)</td>\n",
       "      <td>2015</td>\n",
       "      <td>Brandon Arnold</td>\n",
       "      <td>actor</td>\n",
       "      <td>Hamlet Senior</td>\n",
       "      <td>NaN</td>\n",
       "    </tr>\n",
       "    <tr>\n",
       "      <th>81840</th>\n",
       "      <td>Hamlet</td>\n",
       "      <td>2015</td>\n",
       "      <td>Thomas (II) Arnold</td>\n",
       "      <td>actor</td>\n",
       "      <td>Horatio</td>\n",
       "      <td>5.0</td>\n",
       "    </tr>\n",
       "    <tr>\n",
       "      <th>82246</th>\n",
       "      <td>Hamlet_X</td>\n",
       "      <td>2003</td>\n",
       "      <td>Hendrik Arnst</td>\n",
       "      <td>actor</td>\n",
       "      <td>Laertes #2</td>\n",
       "      <td>NaN</td>\n",
       "    </tr>\n",
       "    <tr>\n",
       "      <th>83167</th>\n",
       "      <td>Hamlet 2</td>\n",
       "      <td>2008</td>\n",
       "      <td>David Arquette</td>\n",
       "      <td>actor</td>\n",
       "      <td>Gary</td>\n",
       "      <td>11.0</td>\n",
       "    </tr>\n",
       "    <tr>\n",
       "      <th>84353</th>\n",
       "      <td>Hamlet, Prince of Denmark</td>\n",
       "      <td>1997</td>\n",
       "      <td>Don Arrup</td>\n",
       "      <td>actor</td>\n",
       "      <td>Polonius</td>\n",
       "      <td>NaN</td>\n",
       "    </tr>\n",
       "    <tr>\n",
       "      <th>91507</th>\n",
       "      <td>Hamlet 2</td>\n",
       "      <td>2008</td>\n",
       "      <td>Skylar Astin</td>\n",
       "      <td>actor</td>\n",
       "      <td>Rand Posin</td>\n",
       "      <td>4.0</td>\n",
       "    </tr>\n",
       "    <tr>\n",
       "      <th>94225</th>\n",
       "      <td>Hamlet</td>\n",
       "      <td>1996</td>\n",
       "      <td>Richard Attenborough</td>\n",
       "      <td>actor</td>\n",
       "      <td>English Ambassador</td>\n",
       "      <td>2.0</td>\n",
       "    </tr>\n",
       "    <tr>\n",
       "      <th>96190</th>\n",
       "      <td>Hamlet liikemaailmassa</td>\n",
       "      <td>1987</td>\n",
       "      <td>Pentti Auer</td>\n",
       "      <td>actor</td>\n",
       "      <td>Is?</td>\n",
       "      <td>11.0</td>\n",
       "    </tr>\n",
       "    <tr>\n",
       "      <th>...</th>\n",
       "      <td>...</td>\n",
       "      <td>...</td>\n",
       "      <td>...</td>\n",
       "      <td>...</td>\n",
       "      <td>...</td>\n",
       "      <td>...</td>\n",
       "    </tr>\n",
       "    <tr>\n",
       "      <th>3519138</th>\n",
       "      <td>Hamlet A.D.D.</td>\n",
       "      <td>2014</td>\n",
       "      <td>Jessica Steeber</td>\n",
       "      <td>actress</td>\n",
       "      <td>Hot chick on dance floor</td>\n",
       "      <td>NaN</td>\n",
       "    </tr>\n",
       "    <tr>\n",
       "      <th>3519139</th>\n",
       "      <td>Hamlet A.D.D.</td>\n",
       "      <td>2014</td>\n",
       "      <td>Jessica Steeber</td>\n",
       "      <td>actress</td>\n",
       "      <td>Yeoman</td>\n",
       "      <td>NaN</td>\n",
       "    </tr>\n",
       "    <tr>\n",
       "      <th>3519725</th>\n",
       "      <td>Hamlet (II)</td>\n",
       "      <td>2007</td>\n",
       "      <td>Hanne Steen</td>\n",
       "      <td>actress</td>\n",
       "      <td>Reynaldo</td>\n",
       "      <td>NaN</td>\n",
       "    </tr>\n",
       "    <tr>\n",
       "      <th>3525415</th>\n",
       "      <td>Hamlet, Prince of Denmark</td>\n",
       "      <td>1997</td>\n",
       "      <td>Pamela (II) Stewart</td>\n",
       "      <td>actress</td>\n",
       "      <td>Horatio</td>\n",
       "      <td>NaN</td>\n",
       "    </tr>\n",
       "    <tr>\n",
       "      <th>3526081</th>\n",
       "      <td>Hamlet</td>\n",
       "      <td>2000</td>\n",
       "      <td>Julia Stiles</td>\n",
       "      <td>actress</td>\n",
       "      <td>Ophelia</td>\n",
       "      <td>7.0</td>\n",
       "    </tr>\n",
       "    <tr>\n",
       "      <th>3527045</th>\n",
       "      <td>Hamlet_X</td>\n",
       "      <td>2003</td>\n",
       "      <td>Isabelle Stoffel</td>\n",
       "      <td>actress</td>\n",
       "      <td>Ophelia #3</td>\n",
       "      <td>NaN</td>\n",
       "    </tr>\n",
       "    <tr>\n",
       "      <th>3530266</th>\n",
       "      <td>Hamlet 2</td>\n",
       "      <td>2008</td>\n",
       "      <td>Cynthia Straus</td>\n",
       "      <td>actress</td>\n",
       "      <td>Hysterical Woman</td>\n",
       "      <td>31.0</td>\n",
       "    </tr>\n",
       "    <tr>\n",
       "      <th>3531247</th>\n",
       "      <td>Hamlet in the Hamptons</td>\n",
       "      <td>2002</td>\n",
       "      <td>Virginia Stringel</td>\n",
       "      <td>actress</td>\n",
       "      <td>Katy</td>\n",
       "      <td>NaN</td>\n",
       "    </tr>\n",
       "    <tr>\n",
       "      <th>3531523</th>\n",
       "      <td>Hamlet 2</td>\n",
       "      <td>2008</td>\n",
       "      <td>Phoebe Strole</td>\n",
       "      <td>actress</td>\n",
       "      <td>Epiphany Sellers</td>\n",
       "      <td>5.0</td>\n",
       "    </tr>\n",
       "    <tr>\n",
       "      <th>3535562</th>\n",
       "      <td>Hamlet</td>\n",
       "      <td>2009</td>\n",
       "      <td>Bernadette Sullivan</td>\n",
       "      <td>actress</td>\n",
       "      <td>Gertrude</td>\n",
       "      <td>2.0</td>\n",
       "    </tr>\n",
       "    <tr>\n",
       "      <th>3540477</th>\n",
       "      <td>Hamlet A.D.D.</td>\n",
       "      <td>2014</td>\n",
       "      <td>Sarah Swant</td>\n",
       "      <td>actress</td>\n",
       "      <td>Lady</td>\n",
       "      <td>NaN</td>\n",
       "    </tr>\n",
       "    <tr>\n",
       "      <th>3551022</th>\n",
       "      <td>Hamlet A.D.D.</td>\n",
       "      <td>2014</td>\n",
       "      <td>Nikki Tappa</td>\n",
       "      <td>actress</td>\n",
       "      <td>Lady Tappa</td>\n",
       "      <td>NaN</td>\n",
       "    </tr>\n",
       "    <tr>\n",
       "      <th>3556059</th>\n",
       "      <td>Hamlet</td>\n",
       "      <td>1964</td>\n",
       "      <td>Carol Teitel</td>\n",
       "      <td>actress</td>\n",
       "      <td>Lady</td>\n",
       "      <td>NaN</td>\n",
       "    </tr>\n",
       "    <tr>\n",
       "      <th>3559645</th>\n",
       "      <td>Hamlet_X</td>\n",
       "      <td>2003</td>\n",
       "      <td>Anna Thalbach</td>\n",
       "      <td>actress</td>\n",
       "      <td>Girlfriend #1</td>\n",
       "      <td>NaN</td>\n",
       "    </tr>\n",
       "    <tr>\n",
       "      <th>3572638</th>\n",
       "      <td>Hamlet_X</td>\n",
       "      <td>2003</td>\n",
       "      <td>Laura Tonke</td>\n",
       "      <td>actress</td>\n",
       "      <td>Ophelia #4</td>\n",
       "      <td>NaN</td>\n",
       "    </tr>\n",
       "    <tr>\n",
       "      <th>3578304</th>\n",
       "      <td>Hamlet A.D.D.</td>\n",
       "      <td>2014</td>\n",
       "      <td>Emily Treolo</td>\n",
       "      <td>actress</td>\n",
       "      <td>Science Officer</td>\n",
       "      <td>NaN</td>\n",
       "    </tr>\n",
       "    <tr>\n",
       "      <th>3578835</th>\n",
       "      <td>Hamlet</td>\n",
       "      <td>2017</td>\n",
       "      <td>Veronica Jean Trickett</td>\n",
       "      <td>actress</td>\n",
       "      <td>Marcellus</td>\n",
       "      <td>NaN</td>\n",
       "    </tr>\n",
       "    <tr>\n",
       "      <th>3583054</th>\n",
       "      <td>Hamlet</td>\n",
       "      <td>1969</td>\n",
       "      <td>Jennifer Tudor</td>\n",
       "      <td>actress</td>\n",
       "      <td>Court lady</td>\n",
       "      <td>23.0</td>\n",
       "    </tr>\n",
       "    <tr>\n",
       "      <th>3588332</th>\n",
       "      <td>Hamlet's Ghost</td>\n",
       "      <td>2015</td>\n",
       "      <td>Helene Udy</td>\n",
       "      <td>actress</td>\n",
       "      <td>Mildred</td>\n",
       "      <td>40.0</td>\n",
       "    </tr>\n",
       "    <tr>\n",
       "      <th>3606177</th>\n",
       "      <td>Hamlet</td>\n",
       "      <td>2000</td>\n",
       "      <td>Diane Venora</td>\n",
       "      <td>actress</td>\n",
       "      <td>Gertrude</td>\n",
       "      <td>3.0</td>\n",
       "    </tr>\n",
       "    <tr>\n",
       "      <th>3616411</th>\n",
       "      <td>Hamlet, Son of a Kingpin</td>\n",
       "      <td>2015</td>\n",
       "      <td>Ingrid Vollset</td>\n",
       "      <td>actress</td>\n",
       "      <td>Ophelia</td>\n",
       "      <td>NaN</td>\n",
       "    </tr>\n",
       "    <tr>\n",
       "      <th>3630646</th>\n",
       "      <td>Hamlet's Ghost</td>\n",
       "      <td>2015</td>\n",
       "      <td>Dottie Warren</td>\n",
       "      <td>actress</td>\n",
       "      <td>Mrs. Stern</td>\n",
       "      <td>33.0</td>\n",
       "    </tr>\n",
       "    <tr>\n",
       "      <th>3636283</th>\n",
       "      <td>Hamlet</td>\n",
       "      <td>1996</td>\n",
       "      <td>Perdita Weeks</td>\n",
       "      <td>actress</td>\n",
       "      <td>Second Player</td>\n",
       "      <td>44.0</td>\n",
       "    </tr>\n",
       "    <tr>\n",
       "      <th>3636387</th>\n",
       "      <td>Hamlet_X</td>\n",
       "      <td>2003</td>\n",
       "      <td>Cordelia Wege</td>\n",
       "      <td>actress</td>\n",
       "      <td>Ophelia #6</td>\n",
       "      <td>NaN</td>\n",
       "    </tr>\n",
       "    <tr>\n",
       "      <th>3640954</th>\n",
       "      <td>Hamlet</td>\n",
       "      <td>2015</td>\n",
       "      <td>Katie (II) West</td>\n",
       "      <td>actress</td>\n",
       "      <td>Ophelia</td>\n",
       "      <td>7.0</td>\n",
       "    </tr>\n",
       "    <tr>\n",
       "      <th>3648729</th>\n",
       "      <td>Hamlet 2</td>\n",
       "      <td>2008</td>\n",
       "      <td>Margarita Wilder</td>\n",
       "      <td>actress</td>\n",
       "      <td>Julia De La Huerta</td>\n",
       "      <td>23.0</td>\n",
       "    </tr>\n",
       "    <tr>\n",
       "      <th>3657854</th>\n",
       "      <td>Hamlet</td>\n",
       "      <td>1996</td>\n",
       "      <td>Kate Winslet</td>\n",
       "      <td>actress</td>\n",
       "      <td>Ophelia</td>\n",
       "      <td>46.0</td>\n",
       "    </tr>\n",
       "    <tr>\n",
       "      <th>3683535</th>\n",
       "      <td>Hamlet 2</td>\n",
       "      <td>2008</td>\n",
       "      <td>Lydia Zazueta</td>\n",
       "      <td>actress</td>\n",
       "      <td>Audience Member</td>\n",
       "      <td>NaN</td>\n",
       "    </tr>\n",
       "    <tr>\n",
       "      <th>3687019</th>\n",
       "      <td>Hamlet's Ghost</td>\n",
       "      <td>2015</td>\n",
       "      <td>Stephanie Zimbalist</td>\n",
       "      <td>actress</td>\n",
       "      <td>Justina Keller</td>\n",
       "      <td>7.0</td>\n",
       "    </tr>\n",
       "    <tr>\n",
       "      <th>3687020</th>\n",
       "      <td>Hamlet's Ghost</td>\n",
       "      <td>2015</td>\n",
       "      <td>Stephanie Zimbalist</td>\n",
       "      <td>actress</td>\n",
       "      <td>Queen Gertrude</td>\n",
       "      <td>7.0</td>\n",
       "    </tr>\n",
       "  </tbody>\n",
       "</table>\n",
       "<p>746 rows × 6 columns</p>\n",
       "</div>"
      ],
      "text/plain": [
       "                             title  year                    name     type  \\\n",
       "1679                        Hamlet  1996              Riz Abbasi    actor   \n",
       "6617     Hamlet, Prince of Denmark  1997            Ernest Abuba    actor   \n",
       "7660                        Hamlet  1921        Fritz Achterberg    actor   \n",
       "11545                       Hamlet  2009            Hayden Adams    actor   \n",
       "11546                       Hamlet  2009            Hayden Adams    actor   \n",
       "12838                     Hamlet 2  2008           Valerie Adams    actor   \n",
       "14248                       Hamlet  1913             Eric Adeney    actor   \n",
       "15852                     Hamlet 2  2008             Evan Adrian    actor   \n",
       "16467                       Hamlet  2000           Casey Affleck    actor   \n",
       "19580    Hamlet: Prince of Denmark  1989            Kabir Ahamed    actor   \n",
       "25818                  Hamlet (II)  1964          Michael Alaimo    actor   \n",
       "26681                  Hamlet (II)  2017        Dimitri Alavidze    actor   \n",
       "27931                Hamlet A.D.D.  2014            Logan Albert    actor   \n",
       "33718                       Hamlet  1964          Hugh Alexander    actor   \n",
       "33719                       Hamlet  1964          Hugh Alexander    actor   \n",
       "33720                       Hamlet  1964          Hugh Alexander    actor   \n",
       "37938                     Hamlet_X  2003         Boris Aljinovic    actor   \n",
       "53742                       Hamlet  1913          Richard Andean    actor   \n",
       "57657                     Hamlet 2  2008           Todd Anderson    actor   \n",
       "60218                       Hamlet  2017           Luing Andrews    actor   \n",
       "63706                       Hamlet  1990        Christien Anholt    actor   \n",
       "76642                       Hamlet  1969                Ben Aris    actor   \n",
       "80947                  Hamlet (II)  2015          Brandon Arnold    actor   \n",
       "81840                       Hamlet  2015      Thomas (II) Arnold    actor   \n",
       "82246                     Hamlet_X  2003           Hendrik Arnst    actor   \n",
       "83167                     Hamlet 2  2008          David Arquette    actor   \n",
       "84353    Hamlet, Prince of Denmark  1997               Don Arrup    actor   \n",
       "91507                     Hamlet 2  2008            Skylar Astin    actor   \n",
       "94225                       Hamlet  1996    Richard Attenborough    actor   \n",
       "96190       Hamlet liikemaailmassa  1987             Pentti Auer    actor   \n",
       "...                            ...   ...                     ...      ...   \n",
       "3519138              Hamlet A.D.D.  2014         Jessica Steeber  actress   \n",
       "3519139              Hamlet A.D.D.  2014         Jessica Steeber  actress   \n",
       "3519725                Hamlet (II)  2007             Hanne Steen  actress   \n",
       "3525415  Hamlet, Prince of Denmark  1997     Pamela (II) Stewart  actress   \n",
       "3526081                     Hamlet  2000            Julia Stiles  actress   \n",
       "3527045                   Hamlet_X  2003        Isabelle Stoffel  actress   \n",
       "3530266                   Hamlet 2  2008          Cynthia Straus  actress   \n",
       "3531247     Hamlet in the Hamptons  2002       Virginia Stringel  actress   \n",
       "3531523                   Hamlet 2  2008           Phoebe Strole  actress   \n",
       "3535562                     Hamlet  2009     Bernadette Sullivan  actress   \n",
       "3540477              Hamlet A.D.D.  2014             Sarah Swant  actress   \n",
       "3551022              Hamlet A.D.D.  2014             Nikki Tappa  actress   \n",
       "3556059                     Hamlet  1964            Carol Teitel  actress   \n",
       "3559645                   Hamlet_X  2003           Anna Thalbach  actress   \n",
       "3572638                   Hamlet_X  2003             Laura Tonke  actress   \n",
       "3578304              Hamlet A.D.D.  2014            Emily Treolo  actress   \n",
       "3578835                     Hamlet  2017  Veronica Jean Trickett  actress   \n",
       "3583054                     Hamlet  1969          Jennifer Tudor  actress   \n",
       "3588332             Hamlet's Ghost  2015              Helene Udy  actress   \n",
       "3606177                     Hamlet  2000            Diane Venora  actress   \n",
       "3616411   Hamlet, Son of a Kingpin  2015          Ingrid Vollset  actress   \n",
       "3630646             Hamlet's Ghost  2015           Dottie Warren  actress   \n",
       "3636283                     Hamlet  1996           Perdita Weeks  actress   \n",
       "3636387                   Hamlet_X  2003           Cordelia Wege  actress   \n",
       "3640954                     Hamlet  2015         Katie (II) West  actress   \n",
       "3648729                   Hamlet 2  2008        Margarita Wilder  actress   \n",
       "3657854                     Hamlet  1996            Kate Winslet  actress   \n",
       "3683535                   Hamlet 2  2008           Lydia Zazueta  actress   \n",
       "3687019             Hamlet's Ghost  2015     Stephanie Zimbalist  actress   \n",
       "3687020             Hamlet's Ghost  2015     Stephanie Zimbalist  actress   \n",
       "\n",
       "                         character     n  \n",
       "1679         Attendant to Claudius   1.0  \n",
       "6617                      The King   NaN  \n",
       "7660                   Fortinbras,   9.0  \n",
       "11545                      Laertes   7.0  \n",
       "11546                       Player   7.0  \n",
       "12838                      Teacher   NaN  \n",
       "14248                     Reynaldo  14.0  \n",
       "15852             Danny the Waiter  24.0  \n",
       "16467                   Fortinbras  15.0  \n",
       "19580    Hamlet, Prince of Denmark   NaN  \n",
       "25818                    Player #3   NaN  \n",
       "26681                     Claudius   NaN  \n",
       "27931                   Lord Logan   NaN  \n",
       "33718                    Cornelius   NaN  \n",
       "33719           Second Gravedigger   NaN  \n",
       "33720           English Ambassador   NaN  \n",
       "37938                  Rosencrantz   NaN  \n",
       "53742                Second Player  16.0  \n",
       "57657               Redneck Parent  36.0  \n",
       "60218                     Bernardo   NaN  \n",
       "63706                    Marcellus  14.0  \n",
       "76642                  Rosencrantz   8.0  \n",
       "80947                Hamlet Senior   NaN  \n",
       "81840                      Horatio   5.0  \n",
       "82246                   Laertes #2   NaN  \n",
       "83167                         Gary  11.0  \n",
       "84353                     Polonius   NaN  \n",
       "91507                   Rand Posin   4.0  \n",
       "94225           English Ambassador   2.0  \n",
       "96190                          Is?  11.0  \n",
       "...                            ...   ...  \n",
       "3519138   Hot chick on dance floor   NaN  \n",
       "3519139                     Yeoman   NaN  \n",
       "3519725                   Reynaldo   NaN  \n",
       "3525415                    Horatio   NaN  \n",
       "3526081                    Ophelia   7.0  \n",
       "3527045                 Ophelia #3   NaN  \n",
       "3530266           Hysterical Woman  31.0  \n",
       "3531247                       Katy   NaN  \n",
       "3531523           Epiphany Sellers   5.0  \n",
       "3535562                   Gertrude   2.0  \n",
       "3540477                       Lady   NaN  \n",
       "3551022                 Lady Tappa   NaN  \n",
       "3556059                       Lady   NaN  \n",
       "3559645              Girlfriend #1   NaN  \n",
       "3572638                 Ophelia #4   NaN  \n",
       "3578304            Science Officer   NaN  \n",
       "3578835                  Marcellus   NaN  \n",
       "3583054                 Court lady  23.0  \n",
       "3588332                    Mildred  40.0  \n",
       "3606177                   Gertrude   3.0  \n",
       "3616411                    Ophelia   NaN  \n",
       "3630646                 Mrs. Stern  33.0  \n",
       "3636283              Second Player  44.0  \n",
       "3636387                 Ophelia #6   NaN  \n",
       "3640954                    Ophelia   7.0  \n",
       "3648729         Julia De La Huerta  23.0  \n",
       "3657854                    Ophelia  46.0  \n",
       "3683535            Audience Member   NaN  \n",
       "3687019             Justina Keller   7.0  \n",
       "3687020             Queen Gertrude   7.0  \n",
       "\n",
       "[746 rows x 6 columns]"
      ]
     },
     "execution_count": 212,
     "metadata": {},
     "output_type": "execute_result"
    }
   ],
   "source": [
    "ham3"
   ]
  },
  {
   "cell_type": "markdown",
   "metadata": {
    "collapsed": true
   },
   "source": [
    "### How many people have played an \"Ophelia\"?"
   ]
  },
  {
   "cell_type": "code",
   "execution_count": 216,
   "metadata": {
    "collapsed": false
   },
   "outputs": [
    {
     "data": {
      "text/plain": [
       "28"
      ]
     },
     "execution_count": 216,
     "metadata": {},
     "output_type": "execute_result"
    }
   ],
   "source": [
    "ham3[ham3.character == \"Ophelia\"].character.count()"
   ]
  },
  {
   "cell_type": "code",
   "execution_count": null,
   "metadata": {
    "collapsed": true
   },
   "outputs": [],
   "source": []
  },
  {
   "cell_type": "markdown",
   "metadata": {
    "collapsed": true
   },
   "source": [
    "### How many people have played a role called \"The Dude\"?"
   ]
  },
  {
   "cell_type": "code",
   "execution_count": 220,
   "metadata": {
    "collapsed": false
   },
   "outputs": [],
   "source": [
    "dude = cast[cast.character == \"The Dude\"]"
   ]
  },
  {
   "cell_type": "code",
   "execution_count": 222,
   "metadata": {
    "collapsed": false
   },
   "outputs": [
    {
     "data": {
      "text/plain": [
       "18"
      ]
     },
     "execution_count": 222,
     "metadata": {},
     "output_type": "execute_result"
    }
   ],
   "source": [
    "dude.character.count()"
   ]
  },
  {
   "cell_type": "markdown",
   "metadata": {
    "collapsed": true
   },
   "source": [
    "### How many people have played a role called \"The Stranger\"?"
   ]
  },
  {
   "cell_type": "code",
   "execution_count": 223,
   "metadata": {
    "collapsed": true
   },
   "outputs": [],
   "source": [
    "stranger = cast[cast.character == \"The Stranger\"]"
   ]
  },
  {
   "cell_type": "code",
   "execution_count": 224,
   "metadata": {
    "collapsed": false
   },
   "outputs": [
    {
     "data": {
      "text/plain": [
       "212"
      ]
     },
     "execution_count": 224,
     "metadata": {},
     "output_type": "execute_result"
    }
   ],
   "source": [
    "stranger.character.count()"
   ]
  },
  {
   "cell_type": "markdown",
   "metadata": {
    "collapsed": true
   },
   "source": [
    "### How many roles has Sidney Poitier played throughout his career?"
   ]
  },
  {
   "cell_type": "code",
   "execution_count": 225,
   "metadata": {
    "collapsed": false
   },
   "outputs": [
    {
     "data": {
      "text/html": [
       "<div>\n",
       "<table border=\"1\" class=\"dataframe\">\n",
       "  <thead>\n",
       "    <tr style=\"text-align: right;\">\n",
       "      <th></th>\n",
       "      <th>title</th>\n",
       "      <th>year</th>\n",
       "      <th>name</th>\n",
       "      <th>type</th>\n",
       "      <th>character</th>\n",
       "      <th>n</th>\n",
       "    </tr>\n",
       "  </thead>\n",
       "  <tbody>\n",
       "    <tr>\n",
       "      <th>1787362</th>\n",
       "      <td>A Patch of Blue</td>\n",
       "      <td>1965</td>\n",
       "      <td>Sidney Poitier</td>\n",
       "      <td>actor</td>\n",
       "      <td>Gordon Ralfe</td>\n",
       "      <td>1.0</td>\n",
       "    </tr>\n",
       "    <tr>\n",
       "      <th>1787363</th>\n",
       "      <td>A Piece of the Action</td>\n",
       "      <td>1977</td>\n",
       "      <td>Sidney Poitier</td>\n",
       "      <td>actor</td>\n",
       "      <td>Manny Durrell</td>\n",
       "      <td>1.0</td>\n",
       "    </tr>\n",
       "    <tr>\n",
       "      <th>1787364</th>\n",
       "      <td>A Raisin in the Sun</td>\n",
       "      <td>1961</td>\n",
       "      <td>Sidney Poitier</td>\n",
       "      <td>actor</td>\n",
       "      <td>Walter Lee Younger</td>\n",
       "      <td>1.0</td>\n",
       "    </tr>\n",
       "    <tr>\n",
       "      <th>1787365</th>\n",
       "      <td>A Warm December</td>\n",
       "      <td>1973</td>\n",
       "      <td>Sidney Poitier</td>\n",
       "      <td>actor</td>\n",
       "      <td>Dr. Matt Younger</td>\n",
       "      <td>1.0</td>\n",
       "    </tr>\n",
       "    <tr>\n",
       "      <th>1787366</th>\n",
       "      <td>All the Young Men</td>\n",
       "      <td>1960</td>\n",
       "      <td>Sidney Poitier</td>\n",
       "      <td>actor</td>\n",
       "      <td>Sgt. Eddie Towler</td>\n",
       "      <td>2.0</td>\n",
       "    </tr>\n",
       "    <tr>\n",
       "      <th>1787367</th>\n",
       "      <td>Band of Angels</td>\n",
       "      <td>1957</td>\n",
       "      <td>Sidney Poitier</td>\n",
       "      <td>actor</td>\n",
       "      <td>Rau-Ru</td>\n",
       "      <td>3.0</td>\n",
       "    </tr>\n",
       "    <tr>\n",
       "      <th>1787368</th>\n",
       "      <td>Blackboard Jungle</td>\n",
       "      <td>1955</td>\n",
       "      <td>Sidney Poitier</td>\n",
       "      <td>actor</td>\n",
       "      <td>Gregory W. Miller</td>\n",
       "      <td>10.0</td>\n",
       "    </tr>\n",
       "    <tr>\n",
       "      <th>1787369</th>\n",
       "      <td>Brother John</td>\n",
       "      <td>1971</td>\n",
       "      <td>Sidney Poitier</td>\n",
       "      <td>actor</td>\n",
       "      <td>John Kane</td>\n",
       "      <td>1.0</td>\n",
       "    </tr>\n",
       "    <tr>\n",
       "      <th>1787370</th>\n",
       "      <td>Buck and the Preacher</td>\n",
       "      <td>1972</td>\n",
       "      <td>Sidney Poitier</td>\n",
       "      <td>actor</td>\n",
       "      <td>Buck</td>\n",
       "      <td>1.0</td>\n",
       "    </tr>\n",
       "    <tr>\n",
       "      <th>1787371</th>\n",
       "      <td>Cry, the Beloved Country</td>\n",
       "      <td>1951</td>\n",
       "      <td>Sidney Poitier</td>\n",
       "      <td>actor</td>\n",
       "      <td>Reverend Msimangu</td>\n",
       "      <td>3.0</td>\n",
       "    </tr>\n",
       "    <tr>\n",
       "      <th>1787372</th>\n",
       "      <td>Duel at Diablo</td>\n",
       "      <td>1966</td>\n",
       "      <td>Sidney Poitier</td>\n",
       "      <td>actor</td>\n",
       "      <td>Toller</td>\n",
       "      <td>2.0</td>\n",
       "    </tr>\n",
       "    <tr>\n",
       "      <th>1787373</th>\n",
       "      <td>Edge of the City</td>\n",
       "      <td>1957</td>\n",
       "      <td>Sidney Poitier</td>\n",
       "      <td>actor</td>\n",
       "      <td>Tommy Tyler</td>\n",
       "      <td>2.0</td>\n",
       "    </tr>\n",
       "    <tr>\n",
       "      <th>1787374</th>\n",
       "      <td>For Love of Ivy</td>\n",
       "      <td>1968</td>\n",
       "      <td>Sidney Poitier</td>\n",
       "      <td>actor</td>\n",
       "      <td>Jack Parks</td>\n",
       "      <td>1.0</td>\n",
       "    </tr>\n",
       "    <tr>\n",
       "      <th>1787375</th>\n",
       "      <td>Go Man Go</td>\n",
       "      <td>1954</td>\n",
       "      <td>Sidney Poitier</td>\n",
       "      <td>actor</td>\n",
       "      <td>Inman Jackson</td>\n",
       "      <td>3.0</td>\n",
       "    </tr>\n",
       "    <tr>\n",
       "      <th>1787376</th>\n",
       "      <td>Good-bye, My Lady</td>\n",
       "      <td>1956</td>\n",
       "      <td>Sidney Poitier</td>\n",
       "      <td>actor</td>\n",
       "      <td>Gates Watson</td>\n",
       "      <td>4.0</td>\n",
       "    </tr>\n",
       "    <tr>\n",
       "      <th>1787377</th>\n",
       "      <td>Guess Who's Coming to Dinner</td>\n",
       "      <td>1967</td>\n",
       "      <td>Sidney Poitier</td>\n",
       "      <td>actor</td>\n",
       "      <td>John Prentice</td>\n",
       "      <td>2.0</td>\n",
       "    </tr>\n",
       "    <tr>\n",
       "      <th>1787378</th>\n",
       "      <td>In the Heat of the Night</td>\n",
       "      <td>1967</td>\n",
       "      <td>Sidney Poitier</td>\n",
       "      <td>actor</td>\n",
       "      <td>Virgil Tibbs</td>\n",
       "      <td>1.0</td>\n",
       "    </tr>\n",
       "    <tr>\n",
       "      <th>1787379</th>\n",
       "      <td>Let's Do It Again</td>\n",
       "      <td>1975</td>\n",
       "      <td>Sidney Poitier</td>\n",
       "      <td>actor</td>\n",
       "      <td>Clyde Williams</td>\n",
       "      <td>1.0</td>\n",
       "    </tr>\n",
       "    <tr>\n",
       "      <th>1787380</th>\n",
       "      <td>Lilies of the Field</td>\n",
       "      <td>1963</td>\n",
       "      <td>Sidney Poitier</td>\n",
       "      <td>actor</td>\n",
       "      <td>Homer Smith</td>\n",
       "      <td>1.0</td>\n",
       "    </tr>\n",
       "    <tr>\n",
       "      <th>1787381</th>\n",
       "      <td>Little Nikita</td>\n",
       "      <td>1988</td>\n",
       "      <td>Sidney Poitier</td>\n",
       "      <td>actor</td>\n",
       "      <td>Roy Parmenter</td>\n",
       "      <td>1.0</td>\n",
       "    </tr>\n",
       "    <tr>\n",
       "      <th>1787382</th>\n",
       "      <td>No Way Out</td>\n",
       "      <td>1950</td>\n",
       "      <td>Sidney Poitier</td>\n",
       "      <td>actor</td>\n",
       "      <td>Dr. Luther Brooks</td>\n",
       "      <td>4.0</td>\n",
       "    </tr>\n",
       "    <tr>\n",
       "      <th>1787383</th>\n",
       "      <td>Paris Blues</td>\n",
       "      <td>1961</td>\n",
       "      <td>Sidney Poitier</td>\n",
       "      <td>actor</td>\n",
       "      <td>Eddie Cook</td>\n",
       "      <td>3.0</td>\n",
       "    </tr>\n",
       "    <tr>\n",
       "      <th>1787384</th>\n",
       "      <td>Porgy and Bess</td>\n",
       "      <td>1959</td>\n",
       "      <td>Sidney Poitier</td>\n",
       "      <td>actor</td>\n",
       "      <td>Porgy</td>\n",
       "      <td>1.0</td>\n",
       "    </tr>\n",
       "    <tr>\n",
       "      <th>1787385</th>\n",
       "      <td>Pressure Point</td>\n",
       "      <td>1962</td>\n",
       "      <td>Sidney Poitier</td>\n",
       "      <td>actor</td>\n",
       "      <td>Doctor</td>\n",
       "      <td>1.0</td>\n",
       "    </tr>\n",
       "    <tr>\n",
       "      <th>1787386</th>\n",
       "      <td>Red Ball Express</td>\n",
       "      <td>1952</td>\n",
       "      <td>Sidney Poitier</td>\n",
       "      <td>actor</td>\n",
       "      <td>Robertson</td>\n",
       "      <td>5.0</td>\n",
       "    </tr>\n",
       "    <tr>\n",
       "      <th>1787387</th>\n",
       "      <td>Sepia Cinderella</td>\n",
       "      <td>1947</td>\n",
       "      <td>Sidney Poitier</td>\n",
       "      <td>actor</td>\n",
       "      <td>Night Club Extra</td>\n",
       "      <td>NaN</td>\n",
       "    </tr>\n",
       "    <tr>\n",
       "      <th>1787388</th>\n",
       "      <td>Shoot to Kill</td>\n",
       "      <td>1988</td>\n",
       "      <td>Sidney Poitier</td>\n",
       "      <td>actor</td>\n",
       "      <td>Warren Stantin</td>\n",
       "      <td>1.0</td>\n",
       "    </tr>\n",
       "    <tr>\n",
       "      <th>1787389</th>\n",
       "      <td>Sneakers</td>\n",
       "      <td>1992</td>\n",
       "      <td>Sidney Poitier</td>\n",
       "      <td>actor</td>\n",
       "      <td>Donald Crease</td>\n",
       "      <td>4.0</td>\n",
       "    </tr>\n",
       "    <tr>\n",
       "      <th>1787390</th>\n",
       "      <td>Something of Value</td>\n",
       "      <td>1957</td>\n",
       "      <td>Sidney Poitier</td>\n",
       "      <td>actor</td>\n",
       "      <td>Kimani Wa Karanja</td>\n",
       "      <td>13.0</td>\n",
       "    </tr>\n",
       "    <tr>\n",
       "      <th>1787391</th>\n",
       "      <td>The Bedford Incident</td>\n",
       "      <td>1965</td>\n",
       "      <td>Sidney Poitier</td>\n",
       "      <td>actor</td>\n",
       "      <td>Ben Munceford</td>\n",
       "      <td>2.0</td>\n",
       "    </tr>\n",
       "    <tr>\n",
       "      <th>1787392</th>\n",
       "      <td>The Defiant Ones</td>\n",
       "      <td>1958</td>\n",
       "      <td>Sidney Poitier</td>\n",
       "      <td>actor</td>\n",
       "      <td>Noah Cullen</td>\n",
       "      <td>2.0</td>\n",
       "    </tr>\n",
       "    <tr>\n",
       "      <th>1787393</th>\n",
       "      <td>The Greatest Story Ever Told</td>\n",
       "      <td>1965</td>\n",
       "      <td>Sidney Poitier</td>\n",
       "      <td>actor</td>\n",
       "      <td>Simon of Cyrene</td>\n",
       "      <td>21.0</td>\n",
       "    </tr>\n",
       "    <tr>\n",
       "      <th>1787394</th>\n",
       "      <td>The Jackal</td>\n",
       "      <td>1997</td>\n",
       "      <td>Sidney Poitier</td>\n",
       "      <td>actor</td>\n",
       "      <td>FBI Deputy Director Carter Preston</td>\n",
       "      <td>3.0</td>\n",
       "    </tr>\n",
       "    <tr>\n",
       "      <th>1787395</th>\n",
       "      <td>The Long Ships</td>\n",
       "      <td>1964</td>\n",
       "      <td>Sidney Poitier</td>\n",
       "      <td>actor</td>\n",
       "      <td>Aly Mansuh</td>\n",
       "      <td>2.0</td>\n",
       "    </tr>\n",
       "    <tr>\n",
       "      <th>1787396</th>\n",
       "      <td>The Lost Man</td>\n",
       "      <td>1969</td>\n",
       "      <td>Sidney Poitier</td>\n",
       "      <td>actor</td>\n",
       "      <td>Jason Higgs</td>\n",
       "      <td>1.0</td>\n",
       "    </tr>\n",
       "    <tr>\n",
       "      <th>1787397</th>\n",
       "      <td>The Mark of the Hawk</td>\n",
       "      <td>1957</td>\n",
       "      <td>Sidney Poitier</td>\n",
       "      <td>actor</td>\n",
       "      <td>Obam</td>\n",
       "      <td>2.0</td>\n",
       "    </tr>\n",
       "    <tr>\n",
       "      <th>1787398</th>\n",
       "      <td>The Organization</td>\n",
       "      <td>1971</td>\n",
       "      <td>Sidney Poitier</td>\n",
       "      <td>actor</td>\n",
       "      <td>Virgil Tibbs</td>\n",
       "      <td>1.0</td>\n",
       "    </tr>\n",
       "    <tr>\n",
       "      <th>1787399</th>\n",
       "      <td>The Slender Thread</td>\n",
       "      <td>1965</td>\n",
       "      <td>Sidney Poitier</td>\n",
       "      <td>actor</td>\n",
       "      <td>Alan Newell</td>\n",
       "      <td>1.0</td>\n",
       "    </tr>\n",
       "    <tr>\n",
       "      <th>1787400</th>\n",
       "      <td>The Wilby Conspiracy</td>\n",
       "      <td>1975</td>\n",
       "      <td>Sidney Poitier</td>\n",
       "      <td>actor</td>\n",
       "      <td>Shack Twala</td>\n",
       "      <td>1.0</td>\n",
       "    </tr>\n",
       "    <tr>\n",
       "      <th>1787401</th>\n",
       "      <td>They Call Me Mister Tibbs!</td>\n",
       "      <td>1970</td>\n",
       "      <td>Sidney Poitier</td>\n",
       "      <td>actor</td>\n",
       "      <td>Virgil Tibbs</td>\n",
       "      <td>1.0</td>\n",
       "    </tr>\n",
       "    <tr>\n",
       "      <th>1787402</th>\n",
       "      <td>To Sir, with Love</td>\n",
       "      <td>1967</td>\n",
       "      <td>Sidney Poitier</td>\n",
       "      <td>actor</td>\n",
       "      <td>Mark Thackeray</td>\n",
       "      <td>1.0</td>\n",
       "    </tr>\n",
       "    <tr>\n",
       "      <th>1787403</th>\n",
       "      <td>Uptown Saturday Night</td>\n",
       "      <td>1974</td>\n",
       "      <td>Sidney Poitier</td>\n",
       "      <td>actor</td>\n",
       "      <td>Steve Jackson</td>\n",
       "      <td>1.0</td>\n",
       "    </tr>\n",
       "    <tr>\n",
       "      <th>1787404</th>\n",
       "      <td>Virgin Island</td>\n",
       "      <td>1958</td>\n",
       "      <td>Sidney Poitier</td>\n",
       "      <td>actor</td>\n",
       "      <td>Marcus</td>\n",
       "      <td>3.0</td>\n",
       "    </tr>\n",
       "  </tbody>\n",
       "</table>\n",
       "</div>"
      ],
      "text/plain": [
       "                                title  year            name   type  \\\n",
       "1787362               A Patch of Blue  1965  Sidney Poitier  actor   \n",
       "1787363         A Piece of the Action  1977  Sidney Poitier  actor   \n",
       "1787364           A Raisin in the Sun  1961  Sidney Poitier  actor   \n",
       "1787365               A Warm December  1973  Sidney Poitier  actor   \n",
       "1787366             All the Young Men  1960  Sidney Poitier  actor   \n",
       "1787367                Band of Angels  1957  Sidney Poitier  actor   \n",
       "1787368             Blackboard Jungle  1955  Sidney Poitier  actor   \n",
       "1787369                  Brother John  1971  Sidney Poitier  actor   \n",
       "1787370         Buck and the Preacher  1972  Sidney Poitier  actor   \n",
       "1787371      Cry, the Beloved Country  1951  Sidney Poitier  actor   \n",
       "1787372                Duel at Diablo  1966  Sidney Poitier  actor   \n",
       "1787373              Edge of the City  1957  Sidney Poitier  actor   \n",
       "1787374               For Love of Ivy  1968  Sidney Poitier  actor   \n",
       "1787375                     Go Man Go  1954  Sidney Poitier  actor   \n",
       "1787376             Good-bye, My Lady  1956  Sidney Poitier  actor   \n",
       "1787377  Guess Who's Coming to Dinner  1967  Sidney Poitier  actor   \n",
       "1787378      In the Heat of the Night  1967  Sidney Poitier  actor   \n",
       "1787379             Let's Do It Again  1975  Sidney Poitier  actor   \n",
       "1787380           Lilies of the Field  1963  Sidney Poitier  actor   \n",
       "1787381                 Little Nikita  1988  Sidney Poitier  actor   \n",
       "1787382                    No Way Out  1950  Sidney Poitier  actor   \n",
       "1787383                   Paris Blues  1961  Sidney Poitier  actor   \n",
       "1787384                Porgy and Bess  1959  Sidney Poitier  actor   \n",
       "1787385                Pressure Point  1962  Sidney Poitier  actor   \n",
       "1787386              Red Ball Express  1952  Sidney Poitier  actor   \n",
       "1787387              Sepia Cinderella  1947  Sidney Poitier  actor   \n",
       "1787388                 Shoot to Kill  1988  Sidney Poitier  actor   \n",
       "1787389                      Sneakers  1992  Sidney Poitier  actor   \n",
       "1787390            Something of Value  1957  Sidney Poitier  actor   \n",
       "1787391          The Bedford Incident  1965  Sidney Poitier  actor   \n",
       "1787392              The Defiant Ones  1958  Sidney Poitier  actor   \n",
       "1787393  The Greatest Story Ever Told  1965  Sidney Poitier  actor   \n",
       "1787394                    The Jackal  1997  Sidney Poitier  actor   \n",
       "1787395                The Long Ships  1964  Sidney Poitier  actor   \n",
       "1787396                  The Lost Man  1969  Sidney Poitier  actor   \n",
       "1787397          The Mark of the Hawk  1957  Sidney Poitier  actor   \n",
       "1787398              The Organization  1971  Sidney Poitier  actor   \n",
       "1787399            The Slender Thread  1965  Sidney Poitier  actor   \n",
       "1787400          The Wilby Conspiracy  1975  Sidney Poitier  actor   \n",
       "1787401    They Call Me Mister Tibbs!  1970  Sidney Poitier  actor   \n",
       "1787402             To Sir, with Love  1967  Sidney Poitier  actor   \n",
       "1787403         Uptown Saturday Night  1974  Sidney Poitier  actor   \n",
       "1787404                 Virgin Island  1958  Sidney Poitier  actor   \n",
       "\n",
       "                                  character     n  \n",
       "1787362                        Gordon Ralfe   1.0  \n",
       "1787363                       Manny Durrell   1.0  \n",
       "1787364                  Walter Lee Younger   1.0  \n",
       "1787365                    Dr. Matt Younger   1.0  \n",
       "1787366                   Sgt. Eddie Towler   2.0  \n",
       "1787367                              Rau-Ru   3.0  \n",
       "1787368                   Gregory W. Miller  10.0  \n",
       "1787369                           John Kane   1.0  \n",
       "1787370                                Buck   1.0  \n",
       "1787371                   Reverend Msimangu   3.0  \n",
       "1787372                              Toller   2.0  \n",
       "1787373                         Tommy Tyler   2.0  \n",
       "1787374                          Jack Parks   1.0  \n",
       "1787375                       Inman Jackson   3.0  \n",
       "1787376                        Gates Watson   4.0  \n",
       "1787377                       John Prentice   2.0  \n",
       "1787378                        Virgil Tibbs   1.0  \n",
       "1787379                      Clyde Williams   1.0  \n",
       "1787380                         Homer Smith   1.0  \n",
       "1787381                       Roy Parmenter   1.0  \n",
       "1787382                   Dr. Luther Brooks   4.0  \n",
       "1787383                          Eddie Cook   3.0  \n",
       "1787384                               Porgy   1.0  \n",
       "1787385                              Doctor   1.0  \n",
       "1787386                           Robertson   5.0  \n",
       "1787387                    Night Club Extra   NaN  \n",
       "1787388                      Warren Stantin   1.0  \n",
       "1787389                       Donald Crease   4.0  \n",
       "1787390                   Kimani Wa Karanja  13.0  \n",
       "1787391                       Ben Munceford   2.0  \n",
       "1787392                         Noah Cullen   2.0  \n",
       "1787393                     Simon of Cyrene  21.0  \n",
       "1787394  FBI Deputy Director Carter Preston   3.0  \n",
       "1787395                          Aly Mansuh   2.0  \n",
       "1787396                         Jason Higgs   1.0  \n",
       "1787397                                Obam   2.0  \n",
       "1787398                        Virgil Tibbs   1.0  \n",
       "1787399                         Alan Newell   1.0  \n",
       "1787400                         Shack Twala   1.0  \n",
       "1787401                        Virgil Tibbs   1.0  \n",
       "1787402                      Mark Thackeray   1.0  \n",
       "1787403                       Steve Jackson   1.0  \n",
       "1787404                              Marcus   3.0  "
      ]
     },
     "execution_count": 225,
     "metadata": {},
     "output_type": "execute_result"
    }
   ],
   "source": [
    "cast[cast.name == \"Sidney Poitier\"]"
   ]
  },
  {
   "cell_type": "code",
   "execution_count": 226,
   "metadata": {
    "collapsed": true
   },
   "outputs": [],
   "source": [
    "sidney = cast[cast.name == \"Sidney Poitier\"]"
   ]
  },
  {
   "cell_type": "code",
   "execution_count": 227,
   "metadata": {
    "collapsed": false
   },
   "outputs": [
    {
     "data": {
      "text/plain": [
       "43"
      ]
     },
     "execution_count": 227,
     "metadata": {},
     "output_type": "execute_result"
    }
   ],
   "source": [
    "sidney.character.count()"
   ]
  },
  {
   "cell_type": "markdown",
   "metadata": {
    "collapsed": true
   },
   "source": [
    "### How many roles has Judi Dench played?"
   ]
  },
  {
   "cell_type": "code",
   "execution_count": 228,
   "metadata": {
    "collapsed": true
   },
   "outputs": [],
   "source": [
    "judi = cast[cast.name == 'Judi Dench']"
   ]
  },
  {
   "cell_type": "code",
   "execution_count": 229,
   "metadata": {
    "collapsed": false
   },
   "outputs": [
    {
     "data": {
      "text/plain": [
       "54"
      ]
     },
     "execution_count": 229,
     "metadata": {},
     "output_type": "execute_result"
    }
   ],
   "source": [
    "judi.character.count()"
   ]
  },
  {
   "cell_type": "markdown",
   "metadata": {
    "collapsed": true
   },
   "source": [
    "### List the supporting roles (having n=2) played by Cary Grant in the 1940s, in order by year."
   ]
  },
  {
   "cell_type": "code",
   "execution_count": 239,
   "metadata": {
    "collapsed": true
   },
   "outputs": [],
   "source": [
    "cary = cast[(cast.name == \"Cary Grant\") & ((cast.year >= 1940) & (cast.year <= 1949)) & (cast.n > 1) ]"
   ]
  },
  {
   "cell_type": "code",
   "execution_count": 240,
   "metadata": {
    "collapsed": false
   },
   "outputs": [
    {
     "data": {
      "text/html": [
       "<div>\n",
       "<table border=\"1\" class=\"dataframe\">\n",
       "  <thead>\n",
       "    <tr style=\"text-align: right;\">\n",
       "      <th></th>\n",
       "      <th>title</th>\n",
       "      <th>year</th>\n",
       "      <th>name</th>\n",
       "      <th>type</th>\n",
       "      <th>character</th>\n",
       "      <th>n</th>\n",
       "    </tr>\n",
       "  </thead>\n",
       "  <tbody>\n",
       "    <tr>\n",
       "      <th>857926</th>\n",
       "      <td>My Favorite Wife</td>\n",
       "      <td>1940</td>\n",
       "      <td>Cary Grant</td>\n",
       "      <td>actor</td>\n",
       "      <td>Nick Arden</td>\n",
       "      <td>2.0</td>\n",
       "    </tr>\n",
       "    <tr>\n",
       "      <th>857936</th>\n",
       "      <td>Penny Serenade</td>\n",
       "      <td>1941</td>\n",
       "      <td>Cary Grant</td>\n",
       "      <td>actor</td>\n",
       "      <td>Roger Adams</td>\n",
       "      <td>2.0</td>\n",
       "    </tr>\n",
       "  </tbody>\n",
       "</table>\n",
       "</div>"
      ],
      "text/plain": [
       "                   title  year        name   type    character    n\n",
       "857926  My Favorite Wife  1940  Cary Grant  actor   Nick Arden  2.0\n",
       "857936    Penny Serenade  1941  Cary Grant  actor  Roger Adams  2.0"
      ]
     },
     "execution_count": 240,
     "metadata": {},
     "output_type": "execute_result"
    }
   ],
   "source": [
    "cary.sort_values(['year','n'])"
   ]
  },
  {
   "cell_type": "markdown",
   "metadata": {
    "collapsed": true
   },
   "source": [
    "### List the leading roles that Cary Grant played in the 1940s in order by year."
   ]
  },
  {
   "cell_type": "code",
   "execution_count": 241,
   "metadata": {
    "collapsed": true
   },
   "outputs": [],
   "source": [
    "carylead = cast[(cast.name == \"Cary Grant\") & ((cast.year >= 1940) & (cast.year <= 1949)) & (cast.n == 1)]"
   ]
  },
  {
   "cell_type": "code",
   "execution_count": 242,
   "metadata": {
    "collapsed": false
   },
   "outputs": [
    {
     "data": {
      "text/html": [
       "<div>\n",
       "<table border=\"1\" class=\"dataframe\">\n",
       "  <thead>\n",
       "    <tr style=\"text-align: right;\">\n",
       "      <th></th>\n",
       "      <th>title</th>\n",
       "      <th>year</th>\n",
       "      <th>name</th>\n",
       "      <th>type</th>\n",
       "      <th>character</th>\n",
       "      <th>n</th>\n",
       "    </tr>\n",
       "  </thead>\n",
       "  <tbody>\n",
       "    <tr>\n",
       "      <th>857951</th>\n",
       "      <td>The Howards of Virginia</td>\n",
       "      <td>1940</td>\n",
       "      <td>Cary Grant</td>\n",
       "      <td>actor</td>\n",
       "      <td>Matt Howard</td>\n",
       "      <td>1.0</td>\n",
       "    </tr>\n",
       "    <tr>\n",
       "      <th>857908</th>\n",
       "      <td>His Girl Friday</td>\n",
       "      <td>1940</td>\n",
       "      <td>Cary Grant</td>\n",
       "      <td>actor</td>\n",
       "      <td>Walter Burns</td>\n",
       "      <td>1.0</td>\n",
       "    </tr>\n",
       "    <tr>\n",
       "      <th>857953</th>\n",
       "      <td>The Philadelphia Story</td>\n",
       "      <td>1940</td>\n",
       "      <td>Cary Grant</td>\n",
       "      <td>actor</td>\n",
       "      <td>C. K. Dexter Haven</td>\n",
       "      <td>1.0</td>\n",
       "    </tr>\n",
       "    <tr>\n",
       "      <th>857941</th>\n",
       "      <td>Suspicion</td>\n",
       "      <td>1941</td>\n",
       "      <td>Cary Grant</td>\n",
       "      <td>actor</td>\n",
       "      <td>Johnnie</td>\n",
       "      <td>1.0</td>\n",
       "    </tr>\n",
       "    <tr>\n",
       "      <th>857955</th>\n",
       "      <td>The Talk of the Town</td>\n",
       "      <td>1942</td>\n",
       "      <td>Cary Grant</td>\n",
       "      <td>actor</td>\n",
       "      <td>Leopold Dilg</td>\n",
       "      <td>1.0</td>\n",
       "    </tr>\n",
       "    <tr>\n",
       "      <th>857932</th>\n",
       "      <td>Once Upon a Honeymoon</td>\n",
       "      <td>1942</td>\n",
       "      <td>Cary Grant</td>\n",
       "      <td>actor</td>\n",
       "      <td>Patrick 'Pat' O'Toole</td>\n",
       "      <td>1.0</td>\n",
       "    </tr>\n",
       "    <tr>\n",
       "      <th>857899</th>\n",
       "      <td>Destination Tokyo</td>\n",
       "      <td>1943</td>\n",
       "      <td>Cary Grant</td>\n",
       "      <td>actor</td>\n",
       "      <td>Capt. Cassidy</td>\n",
       "      <td>1.0</td>\n",
       "    </tr>\n",
       "    <tr>\n",
       "      <th>857924</th>\n",
       "      <td>Mr. Lucky</td>\n",
       "      <td>1943</td>\n",
       "      <td>Cary Grant</td>\n",
       "      <td>actor</td>\n",
       "      <td>Joe Adams</td>\n",
       "      <td>1.0</td>\n",
       "    </tr>\n",
       "    <tr>\n",
       "      <th>857925</th>\n",
       "      <td>Mr. Lucky</td>\n",
       "      <td>1943</td>\n",
       "      <td>Cary Grant</td>\n",
       "      <td>actor</td>\n",
       "      <td>Joe Bascopolous</td>\n",
       "      <td>1.0</td>\n",
       "    </tr>\n",
       "    <tr>\n",
       "      <th>857933</th>\n",
       "      <td>Once Upon a Time</td>\n",
       "      <td>1944</td>\n",
       "      <td>Cary Grant</td>\n",
       "      <td>actor</td>\n",
       "      <td>Jerry Flynn</td>\n",
       "      <td>1.0</td>\n",
       "    </tr>\n",
       "    <tr>\n",
       "      <th>857891</th>\n",
       "      <td>Arsenic and Old Lace</td>\n",
       "      <td>1944</td>\n",
       "      <td>Cary Grant</td>\n",
       "      <td>actor</td>\n",
       "      <td>Mortimer Brewster</td>\n",
       "      <td>1.0</td>\n",
       "    </tr>\n",
       "    <tr>\n",
       "      <th>857928</th>\n",
       "      <td>None But the Lonely Heart</td>\n",
       "      <td>1944</td>\n",
       "      <td>Cary Grant</td>\n",
       "      <td>actor</td>\n",
       "      <td>Ernie Mott</td>\n",
       "      <td>1.0</td>\n",
       "    </tr>\n",
       "    <tr>\n",
       "      <th>857927</th>\n",
       "      <td>Night and Day</td>\n",
       "      <td>1946</td>\n",
       "      <td>Cary Grant</td>\n",
       "      <td>actor</td>\n",
       "      <td>Cole Porter</td>\n",
       "      <td>1.0</td>\n",
       "    </tr>\n",
       "    <tr>\n",
       "      <th>857930</th>\n",
       "      <td>Notorious</td>\n",
       "      <td>1946</td>\n",
       "      <td>Cary Grant</td>\n",
       "      <td>actor</td>\n",
       "      <td>Devlin</td>\n",
       "      <td>1.0</td>\n",
       "    </tr>\n",
       "    <tr>\n",
       "      <th>857947</th>\n",
       "      <td>The Bachelor and the Bobby-Soxer</td>\n",
       "      <td>1947</td>\n",
       "      <td>Cary Grant</td>\n",
       "      <td>actor</td>\n",
       "      <td>Dick Nugent</td>\n",
       "      <td>1.0</td>\n",
       "    </tr>\n",
       "    <tr>\n",
       "      <th>857948</th>\n",
       "      <td>The Bishop's Wife</td>\n",
       "      <td>1947</td>\n",
       "      <td>Cary Grant</td>\n",
       "      <td>actor</td>\n",
       "      <td>Dudley</td>\n",
       "      <td>1.0</td>\n",
       "    </tr>\n",
       "    <tr>\n",
       "      <th>857923</th>\n",
       "      <td>Mr. Blandings Builds His Dream House</td>\n",
       "      <td>1948</td>\n",
       "      <td>Cary Grant</td>\n",
       "      <td>actor</td>\n",
       "      <td>Jim Blandings</td>\n",
       "      <td>1.0</td>\n",
       "    </tr>\n",
       "    <tr>\n",
       "      <th>857903</th>\n",
       "      <td>Every Girl Should Be Married</td>\n",
       "      <td>1948</td>\n",
       "      <td>Cary Grant</td>\n",
       "      <td>actor</td>\n",
       "      <td>Dr. Madison Brown</td>\n",
       "      <td>1.0</td>\n",
       "    </tr>\n",
       "    <tr>\n",
       "      <th>857912</th>\n",
       "      <td>I Was a Male War Bride</td>\n",
       "      <td>1949</td>\n",
       "      <td>Cary Grant</td>\n",
       "      <td>actor</td>\n",
       "      <td>Captain Henri Rochard</td>\n",
       "      <td>1.0</td>\n",
       "    </tr>\n",
       "  </tbody>\n",
       "</table>\n",
       "</div>"
      ],
      "text/plain": [
       "                                       title  year        name   type  \\\n",
       "857951               The Howards of Virginia  1940  Cary Grant  actor   \n",
       "857908                       His Girl Friday  1940  Cary Grant  actor   \n",
       "857953                The Philadelphia Story  1940  Cary Grant  actor   \n",
       "857941                             Suspicion  1941  Cary Grant  actor   \n",
       "857955                  The Talk of the Town  1942  Cary Grant  actor   \n",
       "857932                 Once Upon a Honeymoon  1942  Cary Grant  actor   \n",
       "857899                     Destination Tokyo  1943  Cary Grant  actor   \n",
       "857924                             Mr. Lucky  1943  Cary Grant  actor   \n",
       "857925                             Mr. Lucky  1943  Cary Grant  actor   \n",
       "857933                      Once Upon a Time  1944  Cary Grant  actor   \n",
       "857891                  Arsenic and Old Lace  1944  Cary Grant  actor   \n",
       "857928             None But the Lonely Heart  1944  Cary Grant  actor   \n",
       "857927                         Night and Day  1946  Cary Grant  actor   \n",
       "857930                             Notorious  1946  Cary Grant  actor   \n",
       "857947      The Bachelor and the Bobby-Soxer  1947  Cary Grant  actor   \n",
       "857948                     The Bishop's Wife  1947  Cary Grant  actor   \n",
       "857923  Mr. Blandings Builds His Dream House  1948  Cary Grant  actor   \n",
       "857903          Every Girl Should Be Married  1948  Cary Grant  actor   \n",
       "857912                I Was a Male War Bride  1949  Cary Grant  actor   \n",
       "\n",
       "                    character    n  \n",
       "857951            Matt Howard  1.0  \n",
       "857908           Walter Burns  1.0  \n",
       "857953     C. K. Dexter Haven  1.0  \n",
       "857941                Johnnie  1.0  \n",
       "857955           Leopold Dilg  1.0  \n",
       "857932  Patrick 'Pat' O'Toole  1.0  \n",
       "857899          Capt. Cassidy  1.0  \n",
       "857924              Joe Adams  1.0  \n",
       "857925        Joe Bascopolous  1.0  \n",
       "857933            Jerry Flynn  1.0  \n",
       "857891      Mortimer Brewster  1.0  \n",
       "857928             Ernie Mott  1.0  \n",
       "857927            Cole Porter  1.0  \n",
       "857930                 Devlin  1.0  \n",
       "857947            Dick Nugent  1.0  \n",
       "857948                 Dudley  1.0  \n",
       "857923          Jim Blandings  1.0  \n",
       "857903      Dr. Madison Brown  1.0  \n",
       "857912  Captain Henri Rochard  1.0  "
      ]
     },
     "execution_count": 242,
     "metadata": {},
     "output_type": "execute_result"
    }
   ],
   "source": [
    "carylead.sort_values(\"year\")"
   ]
  },
  {
   "cell_type": "markdown",
   "metadata": {
    "collapsed": true
   },
   "source": [
    "### How many roles were available for actors in the 1950s?"
   ]
  },
  {
   "cell_type": "code",
   "execution_count": 259,
   "metadata": {
    "collapsed": false
   },
   "outputs": [],
   "source": [
    "actor = cast[(cast.year >= 1950) & (cast.year <= 1959) & (cast.type == \"actor\")]"
   ]
  },
  {
   "cell_type": "code",
   "execution_count": 261,
   "metadata": {
    "collapsed": false
   },
   "outputs": [
    {
     "data": {
      "text/plain": [
       "156211"
      ]
     },
     "execution_count": 261,
     "metadata": {},
     "output_type": "execute_result"
    }
   ],
   "source": [
    "actor.type.count()"
   ]
  },
  {
   "cell_type": "markdown",
   "metadata": {
    "collapsed": true
   },
   "source": [
    "### How many roles were avilable for actresses in the 1950s?"
   ]
  },
  {
   "cell_type": "code",
   "execution_count": 262,
   "metadata": {
    "collapsed": true
   },
   "outputs": [],
   "source": [
    "actress = cast[(cast.year >= 1950) & (cast.year <= 1959) & (cast.type == \"actress\")]"
   ]
  },
  {
   "cell_type": "code",
   "execution_count": 263,
   "metadata": {
    "collapsed": false
   },
   "outputs": [
    {
     "data": {
      "text/plain": [
       "56828"
      ]
     },
     "execution_count": 263,
     "metadata": {},
     "output_type": "execute_result"
    }
   ],
   "source": [
    "actress.type.count()"
   ]
  },
  {
   "cell_type": "markdown",
   "metadata": {
    "collapsed": true
   },
   "source": [
    "### How many leading roles (n=1) were available from the beginning of film history through 1980?"
   ]
  },
  {
   "cell_type": "code",
   "execution_count": 266,
   "metadata": {
    "collapsed": true
   },
   "outputs": [],
   "source": [
    "leadsbefore1980 = cast[(cast.year <= 1980) & (cast.n == 1)]"
   ]
  },
  {
   "cell_type": "code",
   "execution_count": 268,
   "metadata": {
    "collapsed": false
   },
   "outputs": [
    {
     "data": {
      "text/plain": [
       "64457"
      ]
     },
     "execution_count": 268,
     "metadata": {},
     "output_type": "execute_result"
    }
   ],
   "source": [
    "leadsbefore1980.n.count()"
   ]
  },
  {
   "cell_type": "markdown",
   "metadata": {
    "collapsed": true
   },
   "source": [
    "### How many non-leading roles were available through from the beginning of film history through 1980?"
   ]
  },
  {
   "cell_type": "code",
   "execution_count": 269,
   "metadata": {
    "collapsed": true
   },
   "outputs": [],
   "source": [
    "nonleadsbefore1980 = cast[(cast.year <= 1980) & (cast.n != 1)]"
   ]
  },
  {
   "cell_type": "code",
   "execution_count": 271,
   "metadata": {
    "collapsed": false
   },
   "outputs": [
    {
     "data": {
      "text/plain": [
       "661939"
      ]
     },
     "execution_count": 271,
     "metadata": {},
     "output_type": "execute_result"
    }
   ],
   "source": [
    "nonleadsbefore1980.n.count()"
   ]
  },
  {
   "cell_type": "markdown",
   "metadata": {
    "collapsed": true
   },
   "source": [
    "### How many roles through 1980 were minor enough that they did not warrant a numeric \"n\" rank?"
   ]
  },
  {
   "cell_type": "code",
   "execution_count": 275,
   "metadata": {
    "collapsed": false
   },
   "outputs": [],
   "source": [
    "nanbefore1980 = cast[(cast.year <= 1980) & (cast.n.isnull())]"
   ]
  },
  {
   "cell_type": "code",
   "execution_count": 279,
   "metadata": {
    "collapsed": false
   },
   "outputs": [
    {
     "data": {
      "text/plain": [
       "442023"
      ]
     },
     "execution_count": 279,
     "metadata": {},
     "output_type": "execute_result"
    }
   ],
   "source": [
    "nanbefore1980.character.count()"
   ]
  },
  {
   "cell_type": "code",
   "execution_count": null,
   "metadata": {
    "collapsed": true
   },
   "outputs": [],
   "source": []
  }
 ],
 "metadata": {
  "kernelspec": {
   "display_name": "Python 2",
   "language": "python",
   "name": "python2"
  },
  "language_info": {
   "codemirror_mode": {
    "name": "ipython",
    "version": 2
   },
   "file_extension": ".py",
   "mimetype": "text/x-python",
   "name": "python",
   "nbconvert_exporter": "python",
   "pygments_lexer": "ipython2",
   "version": "2.7.13"
  }
 },
 "nbformat": 4,
 "nbformat_minor": 0
}
